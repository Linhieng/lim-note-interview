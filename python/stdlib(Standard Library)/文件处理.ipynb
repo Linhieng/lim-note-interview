{
 "cells": [
  {
   "cell_type": "markdown",
   "metadata": {},
   "source": [
    "## `with open('input.txt', 'r') as file` "
   ]
  },
  {
   "cell_type": "code",
   "execution_count": null,
   "metadata": {},
   "outputs": [],
   "source": [
    "# 使用 with 语句打开名为 fileinput.txt 的文件，并以只读模式 (\"r\") 读取文件\n",
    "with open(\"fileinput.txt\", \"r\") as file:\n",
    "    lines = file.readlines()\n",
    "num = int(lines[0].strip()) # 一行一个数\n",
    "nums = list(map(int, lines[1].strip().split())) # 一行多个数字"
   ]
  },
  {
   "cell_type": "markdown",
   "metadata": {},
   "source": [
    "## shutil"
   ]
  },
  {
   "attachments": {},
   "cell_type": "markdown",
   "metadata": {},
   "source": [
    "```py\n",
    "import shutil\n",
    "\n",
    "# 拷贝文件，将源文件拷贝到目标路径下，并且保留文件名\n",
    "shutil.copy('/path/to/source/file', '/path/to/destination')\n",
    "\n",
    "# 拷贝文件，将源文件拷贝到目标路径下，并指定新的文件名\n",
    "shutil.copy('/path/to/source/file', '/path/to/destination/new_file_name')\n",
    "```"
   ]
  },
  {
   "attachments": {},
   "cell_type": "markdown",
   "metadata": {},
   "source": [
    "## 案例"
   ]
  },
  {
   "cell_type": "code",
   "execution_count": null,
   "metadata": {},
   "outputs": [],
   "source": [
    "import os\n",
    "\n",
    "current_directory = os.getcwd()\n",
    "print(current_directory)\n",
    "\n",
    "# 列出当前文件夹中的所有文件\n",
    "files = os.listdir('./')\n",
    "\n",
    "for file in files:\n",
    "    if file.endswith(\"（自动生成）.srt\"):\n",
    "        # 构建新的文件名\n",
    "        new_file_name = file.replace(\"（自动生成）.srt\", \".srt\")\n",
    "        # 重命名文件\n",
    "        os.rename(file, new_file_name)\n"
   ]
  }
 ],
 "metadata": {
  "kernelspec": {
   "display_name": "Python 3",
   "language": "python",
   "name": "python3"
  },
  "language_info": {
   "name": "python",
   "version": "3.11.0"
  },
  "orig_nbformat": 4
 },
 "nbformat": 4,
 "nbformat_minor": 2
}
