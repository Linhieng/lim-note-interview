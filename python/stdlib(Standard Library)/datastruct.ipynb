{
 "cells": [
  {
   "attachments": {},
   "cell_type": "markdown",
   "metadata": {},
   "source": [
    "# 哈希表"
   ]
  },
  {
   "cell_type": "code",
   "execution_count": 2,
   "metadata": {},
   "outputs": [],
   "source": [
    "# 注意, 添加近 set 的内容必须是可以 hash 的, 而 list 是无法 hash 的\n",
    "s = set()\n",
    "# s.add([1, 2]) ❌"
   ]
  },
  {
   "cell_type": "code",
   "execution_count": 14,
   "metadata": {},
   "outputs": [
    {
     "name": "stdout",
     "output_type": "stream",
     "text": [
      "{1}\n",
      "set()\n"
     ]
    }
   ],
   "source": [
    "_set = set()\n",
    "_set.add(1)\n",
    "if 1 in _set:\n",
    "    print(_set)\n",
    "    _set.remove(1)\n",
    "print(_set)\n"
   ]
  },
  {
   "attachments": {},
   "cell_type": "markdown",
   "metadata": {},
   "source": [
    "## Map\n",
    "\n",
    "注意判断是否存在该键时, 要使用 `in` 判断, 而不是 `is None`"
   ]
  },
  {
   "cell_type": "code",
   "execution_count": 3,
   "metadata": {},
   "outputs": [
    {
     "name": "stdout",
     "output_type": "stream",
     "text": [
      "3\n",
      "{}\n",
      "{None: None}\n",
      "False\n"
     ]
    }
   ],
   "source": [
    "# 创建\n",
    "_map = {}\n",
    "_map[1] = 2\n",
    "\n",
    "# 修改\n",
    "_map[1] = 3\n",
    "\n",
    "# 删除\n",
    "print(_map.pop(1))\n",
    "\n",
    "# 查找, 不存在也会为 None\n",
    "print(_map) \n",
    "_map[None] = None\n",
    "print(_map) \n",
    "_map.get(None)\n",
    "\n",
    "# 判断\n",
    "if _map.get(1) is None:\n",
    "    print(1 in _map)"
   ]
  },
  {
   "cell_type": "code",
   "execution_count": 5,
   "metadata": {},
   "outputs": [
    {
     "data": {
      "text/plain": [
       "{1}"
      ]
     },
     "execution_count": 5,
     "metadata": {},
     "output_type": "execute_result"
    }
   ],
   "source": [
    "from collections import defaultdict\n",
    "a = defaultdict(set)\n",
    "a[0].add(1)\n",
    "a[0].add(1)\n",
    "a[0]"
   ]
  },
  {
   "cell_type": "code",
   "execution_count": 8,
   "metadata": {},
   "outputs": [
    {
     "name": "stdout",
     "output_type": "stream",
     "text": [
      "0\n",
      "123\n"
     ]
    }
   ],
   "source": [
    "# 使用 defaultdict 可以在访问不存在的值时, 返回默认值\n",
    "from collections import defaultdict\n",
    "\n",
    "d = defaultdict(int) #  int, list, set\n",
    "print(d['a'])  # 输出: 0\n",
    "\n",
    "# 想要指定返回值时, 可以使用函数\n",
    "def f():\n",
    "    return '123'\n",
    "d = defaultdict(f)\n",
    "print(d['a'])"
   ]
  },
  {
   "attachments": {},
   "cell_type": "markdown",
   "metadata": {},
   "source": [
    "# 有序表"
   ]
  },
  {
   "cell_type": "code",
   "execution_count": 5,
   "metadata": {},
   "outputs": [
    {
     "name": "stdout",
     "output_type": "stream",
     "text": [
      "[3, 1]\n",
      "[2, 2]\n",
      "[1, 3]\n"
     ]
    }
   ],
   "source": [
    "from queue import  PriorityQueue\n",
    "\n",
    "class MyObject:\n",
    "    def __init__(self, a, b):\n",
    "        self.val = [a,b]\n",
    "\n",
    "    def __lt__(self, other):\n",
    "        # 定义对象之间的比较规则: 从小到大\n",
    "        return self.val[1] < other.val[1]\n",
    "\n",
    "# 创建一个 PriorityQueue 对象\n",
    "pq = PriorityQueue()\n",
    "\n",
    "# 创建一些对象并添加到优先级队列中\n",
    "pq.put(MyObject(1, 3))\n",
    "pq.put(MyObject(2, 2))\n",
    "pq.put(MyObject(3, 1))\n",
    "\n",
    "# 从优先级队列中取出对象\n",
    "while not pq.empty():\n",
    "    print(pq.get().val)"
   ]
  },
  {
   "cell_type": "code",
   "execution_count": 2,
   "metadata": {},
   "outputs": [
    {
     "data": {
      "text/plain": [
       "[2, 5, 7]"
      ]
     },
     "execution_count": 2,
     "metadata": {},
     "output_type": "execute_result"
    }
   ],
   "source": [
    "import heapq\n",
    "\n",
    "heap = []\n",
    "\n",
    "heapq.heappush(heap, 5)\n",
    "heapq.heappush(heap, 2)\n",
    "heapq.heappush(heap, 7)\n",
    "\n",
    "heap"
   ]
  },
  {
   "attachments": {},
   "cell_type": "markdown",
   "metadata": {},
   "source": [
    "## 队列"
   ]
  },
  {
   "attachments": {},
   "cell_type": "markdown",
   "metadata": {},
   "source": [
    "queue 中的 Queue 可以创建队列\n",
    "\n",
    "常见函数有:\n",
    "- `put()` 添加元素\n",
    "- `get()` 弹出元素\n",
    "- `empty()` 判断队列是否为空\n",
    "- `qsize()` 返回队列元素数量"
   ]
  },
  {
   "cell_type": "code",
   "execution_count": 2,
   "metadata": {},
   "outputs": [
    {
     "name": "stdout",
     "output_type": "stream",
     "text": [
      "1\n",
      "0\n",
      "True\n"
     ]
    }
   ],
   "source": [
    "from queue import Queue\n",
    "\n",
    "queue = Queue()\n",
    "queue.put(1)\n",
    "print(queue.get(1))\n",
    "print(queue.qsize())\n",
    "print(queue.empty())"
   ]
  },
  {
   "cell_type": "markdown",
   "metadata": {},
   "source": [
    "利用数组也可以实现队列"
   ]
  },
  {
   "cell_type": "code",
   "execution_count": 2,
   "metadata": {},
   "outputs": [
    {
     "name": "stdout",
     "output_type": "stream",
     "text": [
      "1\n",
      "[2, 3]\n",
      "[2, 3, 4]\n"
     ]
    }
   ],
   "source": [
    "queue = [1,2,3]\n",
    "print(queue.pop(0))\n",
    "print(queue)\n",
    "queue.append(4)\n",
    "print(queue)"
   ]
  }
 ],
 "metadata": {
  "kernelspec": {
   "display_name": "Python 3",
   "language": "python",
   "name": "python3"
  },
  "language_info": {
   "codemirror_mode": {
    "name": "ipython",
    "version": 3
   },
   "file_extension": ".py",
   "mimetype": "text/x-python",
   "name": "python",
   "nbconvert_exporter": "python",
   "pygments_lexer": "ipython3",
   "version": "3.11.0"
  },
  "orig_nbformat": 4
 },
 "nbformat": 4,
 "nbformat_minor": 2
}
