{
 "cells": [
  {
   "attachments": {},
   "cell_type": "markdown",
   "metadata": {},
   "source": [
    "functools 模块"
   ]
  },
  {
   "attachments": {},
   "cell_type": "markdown",
   "metadata": {},
   "source": [
    "## cmp_to_key\n",
    "\n",
    "可用于定义比较器"
   ]
  },
  {
   "cell_type": "code",
   "execution_count": 5,
   "metadata": {},
   "outputs": [
    {
     "name": "stdout",
     "output_type": "stream",
     "text": [
      "[12, 86, 45, 1, 7, 83, 64, 95, 72, 71]\n",
      "[95, 86, 83, 72, 71, 64, 45, 12, 7, 1]\n",
      "[1, 7, 12, 45, 64, 71, 72, 83, 86, 95]\n"
     ]
    }
   ],
   "source": [
    "from functools import cmp_to_key\n",
    "import random\n",
    "\n",
    "\n",
    "def cmp(a, b):\n",
    "    return b-a\n",
    "\n",
    "\n",
    "arr = [random.randint(1, 100) for _ in range(10)]\n",
    "print(arr)\n",
    "\n",
    "sort_arr = sorted(arr, key=cmp_to_key(cmp))\n",
    "print(sort_arr)\n",
    "\n",
    "sort_arr = sorted(arr, key=cmp_to_key(lambda a, b: a-b))\n",
    "print(sort_arr)\n"
   ]
  }
 ],
 "metadata": {
  "kernelspec": {
   "display_name": "Python 3",
   "language": "python",
   "name": "python3"
  },
  "language_info": {
   "codemirror_mode": {
    "name": "ipython",
    "version": 3
   },
   "file_extension": ".py",
   "mimetype": "text/x-python",
   "name": "python",
   "nbconvert_exporter": "python",
   "pygments_lexer": "ipython3",
   "version": "3.11.0"
  },
  "orig_nbformat": 4
 },
 "nbformat": 4,
 "nbformat_minor": 2
}
