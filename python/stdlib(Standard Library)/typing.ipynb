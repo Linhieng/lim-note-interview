{
 "cells": [
  {
   "attachments": {},
   "cell_type": "markdown",
   "metadata": {},
   "source": [
    "# Python 类型提示\n",
    "\n",
    "如果没有对应的插件, 类型出错时并不会报错。"
   ]
  },
  {
   "attachments": {},
   "cell_type": "markdown",
   "metadata": {},
   "source": [
    "`typing` 模块有常用类型:\n",
    "- `List`\n",
    "- `Set`\n",
    "- `Mapping`"
   ]
  },
  {
   "cell_type": "code",
   "execution_count": 8,
   "metadata": {},
   "outputs": [
    {
     "name": "stdout",
     "output_type": "stream",
     "text": [
      "[1] {1: '1'} {'1'}\n"
     ]
    }
   ],
   "source": [
    "from typing import List, Mapping, Set\n",
    "\n",
    "\n",
    "def f(arr: List[int] = [1], m: Mapping[int, str] = {1: '1'}, s: Set[str] = set()):\n",
    "    s.add('1')\n",
    "    print(arr, m, s)\n",
    "\n",
    "\n",
    "f()\n"
   ]
  }
 ],
 "metadata": {
  "kernelspec": {
   "display_name": "Python 3",
   "language": "python",
   "name": "python3"
  },
  "language_info": {
   "codemirror_mode": {
    "name": "ipython",
    "version": 3
   },
   "file_extension": ".py",
   "mimetype": "text/x-python",
   "name": "python",
   "nbconvert_exporter": "python",
   "pygments_lexer": "ipython3",
   "version": "3.11.0"
  },
  "orig_nbformat": 4
 },
 "nbformat": 4,
 "nbformat_minor": 2
}
