{
 "cells": [
  {
   "attachments": {},
   "cell_type": "markdown",
   "metadata": {},
   "source": [
    "```py\n",
    "random.randint(a, b)\n",
    "```\n",
    "其中:\n",
    "- `a` 和 `b` 是两个整数，表示生成的随机整数的范围为 `[a, b]`。 注意 a 不能大于 b\n",
    "- 返回值: 是一个在该范围内的随机整数。"
   ]
  },
  {
   "attachments": {},
   "cell_type": "markdown",
   "metadata": {},
   "source": [
    "下面这段代码可以随机生成100个范围在100-200之间的随机整数\n",
    "```py\n",
    "import random\n",
    "numbers = [random.randint(100, 200) for i in range(100)]\n",
    "```\n",
    "- `numbers`：这是我们要生成的包含100个随机整数的列表。\n",
    "- `random.randint(100, 200)`：这是我们使用的函数，它将生成一个介于100和200之间的随机整数。\n",
    "- `[...]`：这是Python中的列表推导式语法。它允许我们在一行代码中创建一个新的列表，并基于已有的数据进行转换或筛选。\n",
    "- `for i in range(100)`：这是一个循环语句，它将运行100次。在每次迭代中，我们将生成一个新的随机整数，并将其添加到列表中。"
   ]
  },
  {
   "cell_type": "markdown",
   "metadata": {},
   "source": [
    "## shuffle 打乱数组"
   ]
  },
  {
   "cell_type": "code",
   "execution_count": 2,
   "metadata": {},
   "outputs": [
    {
     "name": "stdout",
     "output_type": "stream",
     "text": [
      "[6, 7, 0, 5, 2, 1, 9, 4, 8, 3]\n"
     ]
    }
   ],
   "source": [
    "import random\n",
    "a = [i for i in range(10)]\n",
    "random.shuffle(a)\n",
    "print(a)"
   ]
  }
 ],
 "metadata": {
  "kernelspec": {
   "display_name": "Python 3",
   "language": "python",
   "name": "python3"
  },
  "language_info": {
   "codemirror_mode": {
    "name": "ipython",
    "version": 3
   },
   "file_extension": ".py",
   "mimetype": "text/x-python",
   "name": "python",
   "nbconvert_exporter": "python",
   "pygments_lexer": "ipython3",
   "version": "3.11.4"
  },
  "orig_nbformat": 4
 },
 "nbformat": 4,
 "nbformat_minor": 2
}
