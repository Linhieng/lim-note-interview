{
 "cells": [
  {
   "attachments": {},
   "cell_type": "markdown",
   "metadata": {},
   "source": [
    "## 处理输入"
   ]
  },
  {
   "attachments": {},
   "cell_type": "markdown",
   "metadata": {},
   "source": [
    "```py\n",
    "import sys\n",
    "# 读取第一行数据\n",
    "first_line = sys.stdin.readline()\n",
    "# 读取第一行中以空格分隔开的各个数据\n",
    "first_items = first_line.split()\n",
    "```\n",
    "\n",
    "```py \n",
    "import sys\n",
    "# 一次读取完多行数据\n",
    "for line in sys.stdin:\n",
    "    line_items = line.split()\n",
    "```"
   ]
  },
  {
   "attachments": {},
   "cell_type": "markdown",
   "metadata": {},
   "source": [
    "### ACM 模式输入模版\n",
    "\n",
    "```py\n",
    "import sys\n",
    "input = sys.stdin.readline\n",
    "\n",
    "for _ in range(行数):\n",
    "    ... = map(int, input().split())\n",
    "```"
   ]
  },
  {
   "cell_type": "code",
   "execution_count": 1,
   "metadata": {},
   "outputs": [
    {
     "data": {
      "text/plain": [
       "9223372036854775807"
      ]
     },
     "execution_count": 1,
     "metadata": {},
     "output_type": "execute_result"
    }
   ],
   "source": [
    "# 系统整数最大值\n",
    "import sys \n",
    "sys.maxsize"
   ]
  }
 ],
 "metadata": {
  "kernelspec": {
   "display_name": "Python 3",
   "language": "python",
   "name": "python3"
  },
  "language_info": {
   "codemirror_mode": {
    "name": "ipython",
    "version": 3
   },
   "file_extension": ".py",
   "mimetype": "text/x-python",
   "name": "python",
   "nbconvert_exporter": "python",
   "pygments_lexer": "ipython3",
   "version": "3.11.0"
  },
  "orig_nbformat": 4
 },
 "nbformat": 4,
 "nbformat_minor": 2
}
