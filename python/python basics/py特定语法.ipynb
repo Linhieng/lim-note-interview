{
 "cells": [
  {
   "cell_type": "markdown",
   "metadata": {},
   "source": [
    "## 最大值最小值"
   ]
  },
  {
   "cell_type": "code",
   "execution_count": 1,
   "metadata": {},
   "outputs": [
    {
     "name": "stdout",
     "output_type": "stream",
     "text": [
      "inf -inf\n"
     ]
    }
   ],
   "source": [
    "max_val = float('inf')\n",
    "min_val = float('-inf')\n",
    "print(max_val, min_val)"
   ]
  },
  {
   "cell_type": "markdown",
   "metadata": {},
   "source": [
    "## 位运算"
   ]
  },
  {
   "cell_type": "code",
   "execution_count": 29,
   "metadata": {},
   "outputs": [
    {
     "name": "stdout",
     "output_type": "stream",
     "text": [
      "True\n",
      "True\n",
      "True\n",
      "True\n"
     ]
    }
   ],
   "source": [
    "# 左移 4 位\n",
    "i = 0xFFFF\n",
    "i = i << 4 & 0xFFFF\n",
    "print(i == 0xFFF0)\n",
    "\n",
    "# 无符号右移 4 位（右移补 0 ）\n",
    "i = 0xFFFF\n",
    "i >>= 4\n",
    "print(i == 0x0FFF)\n",
    "\n",
    "# 求反运算\n",
    "i = 0xFF00\n",
    "i = ~i & 0xFFFF\n",
    "print(i == 0x00FF)\n",
    "\n",
    "# 右移补 1\n",
    "i = 0x00F0\n",
    "i = ~i & 0xFFFF\n",
    "i >>= 4\n",
    "i = ~i & 0xFFFF\n",
    "print(i == 0xF00F)"
   ]
  },
  {
   "cell_type": "markdown",
   "metadata": {},
   "source": [
    "## 切片\n",
    "\n",
    "语法： `start:end:step`\n",
    "- `start`：表示切片的起始位置（包含该位置的元素）。如果未指定，则默认为索引 0。\n",
    "- `end`：表示切片的结束位置（不包含该位置的元素）。如果未指定，则默认为切片对象的长度。\n",
    "- `step`：表示切片的步长，即每次迭代之间的间隔。如果未指定，则默认为 1。 指定为 `-1` 逆向遍历。"
   ]
  },
  {
   "cell_type": "code",
   "execution_count": 14,
   "metadata": {},
   "outputs": [
    {
     "name": "stdout",
     "output_type": "stream",
     "text": [
      "[1, 2, 3, 4, 8, 7, 6, 5, 9, 10]\n"
     ]
    }
   ],
   "source": [
    "# 反转数组的第5到第8个元素\n",
    "a = [1, 2, 3, 4, 5, 6, 7, 8, 9, 10]\n",
    "a[4:8] = a[4:8][::-1]\n",
    "print(a)"
   ]
  },
  {
   "cell_type": "code",
   "execution_count": 25,
   "metadata": {},
   "outputs": [
    {
     "name": "stdout",
     "output_type": "stream",
     "text": [
      "[1, 2, 3, 4, 10, 9, 8, 7, 6, 5]\n"
     ]
    }
   ],
   "source": [
    "# 从下标 4 (包含本身) 开始反转\n",
    "a = [1, 2, 3, 4, 5, 6, 7, 8, 9, 10]\n",
    "a[4:] = a[4:][::-1]\n",
    "print(a)"
   ]
  },
  {
   "cell_type": "markdown",
   "metadata": {},
   "source": [
    "## 内置常用函数"
   ]
  },
  {
   "cell_type": "code",
   "execution_count": 2,
   "metadata": {},
   "outputs": [
    {
     "name": "stdout",
     "output_type": "stream",
     "text": [
      "97\n",
      "a\n"
     ]
    }
   ],
   "source": [
    "print(ord('a')) # 字符转 ASCII\n",
    "print(chr(97)) # ASCII 转字符"
   ]
  },
  {
   "cell_type": "markdown",
   "metadata": {},
   "source": [
    "## 对象的魔法方法\n",
    "\n",
    "在 Python 中，以双下划线（__）开头和结尾的特殊方法（也称为魔术方法或魔法方法）用于实现对象的特定行为，例如运算符重载、自定义对象的比较、容器类型操作等。这些特殊方法的名称具有特殊的含义，并且由 Python 解释器在特定情况下自动调用。\n",
    "\n",
    "常见的以双下划线开头和结尾的特殊方法有：\n",
    "\n",
    "- `__init__`: 初始化方法，在创建对象时调用，用于初始化对象的属性。\n",
    "- `__str__`: 字符串表示方法，在使用print()函数或str()函数时调用，返回对象的字符串表示。\n",
    "- `__repr__`: 用于获取对象的“官方”字符串表示，一般用于调试和开发目的。\n",
    "- `__add__`: 定义加法运算，使用+符号时调用。\n",
    "- `__sub__`: 定义减法运算，使用-符号时调用。\n",
    "- `__mul__`: 定义乘法运算，使用*符号时调用。\n",
    "- `__div__`: 定义除法运算，使用/符号时调用。\n",
    "- `__lt__`: 定义小于运算，使用<符号时调用。\n",
    "- `__le__`: 定义小于等于运算，使用<=符号时调用。\n",
    "- `__gt__`: 定义大于运算，使用>符号时调用。\n",
    "- `__ge__`: 定义大于等于运算，使用>=符号时调用。\n",
    "- `__eq__`: 定义等于运算，使用==符号时调用。\n",
    "- `__ne__`: 定义不等于运算，使用!=符号时调用。\n",
    "- `__len__`: 定义获取对象长度，使用len()函数时调用。\n",
    "- `__getitem__`: 定义获取元素，使用索引或切片时调用。\n",
    "- `__setitem__`: 定义设置元素，使用索引或切片进行赋值时调用。\n",
    "- `__delitem__`: 定义删除元素，使用del关键字时调用。\n",
    "- `__iter__`: 定义迭代器，允许对象进行迭代。\n",
    "- `__next__`: 定义迭代器的下一个元素，配合__iter__使用。"
   ]
  },
  {
   "attachments": {},
   "cell_type": "markdown",
   "metadata": {},
   "source": [
    "## 运算符"
   ]
  },
  {
   "attachments": {},
   "cell_type": "markdown",
   "metadata": {},
   "source": [
    "- `a /= b`: 这样会是小数\n",
    "- `a //= b`: 这样会是整数, 等同于 `a = int(a/b)`"
   ]
  },
  {
   "cell_type": "code",
   "execution_count": 3,
   "metadata": {},
   "outputs": [
    {
     "name": "stdout",
     "output_type": "stream",
     "text": [
      "1.5 1\n"
     ]
    }
   ],
   "source": [
    "a = 3\n",
    "b = 2\n",
    "print(a / b, a//b)"
   ]
  },
  {
   "attachments": {},
   "cell_type": "markdown",
   "metadata": {},
   "source": [
    "## 反转数组"
   ]
  },
  {
   "cell_type": "code",
   "execution_count": 2,
   "metadata": {},
   "outputs": [
    {
     "data": {
      "text/plain": [
       "'321'"
      ]
     },
     "execution_count": 2,
     "metadata": {},
     "output_type": "execute_result"
    }
   ],
   "source": [
    "a = '123'\n",
    "a[::-1]"
   ]
  },
  {
   "cell_type": "code",
   "execution_count": 1,
   "metadata": {},
   "outputs": [
    {
     "name": "stdout",
     "output_type": "stream",
     "text": [
      "[4, 3, 2, 1]\n",
      "[1, 2, 3, 4]\n"
     ]
    }
   ],
   "source": [
    "a = [1,2,3,4]\n",
    "print(a[::-1])\n",
    "print(a)"
   ]
  },
  {
   "attachments": {},
   "cell_type": "markdown",
   "metadata": {},
   "source": [
    "## 处理数组每一个元素"
   ]
  },
  {
   "attachments": {},
   "cell_type": "markdown",
   "metadata": {},
   "source": [
    "```py \n",
    "map(int, ...) \n",
    "```\n",
    "py 内置函数 `map()`，它接受一个函数和一个可迭代对象作为参数，将该函数应用于可迭代对象的每个元素，返回一个包含结果的迭代器。"
   ]
  },
  {
   "cell_type": "code",
   "execution_count": 6,
   "metadata": {},
   "outputs": [
    {
     "name": "stdout",
     "output_type": "stream",
     "text": [
      "1 2 3 <class 'int'> <class 'int'> <class 'int'>\n"
     ]
    }
   ],
   "source": [
    "a, b, c = map(int, ['1', '2', '3'])\n",
    "print(a,b,c,type(a),type(b),type(c))"
   ]
  },
  {
   "attachments": {},
   "cell_type": "markdown",
   "metadata": {},
   "source": [
    "## 指定排序规则"
   ]
  },
  {
   "cell_type": "code",
   "execution_count": 13,
   "metadata": {},
   "outputs": [
    {
     "data": {
      "text/plain": [
       "[[1, 3, 'A'], [2, 2, 'B'], [3, 1, 'C']]"
      ]
     },
     "execution_count": 13,
     "metadata": {},
     "output_type": "execute_result"
    }
   ],
   "source": [
    "# 指定以第几个元素进行排序, 默认从小到大排序, 如果想要从大到小排序, 可以使用 0-\n",
    "a = [ [1, 3, 'A'], [2, 2, 'B'], [3, 1, 'C'], ]\n",
    "ordered_a = sorted(a, key=lambda x: 0-x[1])\n",
    "ordered_a"
   ]
  },
  {
   "cell_type": "code",
   "execution_count": 3,
   "metadata": {},
   "outputs": [
    {
     "data": {
      "text/plain": [
       "[[3, 1, 'C'], [3, 2, 'B'], [1, 3, 'A']]"
      ]
     },
     "execution_count": 3,
     "metadata": {},
     "output_type": "execute_result"
    }
   ],
   "source": [
    "# 可以利用比较器指定排序规则\n",
    "from functools import cmp_to_key\n",
    "\n",
    "a = [\n",
    "    [1, 3, 'A'],\n",
    "    [3, 2, 'B'],\n",
    "    [3, 1, 'C'],\n",
    "]\n",
    "ordered_a = sorted(a, key=cmp_to_key(lambda a, b: a[1]-b[1]))\n",
    "ordered_a"
   ]
  },
  {
   "attachments": {},
   "cell_type": "markdown",
   "metadata": {},
   "source": [
    "## 拼接数组元素"
   ]
  },
  {
   "cell_type": "code",
   "execution_count": 1,
   "metadata": {},
   "outputs": [
    {
     "name": "stdout",
     "output_type": "stream",
     "text": [
      "1, 2, 3\n"
     ]
    }
   ],
   "source": [
    "# 只能拼接字符串数组\n",
    "a = ['1', '2', '3']\n",
    "print( ', '.join(a) )"
   ]
  },
  {
   "cell_type": "code",
   "execution_count": 4,
   "metadata": {},
   "outputs": [
    {
     "name": "stdout",
     "output_type": "stream",
     "text": [
      "1, 2, 3\n"
     ]
    }
   ],
   "source": [
    "# 非字符串可以使用推导式来拼接\n",
    "a =[1,2,3]\n",
    "print(', '.join(str(i) for i in a))"
   ]
  },
  {
   "attachments": {},
   "cell_type": "markdown",
   "metadata": {},
   "source": [
    "## 异常处理\n",
    "\n",
    "抛出错误:\n",
    "```py\n",
    "raise Exception('抛开事实不谈,难道你就没有错吗?')\n",
    "```\n",
    "\n",
    "捕获错误:\n",
    "```py \n",
    "try:\n",
    "    # 执行代码\n",
    "except:\n",
    "    # 出现错误时执行\n",
    "else:\n",
    "    # 没有错误时执行\n",
    "finally:\n",
    "    # 始终执行\n",
    "```"
   ]
  },
  {
   "attachments": {},
   "cell_type": "markdown",
   "metadata": {},
   "source": [
    "内置的异常类\n",
    "\n",
    "-`Exception`: 这是所有内置异常类的基类，可以用于捕获和处理任何类型的异常。\n",
    "\n",
    "-`TypeError`: 当操作或函数应用于不适当类型的对象时引发的异常。\n",
    "\n",
    "-`ValueError`: 当操作或函数应用于具有正确类型但具有无效值的对象时引发的异常。\n",
    "\n",
    "-`IndexError`: 当尝试访问列表、元组或其他序列中不存在的索引时引发的异常。\n",
    "\n",
    "-`KeyError`: 当尝试使用字典中不存在的键时引发的异常。\n",
    "\n",
    "-`FileNotFoundError`: 当尝试打开不存在的文件时引发的异常。\n",
    "\n",
    "-`IOError`: 当发生与输入/输出操作相关的错误时引发的异常。\n",
    "\n",
    "-`NameError`: 当尝试访问未定义的变量或函数时引发的异常。\n",
    "\n",
    "-`ZeroDivisionError`: 当除法或取模运算的第二个操作数为零时引发的异常。\n",
    "\n",
    "-`AttributeError`: 当尝试访问对象上不存在的属性或方法时引发的异常。"
   ]
  },
  {
   "cell_type": "code",
   "execution_count": 3,
   "metadata": {},
   "outputs": [
    {
     "ename": "Exception",
     "evalue": "抛开事实不谈,难道你就没有错吗?",
     "output_type": "error",
     "traceback": [
      "\u001b[1;31m---------------------------------------------------------------------------\u001b[0m",
      "\u001b[1;31mException\u001b[0m                                 Traceback (most recent call last)",
      "\u001b[1;32mc:\\Users\\Public\\GithubCode\\学习新知识过程中的代码\\learn-py\\python basics\\py特定语法.ipynb Cell 3\u001b[0m in \u001b[0;36m1\n\u001b[1;32m----> <a href='vscode-notebook-cell:/c%3A/Users/Public/GithubCode/%E5%AD%A6%E4%B9%A0%E6%96%B0%E7%9F%A5%E8%AF%86%E8%BF%87%E7%A8%8B%E4%B8%AD%E7%9A%84%E4%BB%A3%E7%A0%81/learn-py/python%20basics/py%E7%89%B9%E5%AE%9A%E8%AF%AD%E6%B3%95.ipynb#W2sZmlsZQ%3D%3D?line=0'>1</a>\u001b[0m \u001b[39mraise\u001b[39;00m \u001b[39mException\u001b[39;00m(\u001b[39m'\u001b[39m\u001b[39m抛开事实不谈,难道你就没有错吗?\u001b[39m\u001b[39m'\u001b[39m)\n",
      "\u001b[1;31mException\u001b[0m: 抛开事实不谈,难道你就没有错吗?"
     ]
    }
   ],
   "source": [
    "raise Exception('抛开事实不谈,难道你就没有错吗?')"
   ]
  },
  {
   "cell_type": "code",
   "execution_count": 6,
   "metadata": {},
   "outputs": [
    {
     "name": "stdout",
     "output_type": "stream",
     "text": [
      "捕获到自定义错误: 除数不能为零\n"
     ]
    }
   ],
   "source": [
    "class CustomError(Exception):\n",
    "    pass\n",
    "\n",
    "def divide(a, b):\n",
    "    if b == 0:\n",
    "        raise CustomError(\"除数不能为零\")\n",
    "    return a / b\n",
    "\n",
    "try:\n",
    "    result = divide(10, 0)\n",
    "except CustomError as e:\n",
    "    print(\"捕获到自定义错误:\", str(e))\n",
    "except Exception as e:\n",
    "    print('捕获到未知错误: ', str(e))"
   ]
  },
  {
   "attachments": {},
   "cell_type": "markdown",
   "metadata": {},
   "source": [
    "## 关键字 `is`、 `not`、 `None`\n",
    "\n",
    "- py `is` 用来比较对象的内存地址, 而 `==` 比较的是值。 所以判断对象时, 要注意是判断值还是判断对象地址。\n",
    "- py 中是没有 `!` 对布尔值取反, 而是使用 `not` 关键字\n",
    "- 判断 `None`, 不要使用 `== None`, `!= None`, 要使用 `is None`, `is not None`, 原因:\n",
    "    - 准确性: 比较的值是对象时, 可能会出错。\n",
    "    - 性能: `==` 涉及到对象值, 而 `is` 直接判断内存地址, 不需要再去寻找值\n",
    "    - 习惯: 这易于理解, 而且符合Python社区的约定。\n"
   ]
  },
  {
   "cell_type": "code",
   "execution_count": 5,
   "metadata": {},
   "outputs": [
    {
     "name": "stdout",
     "output_type": "stream",
     "text": [
      "True\n",
      "False\n"
     ]
    }
   ],
   "source": [
    "# 准确性例子:\n",
    "class MyClass:\n",
    "    def __eq__(self, other):\n",
    "        return True\n",
    "\n",
    "my_obj = MyClass()\n",
    "print(my_obj == None)  # 输出: True。 因为 == 是值判断, 所以会执行 __eq__\n",
    "print(my_obj is None)  # 输出: False。 "
   ]
  },
  {
   "attachments": {},
   "cell_type": "markdown",
   "metadata": {},
   "source": [
    "## 创建指定长度 list(数组)"
   ]
  },
  {
   "cell_type": "code",
   "execution_count": 5,
   "metadata": {},
   "outputs": [
    {
     "name": "stdout",
     "output_type": "stream",
     "text": [
      "0\n",
      "1\n"
     ]
    }
   ],
   "source": [
    "# 一个一个添加的方式\n",
    "arr = []\n",
    "# arr[0] ❌\n",
    "print(len(arr))\n",
    "arr.append(1) # ✔️\n",
    "print(len(arr))"
   ]
  },
  {
   "cell_type": "code",
   "execution_count": 17,
   "metadata": {},
   "outputs": [
    {
     "data": {
      "text/plain": [
       "[0, 1, 2, 3, 4, 5, 6, 7, 8, 9]"
      ]
     },
     "execution_count": 17,
     "metadata": {},
     "output_type": "execute_result"
    }
   ],
   "source": [
    "# 一次性创建的方式, 同时每个元素值递增\n",
    "arr = list(range(10))\n",
    "arr"
   ]
  },
  {
   "cell_type": "code",
   "execution_count": 4,
   "metadata": {},
   "outputs": [
    {
     "data": {
      "text/plain": [
       "100"
      ]
     },
     "execution_count": 4,
     "metadata": {},
     "output_type": "execute_result"
    }
   ],
   "source": [
    "# 一次性创建的方式, 同时每个值为 0\n",
    "arr = [0] * 100\n",
    "len(arr)"
   ]
  },
  {
   "cell_type": "code",
   "execution_count": null,
   "metadata": {},
   "outputs": [],
   "source": [
    "# 如果元素是对象, 则不能使用 * 号进行一次性创建, 这样创建的数组, 每个元素的对象地址都是相同的\n",
    "# sets = [ set() ] * 5 ❌\n",
    "sets = [ set() for _ in range(5) ] # ✔️"
   ]
  },
  {
   "attachments": {},
   "cell_type": "markdown",
   "metadata": {},
   "source": [
    "## 格式化数字和字符串\n",
    "\n",
    "主要有三种方式\n",
    "- `%` 格式化\n",
    "- `format()` 格式化\n",
    "- `f'{:}'` 格式化\n",
    "\n",
    "`{:格式说明符}`, 格式说明符有:\n",
    "- 对齐, 用 `<`, `^`, `>` 分别表示左对齐、居中对齐、右对齐。\n",
    "- 宽度：表示输出的最小宽度，比如 `{:5}` 表示输出最少占五个字符的空间。\n",
    "- 填充：用任意字符来填充输出的空位，比如 `{:0>8}` 表示用 0 来填充，使得输出最少占八个字符的空间。\n",
    "- 精度：对于浮点数，可以使用 `{:.2f}` 这样的格式说明符，表示保留两位小数。 使用 `{:,}` 可以为数字添加逗号分割数\n",
    "- 类型: 比如 `f` 就是浮点数, `%` 是百分数, `d` 是整数, `e` 是指数 "
   ]
  },
  {
   "cell_type": "code",
   "execution_count": 3,
   "metadata": {},
   "outputs": [
    {
     "name": "stdout",
     "output_type": "stream",
     "text": [
      "My name is Alice and I'm 25   years old.\n"
     ]
    }
   ],
   "source": [
    "name = \"Alice\"\n",
    "age = 25\n",
    "print(\"My name is %s and I'm %-4d years old.\" % (name, age))"
   ]
  },
  {
   "cell_type": "code",
   "execution_count": 4,
   "metadata": {},
   "outputs": [
    {
     "name": "stdout",
     "output_type": "stream",
     "text": [
      "The value of x is 987.65\n"
     ]
    }
   ],
   "source": [
    "x = 987.654\n",
    "print(\"The value of x is {:.2f}\".format(x))"
   ]
  },
  {
   "cell_type": "code",
   "execution_count": 5,
   "metadata": {},
   "outputs": [
    {
     "name": "stdout",
     "output_type": "stream",
     "text": [
      "The value of x is 987.65\n"
     ]
    }
   ],
   "source": [
    "x = 987.654\n",
    "print(f'The value of x is {x:.2f}')"
   ]
  },
  {
   "cell_type": "code",
   "execution_count": 19,
   "metadata": {},
   "outputs": [
    {
     "name": "stdout",
     "output_type": "stream",
     "text": [
      "I am ___25.00 years old, and my name is Alice-----. | 12,345,678 | 2% | 1.235e+07\n"
     ]
    }
   ],
   "source": [
    "name = \"Alice\"\n",
    "age = 25\n",
    "a = 12345678\n",
    "b = 0.02\n",
    "print(f'I am {age:_>8.2f} years old, and my name is {name:-<10}. | {a:,} | {b:.0%} | {a:.3e}')"
   ]
  },
  {
   "attachments": {},
   "cell_type": "markdown",
   "metadata": {},
   "source": [
    "## 解包\n",
    "\n",
    "使用 `*` 可以解包"
   ]
  },
  {
   "cell_type": "code",
   "execution_count": 2,
   "metadata": {},
   "outputs": [
    {
     "name": "stdout",
     "output_type": "stream",
     "text": [
      "1 2 3\n"
     ]
    }
   ],
   "source": [
    "my_list = [1, 2, 3]\n",
    "print(*my_list)"
   ]
  },
  {
   "cell_type": "code",
   "execution_count": 5,
   "metadata": {},
   "outputs": [
    {
     "name": "stdout",
     "output_type": "stream",
     "text": [
      "(1, 2, 3)\n",
      "1 2 3 "
     ]
    }
   ],
   "source": [
    "def my_func(*args):\n",
    "    print(args)\n",
    "    for arg in args:\n",
    "        print(arg, end=' ')\n",
    "my_func(1, 2, 3)"
   ]
  },
  {
   "attachments": {},
   "cell_type": "markdown",
   "metadata": {},
   "source": [
    "## 循环\n",
    "\n",
    "```py\n",
    "for 变量 in 序列:\n",
    "    # 执行代码块\n",
    "```\n",
    "\n",
    "```py\n",
    "while 条件表达式:\n",
    "    # 条件表达式为真则执行代码块\n",
    "```\n",
    "\n",
    "for 循环中的 `序列` 可以是任何可迭代对象，包括列表(list)、元组(tuple)、字符串(str)、字典(dict)、集合(set)等。\n",
    "\n",
    "for 循环中的 `变量` 对应序列中的每个元素。 当使用 **序列解包(Sequence Unpacking)** 时, 序列中的元素可以赋值个多个变量\n"
   ]
  },
  {
   "attachments": {},
   "cell_type": "markdown",
   "metadata": {},
   "source": [
    "### 1 `range()` 常用于生成 for 循环的序列\n",
    "\n",
    "```py\n",
    "range(stop)\n",
    "range(start, stop[, step])\n",
    "```\n",
    "其中：\n",
    "\n",
    "- `stop`: 生成的整数序列终止值（不包含）。\n",
    "- `start`: 生成的整数序列起始值（包含，默认为 0）。\n",
    "- `step`: 整数序列的步长大小（默认为 1）。"
   ]
  },
  {
   "attachments": {},
   "cell_type": "markdown",
   "metadata": {},
   "source": [
    "### 2 `enumerate()` 用于迭代序列时跟踪索引\n",
    "\n",
    "```py\n",
    "enumerate(sequence, start=0)\n",
    "```\n",
    "\n",
    "其中:\n",
    "- `sequence`: 要迭代的序列\n",
    "- `start`: 索引开始的值\n",
    "- 返回一个由 **索引** 和 **序列元素** 组成的枚举对象\n"
   ]
  },
  {
   "attachments": {},
   "cell_type": "markdown",
   "metadata": {},
   "source": [
    "### 3 `reversed()` 可将一个可迭代对象的反转。 可用来反向遍历数组\n",
    "\n",
    "```py\n",
    "reversed(sequence)\n",
    "```\n",
    "其中\n",
    "- `sequence` 是一个可迭代对象，可以是列表、元组、字符串等。\n",
    "- 返回反转后的迭代器。 如有需要, 可再套层 `list()` 将其转换为列表。"
   ]
  },
  {
   "cell_type": "code",
   "execution_count": 2,
   "metadata": {},
   "outputs": [
    {
     "name": "stdout",
     "output_type": "stream",
     "text": [
      "5 4 3 2 1 "
     ]
    }
   ],
   "source": [
    "a = [1, 2, 3, 4, 5]\n",
    "for i in reversed(a):\n",
    "    print(i, end=' ')"
   ]
  },
  {
   "cell_type": "code",
   "execution_count": 1,
   "metadata": {},
   "outputs": [
    {
     "name": "stdout",
     "output_type": "stream",
     "text": [
      "0 1 2 3 4 "
     ]
    }
   ],
   "source": [
    "for i in range(5):\n",
    "    print(i, end=' ')"
   ]
  },
  {
   "cell_type": "code",
   "execution_count": 2,
   "metadata": {},
   "outputs": [
    {
     "name": "stdout",
     "output_type": "stream",
     "text": [
      "1 2 3 4 "
     ]
    }
   ],
   "source": [
    "for i in range(1, 5):\n",
    "    print(i, end=' ')"
   ]
  },
  {
   "cell_type": "code",
   "execution_count": 3,
   "metadata": {},
   "outputs": [
    {
     "name": "stdout",
     "output_type": "stream",
     "text": [
      "1 0 -1 -2 -3 -4 "
     ]
    }
   ],
   "source": [
    "for i in range(1, -5, -1):\n",
    "    print(i, end=' ')"
   ]
  },
  {
   "cell_type": "code",
   "execution_count": 4,
   "metadata": {},
   "outputs": [
    {
     "name": "stdout",
     "output_type": "stream",
     "text": [
      "1 2 3 4 "
     ]
    }
   ],
   "source": [
    "for i in range(1, 5):\n",
    "    print(i, end=' ')"
   ]
  },
  {
   "cell_type": "code",
   "execution_count": 5,
   "metadata": {},
   "outputs": [
    {
     "name": "stdout",
     "output_type": "stream",
     "text": [
      "Alice is female.\n",
      "Bob is male.\n",
      "Charlie is male.\n"
     ]
    }
   ],
   "source": [
    "people = [('Alice', 18, 'female'), ('Bob', 22, 'male'), ('Charlie', 25, 'male')]\n",
    "for name, _, gender in people:\n",
    "    print(f\"{name} is {gender}.\")"
   ]
  },
  {
   "cell_type": "code",
   "execution_count": 6,
   "metadata": {},
   "outputs": [
    {
     "name": "stdout",
     "output_type": "stream",
     "text": [
      "66 apple\n",
      "67 banana\n",
      "68 cherry\n"
     ]
    }
   ],
   "source": [
    "fruits = ['apple', 'banana', 'cherry']\n",
    "for index, fruit in enumerate(fruits, 66):\n",
    "    print(index, fruit)"
   ]
  }
 ],
 "metadata": {
  "kernelspec": {
   "display_name": "Python 3",
   "language": "python",
   "name": "python3"
  },
  "language_info": {
   "codemirror_mode": {
    "name": "ipython",
    "version": 3
   },
   "file_extension": ".py",
   "mimetype": "text/x-python",
   "name": "python",
   "nbconvert_exporter": "python",
   "pygments_lexer": "ipython3",
   "version": "3.11.0"
  },
  "orig_nbformat": 4
 },
 "nbformat": 4,
 "nbformat_minor": 2
}
