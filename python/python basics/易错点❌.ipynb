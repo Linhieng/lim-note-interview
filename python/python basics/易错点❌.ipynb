{
 "cells": [
  {
   "cell_type": "markdown",
   "metadata": {},
   "source": [
    "闭包函数内无法修改基本类型变量"
   ]
  },
  {
   "cell_type": "code",
   "execution_count": null,
   "metadata": {},
   "outputs": [],
   "source": [
    "def f1():\n",
    "    b = 1\n",
    "    c = [0]\n",
    "    def f2() :\n",
    "        try:\n",
    "            # 这样是不行的\n",
    "            b += 1\n",
    "        except:\n",
    "            print('❌')\n",
    "            pass\n",
    "        c[0] += 1 # 这样才可以\n",
    "    f2()\n",
    "f1()"
   ]
  }
 ],
 "metadata": {
  "language_info": {
   "name": "python"
  },
  "orig_nbformat": 4
 },
 "nbformat": 4,
 "nbformat_minor": 2
}
