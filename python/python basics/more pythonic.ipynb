{
 "cells": [
  {
   "attachments": {},
   "cell_type": "markdown",
   "metadata": {},
   "source": [
    "## 🍕 划分数据"
   ]
  },
  {
   "cell_type": "code",
   "execution_count": null,
   "metadata": {},
   "outputs": [],
   "source": [
    "import numpy as np\n",
    "\n",
    "data = np.array([[1, 2], [3, 4], [5, 6], [7, 8], [9, 10]])\n",
    "labels = np.array([0, 0, 1, 1, 1])\n",
    "\n",
    "train_data, test_data = np.split(data, [int(0.8 * len(data))])\n",
    "train_labels, test_labels = np.split(labels, [int(0.8 * len(labels))])\n",
    "print(train_data, test_data)\n",
    "print(train_labels, test_labels)"
   ]
  },
  {
   "attachments": {},
   "cell_type": "markdown",
   "metadata": {},
   "source": [
    "## 🍕 数值的区间映射/离散化"
   ]
  },
  {
   "cell_type": "code",
   "execution_count": 8,
   "metadata": {},
   "outputs": [
    {
     "name": "stdout",
     "output_type": "stream",
     "text": [
      "110.7\n"
     ]
    }
   ],
   "source": [
    "import numpy as np\n",
    "\n",
    "bins = [15, 16, 22, 25]\n",
    "labels = [110.6, 110.7, 110.8]\n",
    "\n",
    "x = 18\n",
    "y = labels[np.digitize(x, bins) -1]\n",
    "\n",
    "print(y)"
   ]
  },
  {
   "cell_type": "code",
   "execution_count": 9,
   "metadata": {},
   "outputs": [
    {
     "name": "stdout",
     "output_type": "stream",
     "text": [
      "110.7\n"
     ]
    }
   ],
   "source": [
    "import bisect\n",
    "\n",
    "bins = [15, 16, 22, 25]\n",
    "labels = [110.6, 110.7, 110.8]\n",
    "\n",
    "x = 18\n",
    "y = labels[bisect.bisect_left(bins, x) -1]\n",
    "\n",
    "print(y)"
   ]
  },
  {
   "attachments": {},
   "cell_type": "markdown",
   "metadata": {},
   "source": [
    "## 🍕 set 合并"
   ]
  },
  {
   "cell_type": "code",
   "execution_count": 30,
   "metadata": {},
   "outputs": [
    {
     "data": {
      "text/plain": [
       "{1, 2, 3, 4, 5}"
      ]
     },
     "execution_count": 30,
     "metadata": {},
     "output_type": "execute_result"
    }
   ],
   "source": [
    "a = set([1, 2])\n",
    "b = set([3, 4])\n",
    "c = set([5])\n",
    "a = list(a)\n",
    "b = list(b)\n",
    "c = list(c)\n",
    "set(a+b+c)"
   ]
  },
  {
   "cell_type": "code",
   "execution_count": 31,
   "metadata": {},
   "outputs": [
    {
     "data": {
      "text/plain": [
       "{1, 2, 3, 4, 5}"
      ]
     },
     "execution_count": 31,
     "metadata": {},
     "output_type": "execute_result"
    }
   ],
   "source": [
    "a = set([1, 2])\n",
    "b = set([3, 4])\n",
    "c = set([5])\n",
    "set(a).union(set(b), set(c))"
   ]
  },
  {
   "cell_type": "code",
   "execution_count": 32,
   "metadata": {},
   "outputs": [
    {
     "data": {
      "text/plain": [
       "{1, 2, 3, 4, 5}"
      ]
     },
     "execution_count": 32,
     "metadata": {},
     "output_type": "execute_result"
    }
   ],
   "source": [
    "a = set([1, 2])\n",
    "b = set([3, 4])\n",
    "c = set([5])\n",
    "set().union(*[a, b, c])"
   ]
  },
  {
   "cell_type": "code",
   "execution_count": 33,
   "metadata": {},
   "outputs": [
    {
     "data": {
      "text/plain": [
       "{1, 2, 3, 4, 5}"
      ]
     },
     "execution_count": 33,
     "metadata": {},
     "output_type": "execute_result"
    }
   ],
   "source": [
    "a = set([1, 2])\n",
    "b = set([3, 4])\n",
    "c = set([5])\n",
    "result_set = set()\n",
    "result_set.update(a)\n",
    "result_set.update(b)\n",
    "result_set.update(c)\n",
    "result_set"
   ]
  },
  {
   "cell_type": "code",
   "execution_count": 34,
   "metadata": {},
   "outputs": [
    {
     "data": {
      "text/plain": [
       "{1, 2, 3, 4, 5}"
      ]
     },
     "execution_count": 34,
     "metadata": {},
     "output_type": "execute_result"
    }
   ],
   "source": [
    "a = set([1, 2])\n",
    "b = set([3, 4])\n",
    "c = set([5])\n",
    "{x for s in [a, b, c] for x in s}"
   ]
  },
  {
   "cell_type": "code",
   "execution_count": 35,
   "metadata": {},
   "outputs": [
    {
     "data": {
      "text/plain": [
       "{1, 2, 3, 4, 5}"
      ]
     },
     "execution_count": 35,
     "metadata": {},
     "output_type": "execute_result"
    }
   ],
   "source": [
    "a = set([1, 2])\n",
    "b = set([3, 4])\n",
    "c = set([5])\n",
    "set([*a, *b, *c])"
   ]
  },
  {
   "cell_type": "code",
   "execution_count": 36,
   "metadata": {},
   "outputs": [
    {
     "data": {
      "text/plain": [
       "{1, 2, 3, 4, 5}"
      ]
     },
     "execution_count": 36,
     "metadata": {},
     "output_type": "execute_result"
    }
   ],
   "source": [
    "import itertools\n",
    "a = set([1, 2])\n",
    "b = set([3, 4])\n",
    "c = set([5])\n",
    "set(itertools.chain(a, b, c))"
   ]
  },
  {
   "attachments": {},
   "cell_type": "markdown",
   "metadata": {},
   "source": [
    "## 🍕 判断是否包含 x"
   ]
  },
  {
   "cell_type": "code",
   "execution_count": 56,
   "metadata": {},
   "outputs": [
    {
     "name": "stdout",
     "output_type": "stream",
     "text": [
      "1\n"
     ]
    }
   ],
   "source": [
    "a = set([1, 2, 3])\n",
    "b = set([1])\n",
    "a = list(a)\n",
    "b = list(b)[0]\n",
    "if b in a:\n",
    "    print('1')"
   ]
  },
  {
   "cell_type": "code",
   "execution_count": 38,
   "metadata": {},
   "outputs": [
    {
     "name": "stdout",
     "output_type": "stream",
     "text": [
      "1\n"
     ]
    }
   ],
   "source": [
    "a = set([1, 2, 3])\n",
    "b = set([1])\n",
    "\n",
    "if set(a) & set(b):\n",
    "    print('1')"
   ]
  },
  {
   "cell_type": "code",
   "execution_count": 39,
   "metadata": {},
   "outputs": [
    {
     "name": "stdout",
     "output_type": "stream",
     "text": [
      "1\n"
     ]
    }
   ],
   "source": [
    "a = set([1, 2, 3])\n",
    "b = set([1])\n",
    "\n",
    "if set(b).issubset(set(a)):\n",
    "    print('1')"
   ]
  },
  {
   "cell_type": "code",
   "execution_count": 40,
   "metadata": {},
   "outputs": [
    {
     "name": "stdout",
     "output_type": "stream",
     "text": [
      "1\n"
     ]
    }
   ],
   "source": [
    "a = set([1, 2, 3])\n",
    "b = set([1])\n",
    "\n",
    "if all(elem in a for elem in b):\n",
    "    print('1')"
   ]
  },
  {
   "attachments": {},
   "cell_type": "markdown",
   "metadata": {},
   "source": [
    "## 🍕 筛选 df"
   ]
  },
  {
   "attachments": {},
   "cell_type": "markdown",
   "metadata": {},
   "source": [
    "### 1. 借助 query 函数\n",
    "\n",
    "```py\n",
    "TF_data = TF_ALL.query('15 <= LAT <= 25 and 100 <= LONG <= 126')\n",
    "```"
   ]
  },
  {
   "attachments": {},
   "cell_type": "markdown",
   "metadata": {},
   "source": [
    "### 2. 链式操作\n",
    "\n",
    "```py\n",
    "TF_data = TF_ALL[(TF_ALL['LAT'] <= 25) & (TF_ALL['LAT'] >= 15) & (TF_ALL['LONG'] <= 126) & (TF_ALL['LONG'] >= 100)]\n",
    "```"
   ]
  },
  {
   "attachments": {},
   "cell_type": "markdown",
   "metadata": {},
   "source": [
    "### 3. 借助 between\n",
    "\n",
    "```py\n",
    "TF_data = TF_ALL[TF_ALL['LAT'].between(15, 25) & TF_ALL['LONG'].between(100, 126)]\n",
    "```"
   ]
  },
  {
   "attachments": {},
   "cell_type": "markdown",
   "metadata": {},
   "source": [
    "### 4. 利用 loc \n",
    "\n",
    "```py\n",
    "TF_data = TF_ALL.loc[(TF_ALL['LAT'] <= 25) & (TF_ALL['LAT'] >= 15) & (TF_ALL['LONG'] <= 126) & (TF_ALL['LONG'] >= 100)]\n",
    "```"
   ]
  },
  {
   "attachments": {},
   "cell_type": "markdown",
   "metadata": {},
   "source": [
    "### 5. \n",
    "\n",
    "```py\n",
    "TF_data = TF_ALL\n",
    "TF_data = TF_data[TF_data['LAT'] <= 25]\n",
    "TF_data = TF_data[TF_data['LAT'] >= 15]\n",
    "TF_data = TF_data[TF_data['LONG'] <= 126]\n",
    "TF_data = TF_data[TF_data['LONG'] >= 100]\n",
    "```"
   ]
  },
  {
   "attachments": {},
   "cell_type": "markdown",
   "metadata": {},
   "source": [
    "## 🍕 求差集"
   ]
  },
  {
   "attachments": {},
   "cell_type": "markdown",
   "metadata": {},
   "source": [
    "### 1. 使用列表推导式"
   ]
  },
  {
   "cell_type": "code",
   "execution_count": 41,
   "metadata": {},
   "outputs": [
    {
     "name": "stdout",
     "output_type": "stream",
     "text": [
      "[1, 4, 5, 7, 8, 9]\n"
     ]
    }
   ],
   "source": [
    "a = [2, 3, 6]\n",
    "b = [i for i in range(1,10) if i not in a]\n",
    "print(b)"
   ]
  },
  {
   "attachments": {},
   "cell_type": "markdown",
   "metadata": {},
   "source": [
    "### 2. 使用 set 集合"
   ]
  },
  {
   "cell_type": "code",
   "execution_count": 42,
   "metadata": {},
   "outputs": [
    {
     "name": "stdout",
     "output_type": "stream",
     "text": [
      "[1, 4, 5, 7, 8, 9]\n"
     ]
    }
   ],
   "source": [
    "a = [2, 3, 6]\n",
    "b = list(set(range(1,10)) - set(a))\n",
    "print(b)"
   ]
  },
  {
   "attachments": {},
   "cell_type": "markdown",
   "metadata": {},
   "source": [
    "### 3. 使用 lambda"
   ]
  },
  {
   "cell_type": "code",
   "execution_count": 43,
   "metadata": {},
   "outputs": [
    {
     "name": "stdout",
     "output_type": "stream",
     "text": [
      "[1, 4, 5, 7, 8, 9]\n"
     ]
    }
   ],
   "source": [
    "a = [2, 3, 6]\n",
    "b = list(filter(lambda x: x not in a, range(1,10)))\n",
    "print(b)"
   ]
  },
  {
   "attachments": {},
   "cell_type": "markdown",
   "metadata": {},
   "source": [
    "## 🍕 df 分组, 然后赋值"
   ]
  },
  {
   "attachments": {},
   "cell_type": "markdown",
   "metadata": {},
   "source": [
    "### 1. 直接使用循环\n",
    "\n",
    "```py\n",
    "for i in range(len(df)):\n",
    "    if df['LAT'][i] >= 5 and df['LAT'][i] < 16:\n",
    "        df.loc[i, 'beta'] = 110.6\n",
    "    elif df['LAT'][i] >= 16 and df['LAT'][i] < 22:\n",
    "        df.loc[i, 'beta'] = 110.7\n",
    "    elif df['LAT'][i] >= 22 and df['LAT'][i] < 29:\n",
    "        df.loc[i, 'beta'] = 110.8\n",
    "    else:\n",
    "        df.loc[i, 'beta'] = 110.5\n",
    "```"
   ]
  },
  {
   "attachments": {},
   "cell_type": "markdown",
   "metadata": {},
   "source": [
    "### 2. 使用pandas的apply函数和lambda表达式\n",
    "\n",
    "```py\n",
    "import pandas as pd\n",
    "\n",
    "def get_beta(lat):\n",
    "    if lat >= 5 and lat < 16:\n",
    "        return 110.6\n",
    "    elif lat >= 16 and lat < 22:\n",
    "        return 110.7\n",
    "    elif lat >= 22 and lat < 29:\n",
    "        return 110.8\n",
    "    else:\n",
    "        return 110.5\n",
    "\n",
    "df['beta'] = df['LAT'].apply(lambda x: get_beta(x))\n",
    "```\n",
    "我们定义了一个名为get_beta的函数，并利用lambda表达式将其应用到df['LAT']这一列上。get_beta函数负责计算每个值对应的beta值，并返回该值。然后，我们将结果赋给df['beta']这一列。由于apply函数会在整个列向量化处理，因此它比循环更快，更Pythonic。"
   ]
  },
  {
   "attachments": {},
   "cell_type": "markdown",
   "metadata": {},
   "source": [
    "### 3. 使用 numpy\n",
    "\n",
    "```py\n",
    "import numpy as np\n",
    "\n",
    "lat = df['LAT'].values\n",
    "beta = np.ones_like(lat) * 110.5\n",
    "beta[(lat >= 5) & (lat < 16)] = 110.6\n",
    "beta[(lat >= 16) & (lat < 22)] = 110.7\n",
    "beta[(lat >= 22) & (lat < 29)] = 110.8\n",
    "\n",
    "df['beta'] = beta\n",
    "```\n",
    "我们首先将df['LAT']列转换为numpy数组。然后，我们创建一个与lat大小相同的全1数组，并将其乘以110.5作为初始值。接着，我们利用numpy的布尔索引和切片语法，根据不同条件分别为beta数组的相应位置赋值。最后，我们将结果赋给df['beta']列。"
   ]
  },
  {
   "attachments": {},
   "cell_type": "markdown",
   "metadata": {},
   "source": [
    "### 4. 使用pandas的cut函数\n",
    "\n",
    "```py\n",
    "bins = [0, 5, 16, 22, 29, np.inf]\n",
    "labels = [110.5, 110.6, 110.7, 110.8, 110.5]\n",
    "df['beta'] = pd.cut(df['LAT'], bins=bins, labels=labels, ordered=False)\n",
    "```\n",
    "我们首先定义了一个离散化的区间bins和对应的标签labels。然后，我们使用pandas的cut函数，将df['LAT']列离散化并标记相应的标签。最后，我们将结果赋给df['beta']列。\n",
    "\n",
    "因为 labels 中出现了重复的值, 所以需要传递 ordered=False 来允许重复值。"
   ]
  },
  {
   "attachments": {},
   "cell_type": "markdown",
   "metadata": {},
   "source": [
    "## 🍕 求 df 某列中值为 0 的数量"
   ]
  },
  {
   "attachments": {},
   "cell_type": "markdown",
   "metadata": {},
   "source": [
    "### 1. 利用 len 函数\n",
    "\n",
    "```py\n",
    "len(df[df['a'] == 0])\n",
    "```"
   ]
  },
  {
   "attachments": {},
   "cell_type": "markdown",
   "metadata": {},
   "source": [
    "### 2. 利用 sum 函数\n",
    "\n",
    "```py\n",
    "(df['a'] == 0).sum()\n",
    "```"
   ]
  },
  {
   "attachments": {},
   "cell_type": "markdown",
   "metadata": {},
   "source": [
    "### 3. 利用 value_counts 函数\n",
    "\n",
    "```py\n",
    "counts = model_data['gridID'].value_counts()\n",
    "counts.loc[counts.index == 0].sum()\n",
    "```\n",
    "\n",
    "注意使用的是 `loc` 而不是 `[]`, 因为是基于 **索引标签** 进行定位, 而不是基于位置"
   ]
  },
  {
   "attachments": {},
   "cell_type": "markdown",
   "metadata": {},
   "source": [
    "## 🍕 对有缺失值的 series 进行填充"
   ]
  },
  {
   "cell_type": "code",
   "execution_count": 44,
   "metadata": {},
   "outputs": [],
   "source": [
    "import pandas as pd\n",
    "import numpy as np"
   ]
  },
  {
   "attachments": {},
   "cell_type": "markdown",
   "metadata": {},
   "source": [
    "### 1. 利用 series 的 reindex 函数"
   ]
  },
  {
   "cell_type": "code",
   "execution_count": 45,
   "metadata": {},
   "outputs": [
    {
     "name": "stdout",
     "output_type": "stream",
     "text": [
      "1    1\n",
      "3    1\n",
      "dtype: int64\n",
      "0    0\n",
      "1    1\n",
      "2    0\n",
      "3    1\n",
      "4    0\n",
      "5    0\n",
      "dtype: int64\n",
      "[0, 1, 0, 1, 0, 0]\n"
     ]
    }
   ],
   "source": [
    "# 创建Series对象\n",
    "s = pd.Series([1, 3]).value_counts()\n",
    "print(s)\n",
    "\n",
    "# 按索引对Series对象进行重排，并将空值填充为0\n",
    "s = s.reindex(range(0,6), fill_value=0)\n",
    "print(s)\n",
    "\n",
    "# 将Series对象转换为列表并赋值给数组\n",
    "arr = s.tolist()\n",
    "\n",
    "print(arr)"
   ]
  },
  {
   "attachments": {},
   "cell_type": "markdown",
   "metadata": {},
   "source": [
    "### 2. 直接赋值"
   ]
  },
  {
   "cell_type": "code",
   "execution_count": 46,
   "metadata": {},
   "outputs": [
    {
     "name": "stdout",
     "output_type": "stream",
     "text": [
      "[0. 1. 0. 3. 0.]\n"
     ]
    }
   ],
   "source": [
    "s = pd.Series([1, 3], index=[1, 3])\n",
    "\n",
    "# 创建全零数组，长度为5\n",
    "arr = np.zeros(5)\n",
    "\n",
    "# 将Series对象赋值给数组对应索引位置\n",
    "arr[s.index] = s.values\n",
    "\n",
    "print(arr)"
   ]
  },
  {
   "attachments": {},
   "cell_type": "markdown",
   "metadata": {},
   "source": [
    "### 3. 利用 df 作为中间处理值"
   ]
  },
  {
   "cell_type": "code",
   "execution_count": 47,
   "metadata": {},
   "outputs": [
    {
     "name": "stdout",
     "output_type": "stream",
     "text": [
      "[0, 1, 0, 3, 0, 0]\n"
     ]
    }
   ],
   "source": [
    "# 创建Series对象\n",
    "s = pd.Series([1, 3], index=[1, 3])\n",
    "\n",
    "# 创建一个空的DataFrame\n",
    "df = pd.DataFrame(columns=['col'], index=range(0,6))\n",
    "\n",
    "# 将Series对象赋值给DataFrame对应索引位置\n",
    "df.loc[s.index, 'col'] = s.values\n",
    "\n",
    "# 将DataFrame转换为列表并赋值给数组\n",
    "arr = df['col'].fillna(0).tolist()\n",
    "\n",
    "print(arr)"
   ]
  },
  {
   "attachments": {},
   "cell_type": "markdown",
   "metadata": {},
   "source": [
    "### 4. 利用字典"
   ]
  },
  {
   "cell_type": "code",
   "execution_count": 48,
   "metadata": {},
   "outputs": [
    {
     "name": "stdout",
     "output_type": "stream",
     "text": [
      "{1: 1, 3: 3}\n",
      "{1: 1, 3: 3, 0: 0, 2: 0, 4: 0, 5: 0}\n",
      "[0, 1, 0, 3, 0, 0]\n"
     ]
    }
   ],
   "source": [
    "# 创建Series对象\n",
    "s = pd.Series([1, 3], index=[1, 3])\n",
    "\n",
    "# 将Series对象转换为字典，并且将所有没有对应索引位置的值置为0\n",
    "d = s.to_dict()\n",
    "print(d)\n",
    "d.update({i: 0 for i in range(0, 6) if i not in d})\n",
    "print(d)\n",
    "\n",
    "# 列表解析式，按索引位置填充值\n",
    "arr = [d[i] for i in range(0, 6)]\n",
    "\n",
    "print(arr)"
   ]
  },
  {
   "attachments": {},
   "cell_type": "markdown",
   "metadata": {},
   "source": [
    "### 5. 利用列表解析式"
   ]
  },
  {
   "cell_type": "code",
   "execution_count": 49,
   "metadata": {},
   "outputs": [
    {
     "name": "stdout",
     "output_type": "stream",
     "text": [
      "[0, 1, 0, 3, 0, 0]\n"
     ]
    }
   ],
   "source": [
    "# 创建Series对象\n",
    "s = pd.Series([1, 3], index=[1, 3])\n",
    "\n",
    "# 列表解析式，按索引位置填充值\n",
    "arr = [s[i] if i in s.index else 0 for i in range(0, 6)]\n",
    "\n",
    "print(arr)"
   ]
  },
  {
   "attachments": {},
   "cell_type": "markdown",
   "metadata": {},
   "source": [
    "### 6. 利用 put 函数"
   ]
  },
  {
   "cell_type": "code",
   "execution_count": 50,
   "metadata": {},
   "outputs": [
    {
     "name": "stdout",
     "output_type": "stream",
     "text": [
      "[0. 1. 0. 3. 0.]\n"
     ]
    }
   ],
   "source": [
    "# 创建Series对象\n",
    "s = pd.Series([1, 3], index=[1, 3])\n",
    "\n",
    "# 创建全零数组，长度为5\n",
    "arr = np.zeros(5)\n",
    "\n",
    "# 将Series对象赋值给数组对应索引位置\n",
    "np.put(arr, list(s.index), s.values)\n",
    "\n",
    "print(arr)"
   ]
  },
  {
   "attachments": {},
   "cell_type": "markdown",
   "metadata": {},
   "source": [
    "### 7. 最简单"
   ]
  },
  {
   "cell_type": "code",
   "execution_count": 51,
   "metadata": {},
   "outputs": [
    {
     "name": "stdout",
     "output_type": "stream",
     "text": [
      "[0, 1, 0, 3, 0]\n"
     ]
    }
   ],
   "source": [
    "# 创建Series对象\n",
    "s = pd.Series([1, 3], index=[1, 3])\n",
    "\n",
    "# 创建一个长度为5的数组\n",
    "arr = [0] * 5\n",
    "\n",
    "# 将Series对象按索引依次填充到数组中\n",
    "for i in s.index:\n",
    "    arr[i] = s[i]\n",
    "\n",
    "print(arr)"
   ]
  }
 ],
 "metadata": {
  "kernelspec": {
   "display_name": "Python 3",
   "language": "python",
   "name": "python3"
  },
  "language_info": {
   "codemirror_mode": {
    "name": "ipython",
    "version": 3
   },
   "file_extension": ".py",
   "mimetype": "text/x-python",
   "name": "python",
   "nbconvert_exporter": "python",
   "pygments_lexer": "ipython3",
   "version": "3.11.0"
  },
  "orig_nbformat": 4
 },
 "nbformat": 4,
 "nbformat_minor": 2
}
