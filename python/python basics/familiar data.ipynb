{
 "cells": [
  {
   "cell_type": "markdown",
   "metadata": {},
   "source": [
    "## 推导式 (比循环快)\n",
    "\n",
    "- 列表推导式：`[expression for item in iterable if condition]`\n",
    "- 集合推导式：`{expression for item in iterable if condition}`\n",
    "- 字典推导式：`{key_expression: value_expression for item in iterable if condition}`\n",
    "\n",
    "其中，\n",
    "- `expression` 表示要对 item 进行计算得到的结果，可以包含任意复杂的表达式；\n",
    "- `item` 表示在 iterable 中的每个元素；\n",
    "- `iterable` 表示一个可迭代对象，例如列表或者范围；\n",
    "- `if condition` 是一个可选的条件表达式，用于过滤出符合条件的元素。"
   ]
  },
  {
   "cell_type": "code",
   "execution_count": 12,
   "metadata": {},
   "outputs": [
    {
     "name": "stdout",
     "output_type": "stream",
     "text": [
      "使用循环生成新列表的时间： 0.04245185852050781\n",
      "使用列表推导式生成新列表的时间： 0.01600337028503418\n"
     ]
    }
   ],
   "source": [
    "import time\n",
    "\n",
    "# 使用循环生成新列表\n",
    "a, b = [1, 2, 3, 4, 5] * 99999, []\n",
    "start_time = time.time()\n",
    "for i in a: b.append(i + 1)\n",
    "print(\"使用循环生成新列表的时间：\", time.time() - start_time)\n",
    "\n",
    "# 使用列表推导式生成新列表\n",
    "a = [1, 2, 3, 4, 5] * 99999\n",
    "start_time = time.time()\n",
    "b = [i + 1 for i in a]\n",
    "print(\"使用列表推导式生成新列表的时间：\", time.time() - start_time)"
   ]
  },
  {
   "cell_type": "code",
   "execution_count": 1,
   "metadata": {},
   "outputs": [
    {
     "name": "stdout",
     "output_type": "stream",
     "text": [
      "['item ^ 2 = 9', 'item ^ 2 = 16', 'item ^ 2 = 25', 'item ^ 2 = 36', 'item ^ 2 = 49']\n",
      "{'item ^ 2 = 25', 'item ^ 2 = 36', 'item ^ 2 = 49', 'item ^ 2 = 9', 'item ^ 2 = 16'}\n",
      "{'3 ^ 2 = ': 9, '4 ^ 2 = ': 16, '5 ^ 2 = ': 25, '6 ^ 2 = ': 36, '7 ^ 2 = ': 49}\n"
     ]
    }
   ],
   "source": [
    "n = 7\n",
    "arr = [f'item ^ 2 = {i * i}' for i in range(1, n+1) if i > 2]\n",
    "print(arr)\n",
    "arr = {f'item ^ 2 = {i * i}' for i in range(1, n+1) if i > 2}\n",
    "print(arr)\n",
    "arr = {f'{i} ^ 2 = ': i*i for i in range(1, n+1) if i > 2}\n",
    "print(arr)"
   ]
  },
  {
   "cell_type": "markdown",
   "metadata": {},
   "source": [
    "## 三元表达式\n",
    "\n",
    "```py\n",
    "value_if_true if condition else value_if_false\n",
    "```"
   ]
  },
  {
   "cell_type": "code",
   "execution_count": 2,
   "metadata": {},
   "outputs": [
    {
     "name": "stdout",
     "output_type": "stream",
     "text": [
      "❌\n"
     ]
    }
   ],
   "source": [
    "succeed = False\n",
    "print('✔️' if succeed else '❌')"
   ]
  },
  {
   "cell_type": "markdown",
   "metadata": {},
   "source": [
    "## 空语句\n",
    "\n",
    "```py\n",
    "pass\n",
    "```\n",
    "\n",
    "注意⚠️，空语句并不是一个好的编程实践"
   ]
  },
  {
   "cell_type": "code",
   "execution_count": 3,
   "metadata": {},
   "outputs": [],
   "source": [
    "if True:\n",
    "    pass"
   ]
  }
 ],
 "metadata": {
  "kernelspec": {
   "display_name": "Python 3",
   "language": "python",
   "name": "python3"
  },
  "language_info": {
   "codemirror_mode": {
    "name": "ipython",
    "version": 3
   },
   "file_extension": ".py",
   "mimetype": "text/x-python",
   "name": "python",
   "nbconvert_exporter": "python",
   "pygments_lexer": "ipython3",
   "version": "3.11.0"
  },
  "orig_nbformat": 4
 },
 "nbformat": 4,
 "nbformat_minor": 2
}
