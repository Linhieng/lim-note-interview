{
 "cells": [
  {
   "attachments": {},
   "cell_type": "markdown",
   "metadata": {},
   "source": [
    "`pandas` 读取 CSV 文件, 通常返回 `DataFrame`(二维) 对象或 `Series`(一维) 对象\n",
    "\n",
    "```py\n",
    "df = pd.read_csv('your_file.csv')\n",
    "```\n",
    "\n",
    "返回一个 `DataFrame` 对象, 该对象常见属性有\n",
    "- `values` 数据的二维数组。 数据不包含列名\n",
    "- `columns` 所有列名/列标签\n",
    "- `index` 行标签 / 索引 的信息。 因为索引通常是连续的数字, 所以只给出信息, 想要查看具体值可调用其 `tolist()`\n",
    "- `shape` 包含 (行数, 列数) 的元组\n",
    "- `dtypes` 包含每列数据类型的 `Series` 对象\n",
    "- `empty` 返回 `True` or `False`\n",
    "- `T` 返回转置后的 df, 即行列互换\n",
    "\n",
    "常见的方法有:\n",
    "- `mean()` 返回 `Series` 对象, 值为每列的均值, 索引为 DataFrame 的列名\n",
    "- `transpose()` 返回转置后的 df, 即行列互换\n",
    "- `sample()` 随机获取数据集中的一部分样本, \n",
    "  - `frac` 参数指定了需要保留的样本比例\n",
    "  - `n` 参数指定了需要保留的样本数量\n",
    "  - `random_state` 随机种子"
   ]
  },
  {
   "attachments": {},
   "cell_type": "markdown",
   "metadata": {},
   "source": [
    "## 🍕 `pd.DataFrame()` 用于创建 pandas 的数据结构 `DataFrame`（数据帧）\n",
    "\n",
    "DataFrame 是一个二维表格，可容纳不同类型的数据，并提供了各种方法来处理数据。\n",
    "\n",
    "函数语法如下: \n",
    "```py\n",
    "pd.DataFrame(data=None, index=None, columns=None, dtype=None, copy=False)\n",
    "```\n",
    "其中参数含义为: \n",
    "- `data`: 数据输入，可以是各种形式，例如 ndarray、series、map、lists、dict 等等。\n",
    "- `index`: 索引即行标签，长度必须和数据的行数相等，如果不指定，默认从 0 开始递增。\n",
    "- `columns`: 数据列的名称，长度必须和数据的列数相等，如果不指定，默认从 0 开始递增。\n",
    "- `dtype`: 指定数据类型，如果不指定，将自动推断数据类型。\n",
    "- `copy`: 默认为 False，表示对原数据进行引用，如果为 True，则表示复制一份数据。"
   ]
  },
  {
   "attachments": {},
   "cell_type": "markdown",
   "metadata": {},
   "source": [
    "## 🍕 loc 和 iloc\n",
    "\n",
    "`loc`: location. 通过标签来提取对应列。\n",
    "\n",
    "`iloc`: integer location, 通过整数索引(行号,列号)来提取对应行列\n",
    "\n",
    "他们都接收两个参数, 第一个参数用于指定行, 第二个参数用于指定列\n",
    "\n",
    "直接通过 `[columns]` 方式, 是相当于 `loc[:, columns]`, 即直接索引时, `columns` 会被认为是列名\n",
    "\n",
    "如果同时使用数字和字符串进行定位, 请使用 `loc` 而不是 `iloc`。\n",
    "\n",
    "`loc` 和 `iloc` 都可以使用数字, 他们的区别在于, `loc` 中的\"数字\"是标签, 即索引值, 而 `iloc` 中的数字是行号,列号。具体请见下面这个例子:"
   ]
  },
  {
   "cell_type": "code",
   "execution_count": 1,
   "metadata": {},
   "outputs": [
    {
     "name": "stdout",
     "output_type": "stream",
     "text": [
      "   0\n",
      "9  9\n",
      "0  0\n",
      "6  6\n",
      "   0\n",
      "1  1\n",
      "2  2\n",
      "3  3\n"
     ]
    }
   ],
   "source": [
    "import pandas as pd\n",
    "\n",
    "# 将数组转换为数据框架\n",
    "df = pd.DataFrame([i for i in range(10)]).sample(frac=1)\n",
    "print(df.iloc[[1,2,3], :]) # 取前三行, 此时前三行的索引不一定是 1,2,3\n",
    "print(df.loc[[1,2,3], :]) # 取三行, 指定他们的索引为 1,2,3"
   ]
  },
  {
   "attachments": {},
   "cell_type": "markdown",
   "metadata": {},
   "source": [
    "## 🍕 `pd.cut()` 将一组数据分成多个离散的区间(bin)\n",
    "\n",
    "pandas 中的 `pd.cut()` 函数是用于将一组数据分成多个离散的区间（bin）的函数。它的作用类似于直方图，可以将连续变量离散化为多个区间，并且在每个区间内统计变量的频数。\n",
    "\n",
    "pd.cut() 的语法如下: \n",
    "\n",
    "```py\n",
    "pd.cut(x, bins, right=True, labels=None, retbins=False, precision=3, \n",
    "       include_lowest=False, duplicates='raise', rdered=True)\n",
    "```\n",
    "其中，主要参数包括: \n",
    "\n",
    "- `x`: 要离散化的数据，必选参数。\n",
    "- `bins`: 指定划分区间的方式，可传入整数（表示将数据平均分成几个区间）、序列（表示每个区间的范围）或者 Pandas intervalIndex 对象。默认值为 `None`，表示让算法自动选择合适的区间。\n",
    "- `right`: 是否将右端点设为闭区间。默认为 True，即所有区间都是左开右闭。\n",
    "- `labels`: 指定离散化后每个区间的标签，可以传入一个列表或数组。\n",
    "- `retbins`: 是否返回被使用的区间，如果设置为 True，则返回一个元组，第一个元素为离散化后的结果，第二个元素为被使用的区间。\n",
    "- `precision`: 指定区间的精度，默认为 3，表示小数点后三位。\n",
    "- `include_lowest`: 是否包含最小值所在的区间，默认为 False，即不包含。\n",
    "- `duplicates`: 当指定的区间出现重叠时的处理方式，可选参数为 `'raise'`、`'drop'` 和 `'raise'`. 默认值为 `'raise'`.\n",
    "\n",
    "`pd.cut()` 函数默认返回的是 `pandas.Categorical` 类型的对象，它表示每个元素属于哪个区间。Categorical 对象有很多方便的方法，例如 `value_counts()` 可以统计各个区间中的元素个数。"
   ]
  },
  {
   "attachments": {},
   "cell_type": "markdown",
   "metadata": {},
   "source": [
    "## 🍕 Series 常见统计函数"
   ]
  },
  {
   "attachments": {},
   "cell_type": "markdown",
   "metadata": {},
   "source": [
    "- `count()`：返回非缺失值元素的数量。\n",
    "- `sum()`：返回所有元素的和。\n",
    "- `mean()`：返回所有元素的平均值。\n",
    "- `median()`：返回所有元素的中位数。\n",
    "- `min()`：返回所有元素的最小值。\n",
    "- `max()`：返回所有元素的最大值。\n",
    "- `quantile(q)`：返回所有元素的第 q 分位数（0 ≤ q ≤ 1）。\n",
    "- `var()`：返回所有元素的方差。\n",
    "- `std()`：返回所有元素的标准差。\n",
    "- `mad()`：返回所有元素的平均绝对偏差。\n",
    "- `skew()`：返回所有元素的偏度。\n",
    "- `kurtosis()`：返回所有元素的峰度。"
   ]
  },
  {
   "attachments": {},
   "cell_type": "markdown",
   "metadata": {},
   "source": [
    "- `value_counts()`：统计各个元素出现的次数\n",
    "- `unique()`：返回 Series 中不同元素的值，以 NumPy 数组形式返回。\n",
    "- `nunique()`：返回 Series 中不同元素的数量。\n",
    "- `idxmin()` 和 `idxmax()`：返回 Series 最小（最大）值的索引标签。\n",
    "- `mean()` 和 `median()`：分别返回 Series 的均值和中位数。\n",
    "- `min()` 和 `max()`：返回 Series 的最小和最大值。\n",
    "- `describe()`：返回 Series 基本的描述统计信息，包括 count、mean、std、min、25%、50%、75%、max 等。\n",
    "- `cumsum()` 和 `cumprod()`：分别返回 Series 中元素累积求和和累积求积的结果。\n",
    "- `sample()`：从 Series 中随机抽取指定数量的元素。\n",
    "- `apply()`：对每个元素应用自定义函数，返回一个新的 Series。"
   ]
  },
  {
   "attachments": {},
   "cell_type": "markdown",
   "metadata": {},
   "source": [
    "# 案例"
   ]
  },
  {
   "attachments": {},
   "cell_type": "markdown",
   "metadata": {},
   "source": [
    "## 1. 使用 `loc` 快捷替换指定行指定列的内容"
   ]
  },
  {
   "cell_type": "code",
   "execution_count": 2,
   "metadata": {},
   "outputs": [
    {
     "name": "stdout",
     "output_type": "stream",
     "text": [
      "   c  score-1  score-2  score-3  score-4  score-5  Mean recall scores\n",
      "0  1     10.9     10.9     10.9    10.93    10.93                   1\n",
      "   c  score-1  score-2  score-3  score-4  score-5  Mean recall scores\n",
      "0  1      9.0      9.0      9.0     93.0     93.0                   1\n"
     ]
    }
   ],
   "source": [
    "import pandas as pd\n",
    "\n",
    "# 创建一个DataFrame\n",
    "df = pd.DataFrame({\n",
    "    'c': [1],\n",
    "    'score-1': [10.9],\n",
    "    'score-2': [10.9],\n",
    "    'score-3': [10.9],\n",
    "    'score-4': [10.93],\n",
    "    'score-5': [10.93],\n",
    "    'Mean recall scores': [1]\n",
    "})\n",
    "\n",
    "print(df)\n",
    "\n",
    "\n",
    "# 要替换的行和列\n",
    "index = 0\n",
    "columns =  [f'score-{i+1}' for i in range(5)]\n",
    "\n",
    "# 要替换成的新值\n",
    "scores = [9, 9, 9, 93, 93]\n",
    "data = {'score-' + str(i+1): scores[i] for i in range(len(scores))}\n",
    "new_row = pd.Series(data)\n",
    "\n",
    "# 使用 loc 函数进行替换\n",
    "df.loc[index, columns] = new_row\n",
    "\n",
    "\n",
    "print(df)"
   ]
  },
  {
   "attachments": {},
   "cell_type": "markdown",
   "metadata": {},
   "source": [
    "## 2. 使用 `concat` 新增行数据"
   ]
  },
  {
   "cell_type": "code",
   "execution_count": 3,
   "metadata": {},
   "outputs": [
    {
     "name": "stdout",
     "output_type": "stream",
     "text": [
      "  C_parameter score-1 score-2 score-3 score-4 score-5 Mean recall scores\n",
      "0           1       0       4       0      10       5                  1\n",
      "  C_parameter score-1 score-2 score-3 score-4 score-5 Mean recall scores\n",
      "0           1       0       4       0      10       5                  1\n",
      "0         NaN       3       4       8       3       2                NaN\n",
      "  C_parameter score-1 score-2 score-3 score-4 score-5 Mean recall scores\n",
      "0           1       0       4       0      10       5                  1\n",
      "0         NaN       3       4       8       3       2                NaN\n",
      "1           2     NaN     NaN     NaN     NaN     NaN                  2\n",
      "  C_parameter score-1 score-2 score-3 score-4 score-5 Mean recall scores\n",
      "0           1       0       4       0      10       5                  1\n",
      "1         NaN       3       4       8       3       2                NaN\n",
      "2           2     NaN     NaN     NaN     NaN     NaN                  2\n",
      "3         NaN       5      10       0       1       7                NaN\n"
     ]
    }
   ],
   "source": [
    "import pandas as pd\n",
    "import random as rd\n",
    "\n",
    "# 创建一个包含数值的数组\n",
    "scores = [rd.randint(0,10) for i in range(len(scores))]\n",
    "# 使用字典推导式创建字典\n",
    "data = {'score-' + str(i+1): scores[i] for i in range(len(scores))}\n",
    "row = pd.Series(data)\n",
    "\n",
    "K = 5\n",
    "o = ['C_parameter', 'Mean recall scores']\n",
    "n = [f'score-{i}' for i in range(1, K+1)]\n",
    "columns = o[:1] + n + o[1:]\n",
    "df = pd.DataFrame(columns=columns)\n",
    "\n",
    "# row.to_frame() 将 Series 转换为一个 DataFrame 对象\n",
    "df = pd.concat([df, row.to_frame().T], ignore_index=True)\n",
    "df.loc[0, 'C_parameter'] = 1\n",
    "df.loc[0, 'Mean recall scores'] = 1\n",
    "\n",
    "print(df)\n",
    "\n",
    "scores = [rd.randint(0,10) for i in range(len(scores))]\n",
    "data = {'score-' + str(i+1): scores[i] for i in range(len(scores))}\n",
    "row = pd.Series(data)\n",
    "df = pd.concat([df, row.to_frame().T], ignore_index=False)\n",
    "\n",
    "print(df)\n",
    "\n",
    "df.loc[1, 'C_parameter'] = 2\n",
    "df.loc[1, 'Mean recall scores'] = 2\n",
    "\n",
    "print(df)\n",
    "\n",
    "scores = [rd.randint(0,10) for i in range(len(scores))]\n",
    "data = {'score-' + str(i+1): scores[i] for i in range(len(scores))}\n",
    "row = pd.Series(data)\n",
    "df = pd.concat([df, row.to_frame().T], ignore_index=True)\n",
    "\n",
    "print(df)"
   ]
  },
  {
   "attachments": {},
   "cell_type": "markdown",
   "metadata": {},
   "source": [
    "##  获取 A 列的最大值所在行 B 列的值"
   ]
  },
  {
   "cell_type": "code",
   "execution_count": 4,
   "metadata": {},
   "outputs": [
    {
     "name": "stdout",
     "output_type": "stream",
     "text": [
      "          A         B         C         D         E\n",
      "0  0.374540  0.950714  0.731994  0.598658  0.156019\n",
      "1  0.155995  0.058084  0.866176  0.601115  0.708073\n",
      "2  0.020584  0.969910  0.832443  0.212339  0.181825\n",
      "3  0.183405  0.304242  0.524756  0.431945  0.291229\n",
      "4  0.611853  0.139494  0.292145  0.366362  0.456070\n",
      "\n",
      "4\n",
      "0.13949386065204183\n",
      "\n",
      "0.8661761457749352\n",
      "          A         B         C         D         E\n",
      "1  0.155995  0.058084  0.866176  0.601115  0.708073\n",
      "0.6011150117432088\n"
     ]
    }
   ],
   "source": [
    "import numpy as np\n",
    "import pandas as pd\n",
    "\n",
    "# 随机生成 5x5 数组\n",
    "np.random.seed(42)\n",
    "data = np.random.rand(5, 5)\n",
    "\n",
    "# 将数组转换为数据框架\n",
    "df = pd.DataFrame(data, columns=['A', 'B', 'C', 'D', 'E'])\n",
    "\n",
    "# 显示数据框架\n",
    "print(df)\n",
    "print('')\n",
    "\n",
    "# 方法1\n",
    "i_max = df['A'].idxmax()\n",
    "print(i_max)\n",
    "maxA_B = df.loc[i_max, 'B']\n",
    "print(maxA_B)\n",
    "print('')\n",
    "\n",
    "# 方法2\n",
    "maxC = df['C'].max()\n",
    "print(maxC)\n",
    "row_with_max_c = df.loc[df['C'] == maxC]\n",
    "print(row_with_max_c)\n",
    "maxC_D = row_with_max_c.iloc[0]['D']\n",
    "print(maxC_D)"
   ]
  },
  {
   "attachments": {},
   "cell_type": "markdown",
   "metadata": {},
   "source": [
    "## pd.cut 案例"
   ]
  },
  {
   "cell_type": "code",
   "execution_count": 5,
   "metadata": {},
   "outputs": [
    {
     "name": "stdout",
     "output_type": "stream",
     "text": [
      "    A  category\n",
      "0  46  (40, 60]\n",
      "1  61  (60, 80]\n",
      "2  50  (40, 60]\n",
      "3  54  (40, 60]\n",
      "4  63  (60, 80]\n",
      "5   2   (0, 20]\n",
      "6  50  (40, 60]\n",
      "7   6   (0, 20]\n",
      "8  20   (0, 20]\n",
      "9  72  (60, 80]\n"
     ]
    }
   ],
   "source": [
    "import pandas as pd\n",
    "import numpy as np\n",
    "\n",
    "# 随机生成一些数据\n",
    "df = pd.DataFrame({\"A\": np.random.randint(0, 100, 10)})\n",
    "\n",
    "# 定义区间范围\n",
    "bins = [0, 20, 40, 60, 80, 100]\n",
    "\n",
    "# 使用 pd.cut 进行区间划分\n",
    "df[\"category\"] = pd.cut(df[\"A\"], bins)\n",
    "\n",
    "# 打印结果\n",
    "print(df)"
   ]
  },
  {
   "cell_type": "code",
   "execution_count": 6,
   "metadata": {},
   "outputs": [
    {
     "name": "stdout",
     "output_type": "stream",
     "text": [
      "    A category\n",
      "0  66      正数+\n",
      "1 -83      负数-\n",
      "2  31      正数+\n",
      "3 -12      负数-\n",
      "4 -41      负数-\n",
      "5 -87      负数-\n",
      "6 -92      负数-\n",
      "7 -11      负数-\n",
      "8 -48      负数-\n",
      "9  29      正数+\n"
     ]
    }
   ],
   "source": [
    "import pandas as pd\n",
    "import numpy as np\n",
    "\n",
    "# 随机生成一些数据\n",
    "df = pd.DataFrame({\"A\": np.random.randint(-100, 100, 10)})\n",
    "\n",
    "# 定义区间范围\n",
    "bins = [-100, 0, 100]\n",
    "labels = ['负数-', '正数+']\n",
    "\n",
    "# 使用 pd.cut 进行区间划分\n",
    "df[\"category\"] = pd.cut(df[\"A\"], bins=bins, labels=labels)\n",
    "\n",
    "# 打印结果\n",
    "print(df)"
   ]
  },
  {
   "attachments": {},
   "cell_type": "markdown",
   "metadata": {},
   "source": [
    "将一个 DataFrame 中的 'LAT' 列中的数据按照一定范围分为不同的区间，并为每个区间分配一个标签。"
   ]
  },
  {
   "cell_type": "code",
   "execution_count": 7,
   "metadata": {},
   "outputs": [
    {
     "name": "stdout",
     "output_type": "stream",
     "text": [
      "       LAT        LAT_zone\n",
      "0  40.7128  warm temperate\n",
      "1  37.7749  warm temperate\n",
      "2  51.5074  warm temperate\n",
      "3  35.6895  warm temperate\n",
      "4  52.5200  warm temperate\n"
     ]
    }
   ],
   "source": [
    "import pandas as pd\n",
    "\n",
    "# 构造示例 DataFrame\n",
    "df = pd.DataFrame({'LAT': [40.7128, 37.7749, 51.5074, 35.6895, 52.5200]})\n",
    "\n",
    "# 定义分割点和标签\n",
    "bins = [-90, -60, -30, 0, 30, 60, 90]\n",
    "labels = ['south pole', 'subpolar', 'temperate', 'subtropical', 'warm temperate', 'tropic']\n",
    "\n",
    "# 使用 pd.cut 进行分段，并为每个区间分配相应的标签\n",
    "df['LAT_zone'] = pd.cut(df['LAT'], bins=bins, labels=labels)\n",
    "\n",
    "print(df)"
   ]
  },
  {
   "cell_type": "code",
   "execution_count": 8,
   "metadata": {},
   "outputs": [
    {
     "name": "stdout",
     "output_type": "stream",
     "text": [
      "         LAT        LAT_zone\n",
      "0 -22.582779       temperate\n",
      "1  81.128575          tropic\n",
      "2  41.758910  warm temperate\n",
      "3  17.758527     subtropical\n",
      "4 -61.916645      south pole\n"
     ]
    }
   ],
   "source": [
    "import pandas as pd\n",
    "import numpy as np\n",
    "\n",
    "# 生成随机经纬度数据\n",
    "np.random.seed(42)\n",
    "n = 1000 # 数据量设定为1000\n",
    "LAT = np.random.uniform(low=-90, high=90, size=n)\n",
    "df = pd.DataFrame({'LAT': LAT})\n",
    "\n",
    "# 定义分割点和标签\n",
    "bins_LAT = [-90, -60, -30, 0, 30, 60, 90]\n",
    "labels_LAT = ['south pole', 'subpolar', 'temperate', 'subtropical', 'warm temperate', 'tropic']\n",
    "\n",
    "\n",
    "# 使用 pd.cut 进行分段，并为每个区间分配相应的标签\n",
    "df['LAT_zone'] = pd.cut(df['LAT'], bins=bins_LAT, labels=labels_LAT)\n",
    "\n",
    "print(df.head())"
   ]
  }
 ],
 "metadata": {
  "kernelspec": {
   "display_name": "Python 3",
   "language": "python",
   "name": "python3"
  },
  "language_info": {
   "codemirror_mode": {
    "name": "ipython",
    "version": 3
   },
   "file_extension": ".py",
   "mimetype": "text/x-python",
   "name": "python",
   "nbconvert_exporter": "python",
   "pygments_lexer": "ipython3",
   "version": "3.11.0"
  },
  "orig_nbformat": 4
 },
 "nbformat": 4,
 "nbformat_minor": 2
}
