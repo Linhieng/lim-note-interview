{
 "cells": [
  {
   "cell_type": "code",
   "execution_count": 1,
   "metadata": {},
   "outputs": [],
   "source": [
    "import matplotlib.pyplot as plt"
   ]
  },
  {
   "attachments": {},
   "cell_type": "markdown",
   "metadata": {},
   "source": [
    "`boxplot()` 用于绘制箱线图。\n",
    "\n",
    "箱线图由五个数值点组成: 最小值, 下四分位数, 中位数, 上四分位数, 最大值。\n",
    "\n",
    "下四分位数、中位数、上四分位数组成一个“带有隔间的盒子”, 也可以往盒子里面加入平均值。\n",
    "箱子两侧的延伸线称为“胡须(whisker)”, 揭示数据的范围, “胡须”外部的点称为离群点。"
   ]
  },
  {
   "attachments": {},
   "cell_type": "markdown",
   "metadata": {},
   "source": [
    "`boxplot()` 参数很多, 下面只是一部分参数:\n",
    "\n",
    "```py\n",
    "plt.boxplot(x, labels=None,\n",
    "            notch=None, sym=None, vert=None,\n",
    "            whis=None, positions=None, widths=None,\n",
    "            patch_artist=None, meanline=None, showmeans=None,\n",
    "            showcaps=None, showbox=None, showfliers=None)\n",
    "```\n",
    "- `x` 指定要绘制箱线图的数据, 可以是一个数组, 或一个数组序列\n",
    "- `labels` 为箱线图添加标签, 类似于图例的作用。\n",
    "- `notch` 表示是否取凹口的形式展现箱线图, 默认非凹口\n",
    "- `sym` 用于指定异常点的形状\n",
    "- `vert` 表示是否将箱线图垂直摆放, 默认为垂直摆放\n",
    "- `whis` 指定上下须与上下四分位的距离, 默认为1.5倍的四分位间距\n",
    "- `positions` 指定箱线图的位置, 默认为 [0,1,2, …] \n",
    "- `widths` 指定箱线图的宽度\n",
    "- `patch_artist` 表示是否填充箱体的颜色\n",
    "- `meanline` 表示是否用线的形式表示均值, 默认用点来表示\n",
    "- `showmeans` 表示是否显示均值, 默认不显示\n",
    "- `showcaps` 表示是否显示箱线图顶端和末端的两条线, 默认显示\n",
    "- `showbox` 表示是否显示箱线图的箱体, 默认显示\n",
    "- `showfliers` 表示是否显示离群值, 默认显示"
   ]
  },
  {
   "attachments": {},
   "cell_type": "markdown",
   "metadata": {},
   "source": [
    "## 例1\n",
    "以下是已经过排序的8个病人的血压（mmHg）数据，试画出箱线图。\n",
    "\n",
    "          102, 110, 117, 118, 122, 123, 132, 150"
   ]
  },
  {
   "cell_type": "code",
   "execution_count": 2,
   "metadata": {},
   "outputs": [
    {
     "data": {
      "image/png": "[encoded data removed]",
      "text/plain": [
       "<Figure size 640x480 with 1 Axes>"
      ]
     },
     "metadata": {},
     "output_type": "display_data"
    }
   ],
   "source": [
    "X_mmHg = [102, 110, 117, 118, 122, 123, 132, 150]\n",
    "# 绘制箱线图\n",
    "plt.boxplot(X_mmHg, labels=['mmHg'])\n",
    "plt.show()\n"
   ]
  },
  {
   "attachments": {},
   "cell_type": "markdown",
   "metadata": {},
   "source": [
    "## 例2\n",
    "\n",
    "下面给出了25个男子和25个女子的肺活量（已排序）。\n",
    "\n",
    "女子组\n",
    "\n",
    "        2.7, 2.8, 2.9, 3.1, 3.1, 3.1, 3.2, 3.4, 3.4,\n",
    "        3.4, 3.4, 3.4, 3.5, 3.5, 3.5, 3.6, 3.7, 3.7,\n",
    "        3.7, 3.8, 3.8, 4.0, 4.1, 4.2, 4.2\n",
    "    \n",
    "男子组\n",
    "\n",
    "        4.1, 4.1, 4.3, 4.3, 4.5, 4.6, 4.7, 4.8, 4.8,\n",
    "        5.1, 5.3, 5.3, 5.3, 5.4, 5.4, 5.5, 5.6, 5.7,\n",
    "        5.8, 5.8, 6.0, 6.1, 6.3, 6.7, 6.7"
   ]
  },
  {
   "cell_type": "code",
   "execution_count": 3,
   "metadata": {},
   "outputs": [
    {
     "data": {
      "image/png": "[encoded data removed]",
      "text/plain": [
       "<Figure size 640x480 with 1 Axes>"
      ]
     },
     "metadata": {},
     "output_type": "display_data"
    }
   ],
   "source": [
    "X_F = [2.7, 2.8, 2.9, 3.1, 3.1, 3.1, 3.2, 3.4, 3.4,\n",
    "       3.4, 3.4, 3.4, 3.5, 3.5, 3.5, 3.6, 3.7, 3.7,\n",
    "       3.7, 3.8, 3.8, 4.0, 4.1, 4.2, 4.2]\n",
    "X_M = [4.1, 4.1, 4.3, 4.3, 4.5, 4.6, 4.7, 4.8, 4.8,\n",
    "       5.1, 5.3, 5.3, 5.3, 5.4, 5.4, 5.5, 5.6, 5.7,\n",
    "       5.8, 5.8, 6.0, 6.1, 6.3, 6.7, 6.7]\n",
    "X = [X_F, X_M]\n",
    "plt.boxplot(X, labels=['female', 'male'])\n",
    "plt.show()\n"
   ]
  },
  {
   "attachments": {},
   "cell_type": "markdown",
   "metadata": {},
   "source": [
    "## 例3"
   ]
  },
  {
   "cell_type": "code",
   "execution_count": 4,
   "metadata": {},
   "outputs": [],
   "source": [
    "import pandas as pd\n",
    "\n",
    "plt.rcParams['font.family'] = ['SimHei']"
   ]
  },
  {
   "cell_type": "code",
   "execution_count": 5,
   "metadata": {},
   "outputs": [],
   "source": [
    "X = [[4.3 , 3.55, 3.9 , 4.5 ],\n",
    "       [4.  , 3.75, 3.55, 4.5 ],\n",
    "       [4.5 , 4.05, 3.9 , 4.5 ],\n",
    "       [4.2 , 2.35, 2.7 , 4.5 ],\n",
    "       [1.4 , 1.7 , 2.55, 3.  ],\n",
    "       [3.1 , 3.4 , 3.6 , 4.  ],\n",
    "       [2.65, 3.8 , 3.45, 3.5 ],\n",
    "       [3.2 , 3.4 , 3.25, 3.5 ],\n",
    "       [4.1 , 4.4 , 3.7 , 4.  ],\n",
    "       [4.35, 4.25, 3.9 , 4.  ],\n",
    "       [3.85, 3.75, 3.6 , 4.  ],\n",
    "       [3.  , 3.3 , 3.2 , 3.5 ],\n",
    "       [3.95, 3.6 , 3.85, 3.5 ],\n",
    "       [3.5 , 3.25, 3.6 , 4.1 ],\n",
    "       [4.6 , 4.1 , 4.05, 4.6 ],\n",
    "       [2.3 , 2.3 , 3.05, 4.1 ],\n",
    "       [2.9 , 3.25, 3.3 , 4.1 ],\n",
    "       [4.  , 4.1 , 3.9 , 4.6 ],\n",
    "       [2.9 , 2.9 , 3.15, 4.1 ],\n",
    "       [2.7 , 2.65, 2.8 , 4.1 ],\n",
    "       [4.45, 3.6 , 3.75, 4.6 ],\n",
    "       [2.8 , 3.45, 3.15, 4.1 ],\n",
    "       [4.  , 3.95, 3.8 , 4.1 ],\n",
    "       [2.95, 3.65, 3.3 , 4.1 ],\n",
    "       [3.7 , 3.  , 3.35, 4.1 ],\n",
    "       [4.3 , 3.55, 3.75, 4.6 ],\n",
    "       [4.3 , 3.95, 3.85, 4.1 ],\n",
    "       [4.25, 3.9 , 3.75, 4.1 ],\n",
    "       [4.6 , 4.4 , 4.1 , 4.1 ],\n",
    "       [4.45, 3.75, 3.95, 4.1 ],\n",
    "       [4.3 , 3.7 , 3.85, 4.1 ],\n",
    "       [4.45, 3.2 , 3.9 , 4.1 ],\n",
    "       [3.6 , 3.9 , 3.75, 4.1 ],\n",
    "       [1.75, 2.75, 2.3 , 3.6 ],\n",
    "       [1.55, 2.  , 2.75, 3.1 ],\n",
    "       [2.  , 1.2 , 3.15, 3.6 ],\n",
    "       [2.35, 3.4 , 3.05, 3.6 ],\n",
    "       [2.35, 3.45, 2.95, 3.6 ],\n",
    "       [2.25, 3.4 , 3.15, 3.1 ],\n",
    "       [2.3 , 2.9 , 3.15, 3.1 ],\n",
    "       [3.5 , 3.45, 3.45, 3.6 ],\n",
    "       [3.9 , 3.45, 3.6 , 3.6 ],\n",
    "       [4.3 , 4.8 , 4.1 , 3.6 ],\n",
    "       [4.05, 3.15, 3.5 , 3.6 ],\n",
    "       [4.2 , 3.95, 3.9 , 4.2 ],\n",
    "       [2.65, 3.2 , 3.3 , 3.7 ],\n",
    "       [3.05, 2.7 , 3.2 , 4.2 ],\n",
    "       [3.05, 2.4 , 2.6 , 4.2 ],\n",
    "       [1.  , 1.25, 2.  , 2.7 ],\n",
    "       [3.  , 3.2 , 3.45, 4.2 ],\n",
    "       [3.4 , 2.85, 3.35, 4.2 ],\n",
    "       [3.4 , 2.6 , 3.55, 4.2 ],\n",
    "       [3.4 , 3.7 , 3.65, 4.2 ],\n",
    "       [1.85, 1.85, 2.45, 3.7 ],\n",
    "       [3.4 , 3.2 , 3.3 , 4.2 ],\n",
    "       [3.4 , 3.95, 3.3 , 4.2 ],\n",
    "       [2.3 , 2.7 , 3.2 , 3.7 ],\n",
    "       [2.65, 3.5 , 3.1 , 3.7 ],\n",
    "       [1.75, 1.95, 2.75, 3.2 ],\n",
    "       [1.5 , 1.6 , 2.75, 3.2 ],\n",
    "       [1.35, 1.9 , 2.7 , 3.2 ],\n",
    "       [2.6 , 3.4 , 3.25, 3.7 ],\n",
    "       [2.05, 2.85, 3.15, 3.2 ],\n",
    "       [2.2 , 2.65, 3.2 , 3.7 ],\n",
    "       [1.65, 3.95, 3.15, 3.7 ],\n",
    "       [3.9 , 4.  , 3.95, 3.7 ],\n",
    "       [3.95, 4.15, 3.8 , 3.7 ],\n",
    "       [1.95, 2.9 , 2.95, 2.7 ],\n",
    "       [3.85, 3.75, 3.65, 4.2 ],\n",
    "       [2.8 , 3.3 , 3.45, 3.2 ],\n",
    "       [4.35, 3.  , 3.85, 4.2 ],\n",
    "       [4.2 , 3.5 , 3.9 , 4.2 ],\n",
    "       [4.25, 3.3 , 3.7 , 4.8 ],\n",
    "       [4.2 , 3.4 , 3.7 , 4.8 ],\n",
    "       [3.75, 3.5 , 3.75, 4.3 ],\n",
    "       [2.9 , 2.75, 3.25, 4.3 ],\n",
    "       [4.7 , 3.65, 4.2 , 4.8 ],\n",
    "       [2.75, 3.1 , 3.15, 3.8 ],\n",
    "       [2.85, 3.7 , 3.5 , 3.8 ],\n",
    "       [1.2 , 1.85, 2.5 , 2.8 ],\n",
    "       [2.85, 3.1 , 3.45, 3.8 ],\n",
    "       [3.45, 3.75, 3.5 , 3.8 ],\n",
    "       [1.25, 2.7 , 2.7 , 2.8 ],\n",
    "       [2.55, 4.2 , 3.3 , 3.8 ],\n",
    "       [1.7 , 2.5 , 2.75, 3.3 ],\n",
    "       [4.05, 2.95, 3.7 , 4.3 ],\n",
    "       [4.45, 4.2 , 4.1 , 4.3 ],\n",
    "       [1.6 , 3.25, 2.8 , 3.3 ],\n",
    "       [4.4 , 4.35, 4.15, 4.3 ],\n",
    "       [4.1 , 3.15, 3.65, 4.3 ],\n",
    "       [2.75, 3.25, 3.05, 3.3 ],\n",
    "       [4.05, 4.1 , 3.6 , 4.3 ],\n",
    "       [4.3 , 3.6 , 3.75, 4.3 ],\n",
    "       [4.3 , 4.15, 3.8 , 4.3 ],\n",
    "       [3.25, 4.3 , 3.45, 3.3 ],\n",
    "       [4.5 , 3.9 , 4.2 , 4.3 ],\n",
    "       [4.6 , 4.1 , 4.1 , 4.3 ],\n",
    "       [2.1 , 1.6 , 2.1 , 3.9 ],\n",
    "       [2.4 , 1.9 , 3.05, 3.9 ],\n",
    "       [2.7 , 3.1 , 3.3 , 3.9 ],\n",
    "       [2.  , 2.25, 2.75, 3.4 ],\n",
    "       [1.35, 3.5 , 2.2 , 2.9 ],\n",
    "       [3.15, 3.05, 3.3 , 3.9 ],\n",
    "       [2.5 , 2.65, 2.85, 3.4 ],\n",
    "       [1.7 , 2.15, 2.9 , 3.4 ],\n",
    "       [2.45, 1.65, 2.95, 3.9 ],\n",
    "       [2.35, 3.2 , 3.25, 3.4 ],\n",
    "       [1.05, 2.7 , 2.3 , 2.9 ],\n",
    "       [2.35, 3.5 , 3.2 , 3.9 ],\n",
    "       [3.45, 2.3 , 3.55, 3.9 ],\n",
    "       [2.6 , 3.45, 3.3 , 3.9 ],\n",
    "       [2.5 , 3.05, 3.  , 3.4 ],\n",
    "       [3.25, 3.75, 3.45, 2.9 ],\n",
    "       [2.6 , 3.7 , 3.35, 2.9 ],\n",
    "       [3.45, 3.5 , 3.55, 3.4 ],\n",
    "       [2.6 , 3.35, 3.2 , 2.9 ],\n",
    "       [3.35, 3.55, 3.4 , 3.4 ],\n",
    "       [3.95, 3.95, 3.65, 3.9 ],\n",
    "       [3.8 , 3.95, 3.6 , 3.9 ],\n",
    "       [4.05, 4.  , 3.6 , 3.4 ],\n",
    "       [3.65, 3.5 , 3.55, 3.4 ],\n",
    "       [4.35, 4.25, 3.55, 3.9 ],\n",
    "       [4.3 , 3.65, 3.7 , 3.9 ],\n",
    "       [3.2 , 2.7 , 3.15, 4.4 ],\n",
    "       [3.25, 3.65, 3.35, 4.4 ],\n",
    "       [3.3 , 1.65, 3.35, 4.4 ],\n",
    "       [4.05, 3.6 , 3.7 , 4.4 ],\n",
    "       [3.  , 3.45, 3.  , 4.4 ],\n",
    "       [4.5 , 4.  , 3.9 , 4.4 ],\n",
    "       [4.55, 4.4 , 4.  , 4.4 ],\n",
    "       [4.05, 3.5 , 3.65, 4.5 ],\n",
    "       [2.6 , 2.85, 3.35, 4.  ],\n",
    "       [3.65, 2.95, 3.5 , 4.5 ],\n",
    "       [1.8 , 1.2 , 2.15, 3.5 ],\n",
    "       [3.65, 2.4 , 3.6 , 4.5 ],\n",
    "       [1.15, 2.45, 2.6 , 3.  ],\n",
    "       [1.25, 2.2 , 2.45, 3.  ],\n",
    "       [3.75, 3.55, 3.55, 4.  ],\n",
    "       [4.15, 3.55, 3.6 , 4.5 ],\n",
    "       [1.25, 2.65, 2.7 , 3.  ],\n",
    "       [4.5 , 4.45, 4.3 , 4.5 ],\n",
    "       [3.9 , 3.95, 3.7 , 4.  ],\n",
    "       [4.1 , 3.75, 3.6 , 3.5 ],\n",
    "       [3.9 , 4.4 , 3.7 , 3.5 ],\n",
    "       [4.05, 3.65, 3.9 , 3.5 ],\n",
    "       [3.15, 3.2 , 3.35, 3.5 ]]\n",
    "\n",
    "cols=['RT_user_norm', 'Metacritic_user_nom',\n",
    "       'IMDB_norm', 'Fandango_Ratingvalue']\n",
    "df = pd.DataFrame(X, columns=cols)\n"
   ]
  },
  {
   "cell_type": "code",
   "execution_count": 6,
   "metadata": {},
   "outputs": [
    {
     "data": {
      "image/png": "[encoded data removed]",
      "text/plain": [
       "<Figure size 640x480 with 1 Axes>"
      ]
     },
     "metadata": {},
     "output_type": "display_data"
    }
   ],
   "source": [
    "cols=['RT_user_norm', 'Metacritic_user_nom',\n",
    "       'IMDB_norm', 'Fandango_Ratingvalue']\n",
    "X = df[cols].values\n",
    "\n",
    "# 定义离群点的样式\n",
    "flierprops = dict(marker='+', markersize=10)\n",
    "# 定义“胡须”的样式\n",
    "whiskerprops = dict(linestyle='--', linewidth=1.5, color='red')\n",
    "# 定义箱子的样式\n",
    "boxprops = dict(linestyle='-', linewidth=1.5, color='blue')\n",
    "\n",
    "plt.boxplot(X, labels=cols, boxprops=boxprops, flierprops=flierprops, whiskerprops=whiskerprops)\n",
    "\n",
    "# 设置纵坐标范围\n",
    "plt.ylim(0, 5)\n",
    "# 横坐标标签垂直显示\n",
    "plt.xticks(rotation=90, fontsize=18)\n",
    "# 让四周都出现刻度, 并且刻度在内侧\n",
    "plt.tick_params(axis='both', which='both', direction='in', top=True, right=True)\n",
    "\n",
    "# 显示图形\n",
    "plt.show()\n"
   ]
  }
 ],
 "metadata": {
  "kernelspec": {
   "display_name": "Python 3",
   "language": "python",
   "name": "python3"
  },
  "language_info": {
   "codemirror_mode": {
    "name": "ipython",
    "version": 3
   },
   "file_extension": ".py",
   "mimetype": "text/x-python",
   "name": "python",
   "nbconvert_exporter": "python",
   "pygments_lexer": "ipython3",
   "version": "3.11.0"
  },
  "orig_nbformat": 4
 },
 "nbformat": 4,
 "nbformat_minor": 2
}
