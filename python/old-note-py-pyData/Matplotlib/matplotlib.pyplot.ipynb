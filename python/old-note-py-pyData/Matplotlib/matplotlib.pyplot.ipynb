{
 "cells": [
  {
   "attachments": {},
   "cell_type": "markdown",
   "metadata": {},
   "source": [
    "## 相关配置"
   ]
  },
  {
   "attachments": {},
   "cell_type": "markdown",
   "metadata": {},
   "source": [
    "`plt.rcParams['axes.unicode_minus'] = False` 指示 Matplotlib 不要使用 Unicode 渲染负号，而是使用正常的 ASCII 字符进行渲染, 从而解决负号显示异常的问题\n",
    "\n",
    "`plt.rcParams['font.family'] = ['Microsoft YaHei']` 解决中文乱码问题\n",
    "\n",
    "'SimHei' 无法显示负号, 'Arial' 无法显示中文, 两个一起就可以互补\n",
    "`plt.rcParams['font.family'] = ['Arial', 'SimHei']`\n",
    "\n",
    "`plt.rcParams['font.sans-serif']` 配置的是无衬线字体, 当 Matplotlib 需要用到无衬线字体时, 会优先从这里去寻找对应的字体。\n"
   ]
  },
  {
   "attachments": {},
   "cell_type": "markdown",
   "metadata": {},
   "source": [
    "### Axes (ax)\n",
    "\n",
    "Axes 对象是一个二维坐标系，用于绘制数据图形。\n",
    "\n",
    "plt.subplots() 方法创建一个 Figure 和一个或多个 Axes 对象。Figure 对象是一个画布，它可以包含多个子图（即 Axes 对象），而每个 Axes 对象则代表画布上的一个绘图区域，可用于绘制线条、散点图、柱状图等各种图形。\n",
    "\n",
    "在 Pandas 绘图时，使用 df.plot() 方法会返回一个 AxesSubplot 对象，该对象实际上是 Axes 对象的一种类型，可用于进一步修改和定制绘图样式。"
   ]
  },
  {
   "attachments": {},
   "cell_type": "markdown",
   "metadata": {},
   "source": [
    "## 🍕 `plt.xticks()` 设置坐标轴刻度的位置和标签。\n",
    "\n",
    "有以下参数:\n",
    "- `ticks` 指定刻度位置的列表或数组。\n",
    "- `labels`: 指定刻度标签的列表或数组。\n",
    "\n",
    "- `fontdict`: 字体属性, 它是字典对象，用于指定文本的字体属性, 比如\n",
    "  - `'family'`: 字体名称或字体族名称。\n",
    "  - `'style'` 或 `'fontstyle'`: 字体风格，取值范围为 {normal, italic, oblique}。\n",
    "  - `'variant'` 或 `'fontvariant'`: 字体变体，取值范围为 {normal, small-caps}。\n",
    "  - `'weight'` 或 `'fontweight'`: 字体粗细，取值范围为 {normal, bold, bolder, lighter, 100-900}。\n",
    "  - `'size'` 或 `'fontsize'`: 字体大小，以磅为单位，默认为 12。\n",
    "  - `'color'`: 文本颜色，可以使用 RGB 元组、HTML 颜色字符串、CSS 颜色名等表示方式。\n",
    "\n",
    "- `withdash`: 是否在 tick 上画虚线，默认为 False。\n",
    "\n",
    "- `rotation` 控制标签的旋转角度。 有以下值:\n",
    "  - `0` or `horizontal`: 水平\n",
    "  - `90` or `'vertical'`: 垂直\n",
    "  - positive/negative integer, 比如 `45` 和 `-45`\n",
    "\n",
    "- `alpha`: 设置刻度标签的透明度，取值范围为 [0, 1]。\n",
    "\n",
    "- `minor`: 布尔型变量，是否显示次要刻度，默认为 False。"
   ]
  },
  {
   "attachments": {},
   "cell_type": "markdown",
   "metadata": {},
   "source": [
    "## 🍕 `plt.text()` 添加文本并定义相关属性\n",
    "\n",
    "它的语法如下：\n",
    "\n",
    "```py\n",
    "plt.text(x, y, s, fontdict=None, withdash=False, **kwargs)\n",
    "```\n",
    "其中：\n",
    "\n",
    "- `x` 和 `y` 是文本放置的位置坐标。\n",
    "- `s` 是要显示的文本内容。\n",
    "- `fontdict` 是一个字典，用于设置文本样式，包括字体大小、颜色、字体名称等等。例如，`{'size': 16, 'color': 'red', 'family': 'serif'}`。\n",
    "- `withdash` 如果为 True，则将文本化为带破折号的文本。\n",
    "- `**kwargs` 其他的参数，比如旋转角度、文本对齐方式等等。\n",
    "  - `rotation`: 旋转角度。\n",
    "  - `ha`: 表示文本的水平对齐方式。 `ha='center'` 表示文本水平居中显示。\n",
    "  - `va`：表示文本的垂直对齐方式，例如 top、bottom 或者 center。\n",
    "  - `color`：表示文本的颜色。\n",
    "  - `bbox`：表示一个字典，用于设置文本的背景框，包括颜色和透明度等等。例如，{'facecolor': 'yellow', 'alpha': 0.5}。\n",
    "  - `fontweight`：表示文本的粗细程度，例如 normal、bold 或者 light。\n",
    "  - `fontstyle`：表示文本的风格，例如 normal、italic 或者 oblique。"
   ]
  }
 ],
 "metadata": {
  "language_info": {
   "name": "python"
  },
  "orig_nbformat": 4
 },
 "nbformat": 4,
 "nbformat_minor": 2
}
