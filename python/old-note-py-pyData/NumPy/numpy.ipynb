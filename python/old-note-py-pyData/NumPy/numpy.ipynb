{
 "cells": [
  {
   "attachments": {},
   "cell_type": "markdown",
   "metadata": {},
   "source": [
    "> 在正态分布中，大约68%的值落在均值加减一个标准差的范围内，大约95%的值落在均值加减两个标准差的范围内，大约99.7%的值落在均值加减三个标准差的范围内。但需要注意的是，由于正态分布是连续分布，因此实际上可以生成任何实数值。\n",
    "\n",
    "🌰\n",
    "下面这段代码能生成100个符合正态分布的均值为150, 标准差为10的随机整数\n",
    "```py\n",
    "import numpy as np\n",
    "numbers = np.round(np.random.normal(150, 10, size=100)).astype(int)\n",
    "```\n",
    "- `np.random.normal(150, 10, size=100)` 借用 `numpy` 库中的 `random.normal()` 函数生成100个均值为150, 标准差为10的正态分布随机数\n",
    "- `np.round()` 函数能将浮点数四舍五入为整数, 此时数据类型还是浮点数\n",
    "- `astype(int)` 函数能将数据类型转换为整数类型。 具体地说, 是将 `numpy.ndarray` 的元素的数据类型转换为 `numpy.int32` 整型"
   ]
  },
  {
   "attachments": {},
   "cell_type": "markdown",
   "metadata": {},
   "source": [
    "## 🍕 `numpy.linspace()` 在指定的间隔内返回均匀间隔的数字\n",
    "\n",
    "`numpy.linspace(start, stop, num=50, endpoint=True, retstep=False, dtype=None, axis=0)` 是在指定的间隔内返回均匀间隔的数字。\n",
    "\n",
    "这个函数的参数如下: \n",
    "- `start`: 序列的起始值\n",
    "- `stop`: 序列的结束值，如果endpoint=True，则该值包括在序列中\n",
    "- `num`: 要生成的等间隔样例数量，默认为50\n",
    "- `endpoint`: 序列中是否包含stop值，默认为True\n",
    "- `retstep`: 如果为True，则返回样例之间的步长\n",
    "- `dtype`: 数组的类型。默认是None\n",
    "- `axis`: 生成的数组中的轴\n",
    "返回一个一维数组，按照指定的间隔均匀分布，例如: \n",
    "```py\n",
    "# 生成一个长度为5的一维数组，其中包含0到10之间的5个等间隔样例。\n",
    "bins = np.linspace(0, 10, num=5)\n",
    "bins # array([ 0. ,  2.5,  5. ,  7.5, 10. ])\n",
    "```"
   ]
  },
  {
   "attachments": {},
   "cell_type": "markdown",
   "metadata": {},
   "source": [
    "## 🍕 `np.cumsum()`  计算数组元素的累积和。\n",
    "\n",
    "`np.cumsum()` 函数，需要提供一个数组作为输入参数。该函数将返回一个与输入数组具有相同形状的数组，其中每个元素都是原始数组对应位置之前所有元素的累加值。\n",
    "\n",
    "```py\n",
    "import numpy\n",
    "numpy.cumsum(a, axis=None, dtype=None, out=None)\n",
    "```\n",
    "参数说明: \n",
    "\n",
    "- `a`: 输入数组。\n",
    "- `axis`: 指定在哪个轴上计算累计和。默认情况下，将所有元素相加。\n",
    "- `dtype`: 输出数组的数据类型。如果此参数未给出，则返回类型由输入数据类型推断得出。\n",
    "- `out`: 输出结果的数组。它必须与输入数组具有相同的形状。\n",
    "\n",
    "返回输入数组的累计和。"
   ]
  }
 ],
 "metadata": {
  "language_info": {
   "name": "python"
  },
  "orig_nbformat": 4
 },
 "nbformat": 4,
 "nbformat_minor": 2
}
