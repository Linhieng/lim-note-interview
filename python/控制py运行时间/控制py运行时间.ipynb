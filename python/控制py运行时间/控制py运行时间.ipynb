{
 "cells": [
  {
   "cell_type": "markdown",
   "metadata": {},
   "source": [
    "## 借助 [func_timeout](https://github.com/kata198/func_timeout) 模块实现。"
   ]
  },
  {
   "cell_type": "markdown",
   "metadata": {},
   "source": [
    "[原生实现](https://zhuanlan.zhihu.com/p/390143037)"
   ]
  },
  {
   "cell_type": "code",
   "execution_count": 46,
   "metadata": {},
   "outputs": [],
   "source": [
    "from func_timeout import func_timeout, FunctionTimedOut\n",
    "\n",
    "def limit_time(limit, doit, args):\n",
    "\ttry:\n",
    "\t\tdoitReturnValue = func_timeout(limit, doit, args)\n",
    "\t\treturn False, doitReturnValue\n",
    "\texcept FunctionTimedOut:\n",
    "\t\treturn True, '超时'\n",
    "\texcept Exception as e:\n",
    "\t\treturn True, '出错'\n"
   ]
  },
  {
   "cell_type": "code",
   "execution_count": 55,
   "metadata": {},
   "outputs": [
    {
     "name": "stdout",
     "output_type": "stream",
     "text": [
      "3\n"
     ]
    }
   ],
   "source": [
    "def do_something(a, b):\n",
    "    for i in range(999999):\n",
    "        i += 1\n",
    "    return a + b\n",
    "\n",
    "timeout, return_val = limit_time(0.001, do_something, (1, 2))\n",
    "if timeout:\n",
    "    print('❌', return_val)\n",
    "else:\n",
    "    print(return_val)"
   ]
  }
 ],
 "metadata": {
  "kernelspec": {
   "display_name": "Python 3",
   "language": "python",
   "name": "python3"
  },
  "language_info": {
   "codemirror_mode": {
    "name": "ipython",
    "version": 3
   },
   "file_extension": ".py",
   "mimetype": "text/x-python",
   "name": "python",
   "nbconvert_exporter": "python",
   "pygments_lexer": "ipython3",
   "version": "3.11.4"
  },
  "orig_nbformat": 4
 },
 "nbformat": 4,
 "nbformat_minor": 2
}
