{
 "cells": [
  {
   "cell_type": "code",
   "execution_count": 210,
   "metadata": {},
   "outputs": [],
   "source": [
    "from random import randint as rd\n",
    "from time import time as t\n",
    "\n",
    "\n",
    "class Node:\n",
    "    def __init__(self, data):\n",
    "        self.data = data\n",
    "        self.next = None\n",
    "        self.prev = None\n",
    "        self.rand = None"
   ]
  },
  {
   "cell_type": "code",
   "execution_count": 211,
   "metadata": {},
   "outputs": [],
   "source": [
    "# 打印链表\n",
    "def print_linked_list(point, from_head=True):\n",
    "    direction = '-->' if from_head else '<--'\n",
    "    while point is not None:\n",
    "        print(f' [{point.data}] ', end='')\n",
    "        point = point.next if from_head else point.prev\n",
    "        print(direction if point != None else '.\\n', end='')\n",
    "\n",
    "\n",
    "# 链表转数组\n",
    "def linked_list2arr(head):\n",
    "    arr = []\n",
    "    while head != None:\n",
    "        arr.append(head.data)\n",
    "        head = head.next\n",
    "    return arr\n",
    "\n",
    "\n",
    "# 生成随机链表\n",
    "def generate_random_linked_list(max_size=60, max_value=30, ordered=False, double=False):\n",
    "    size = rd(0, max_size)\n",
    "    if size == 0:\n",
    "        return arr2linked_list([], double)\n",
    "    arr = [rd(-max_value, max_value) for _ in range(size)]\n",
    "    if ordered:\n",
    "        arr.sort()\n",
    "    return arr2linked_list(arr, double)\n",
    "\n",
    "\n",
    "# 数组转链表\n",
    "def arr2linked_list(arr, double=False):\n",
    "    if len(arr) == 0:\n",
    "        return None\n",
    "    head = point = Node(arr[0])\n",
    "    for i in range(1, len(arr)):\n",
    "        node = Node(arr[i])\n",
    "        if double:\n",
    "            node.prev = point\n",
    "        point.next = node\n",
    "        point = node\n",
    "    return head\n",
    "\n",
    "\n",
    "# 拷贝链表\n",
    "def copy_linked_list(old_head, double=False):\n",
    "    if old_head is None:\n",
    "        return None\n",
    "    new_head = new_point = Node(old_head.data)\n",
    "    old_point = old_head.next\n",
    "    while old_point != None:\n",
    "        new_node = Node(old_point.data)\n",
    "        if double:\n",
    "            new_node.prev = new_point\n",
    "        new_point.next = new_node\n",
    "        new_point = new_node\n",
    "        old_point = old_point.next\n",
    "    return new_head\n"
   ]
  },
  {
   "attachments": {},
   "cell_type": "markdown",
   "metadata": {},
   "source": [
    "# TEST - 反转链表"
   ]
  },
  {
   "attachments": {},
   "cell_type": "markdown",
   "metadata": {},
   "source": [
    "## 验证"
   ]
  },
  {
   "cell_type": "code",
   "execution_count": 212,
   "metadata": {},
   "outputs": [],
   "source": [
    "def validate_reverse_linked_list(head1, head2, isDouble=False):\n",
    "    return is_double_reverse(head1, head2) if isDouble else is_single_reverse(head1, head2)\n",
    "\n",
    "\n",
    "def is_single_reverse(head1, head2):\n",
    "    linked_list1 = []\n",
    "    while head1 is not None:\n",
    "        linked_list1.append(head1.data)\n",
    "        head1 = head1.next\n",
    "    while head2 is not None:\n",
    "        if (len(linked_list1) == 0\n",
    "                or head2.data != linked_list1.pop()):\n",
    "            return False\n",
    "        head2 = head2.next\n",
    "    return True\n",
    "\n",
    "\n",
    "def is_double_reverse(h1, h2):\n",
    "    # 需要验证两条链: next 链和 prev 链\n",
    "    t1 = get_linked_list_tail(h1)\n",
    "    t2 = get_linked_list_tail(h2)\n",
    "    # h1 走 next 链, h2 走 prev 链\n",
    "    while h1 is not None and t2 is not None:\n",
    "        if (h1 is None and t2 is not None) or (h1 is not None and t2 is None):  # 两条链不等长\n",
    "            return False\n",
    "        if h1.data != t2.data:\n",
    "            return False\n",
    "        h1 = h1.next\n",
    "        t2 = t2.prev\n",
    "    # h1 走 prev 链, h2 走 next 链\n",
    "    while h2 is not None and t1 is not None:\n",
    "        if (h2 is None and t1 is not None) or (h2 is not None and t1 is None):  # 两条链不等长\n",
    "            return False\n",
    "        if h2.data != t1.data:\n",
    "            return False\n",
    "        h2 = h2.next\n",
    "        t1 = t1.prev\n",
    "    return True\n",
    "\n",
    "\n",
    "def get_linked_list_tail(head):\n",
    "    while head is not None:\n",
    "        if (head.next is None):\n",
    "            return head\n",
    "        head = head.next\n",
    "    return None\n"
   ]
  },
  {
   "attachments": {},
   "cell_type": "markdown",
   "metadata": {},
   "source": [
    "## 实现"
   ]
  },
  {
   "cell_type": "code",
   "execution_count": 213,
   "metadata": {},
   "outputs": [],
   "source": [
    "def reversed_linked_list(head, isDouble=False):\n",
    "    # 判断边界条件\n",
    "    if head is None or head.next is None:\n",
    "        return head\n",
    "    \n",
    "    pr = None\n",
    "    p = head\n",
    "    pn = p.next\n",
    "    while True:\n",
    "        p.next = pr\n",
    "        if isDouble:\n",
    "            p.prev = pn\n",
    "        \n",
    "        if pn is None:\n",
    "            break\n",
    "        \n",
    "        pr = p\n",
    "        p = pn\n",
    "        pn = p.next\n",
    "\n",
    "    return p"
   ]
  },
  {
   "attachments": {},
   "cell_type": "markdown",
   "metadata": {},
   "source": [
    "## 测试"
   ]
  },
  {
   "cell_type": "code",
   "execution_count": 214,
   "metadata": {},
   "outputs": [
    {
     "name": "stdout",
     "output_type": "stream",
     "text": [
      "( 2.92s)反转单链表: ✔️\n",
      "( 3.58s)反转双链表: ✔️\n"
     ]
    }
   ],
   "source": [
    "test_time = 50_000\n",
    "max_size = 100\n",
    "max_value = 200\n",
    "succeed = True\n",
    "\n",
    "st = t()\n",
    "for _ in range(test_time):\n",
    "    h1 = generate_random_linked_list(max_size, max_value)\n",
    "    h2 = copy_linked_list(h1)\n",
    "    h1 = reversed_linked_list(h1)\n",
    "    if False == validate_reverse_linked_list(h1, h2):\n",
    "        succeed = False\n",
    "        break\n",
    "print(f'({t()-st:5.2f}s)反转单链表:', '✔️' if succeed else '❌')\n",
    "\n",
    "\n",
    "succeed = True\n",
    "st = t()\n",
    "for _ in range(test_time):\n",
    "    h1 = generate_random_linked_list(max_size, max_value, double=True)\n",
    "    h2 = copy_linked_list(h1, True)\n",
    "    h1 = reversed_linked_list(h1, True)\n",
    "    if False == validate_reverse_linked_list(h1, h2, True):\n",
    "        succeed = False\n",
    "        break\n",
    "print(f'({t()-st:5.2f}s)反转双链表:', '✔️' if succeed else '❌')\n"
   ]
  },
  {
   "attachments": {},
   "cell_type": "markdown",
   "metadata": {},
   "source": [
    "# TEST - 打印链表公共部分"
   ]
  },
  {
   "attachments": {},
   "cell_type": "markdown",
   "metadata": {},
   "source": [
    "## 验证"
   ]
  },
  {
   "cell_type": "code",
   "execution_count": 215,
   "metadata": {},
   "outputs": [],
   "source": [
    "def validate_linked_list_common(head1, head2, common):\n",
    "    for item in common:\n",
    "        while head1 is not None and head1.data != item:\n",
    "            head1 = head1.next\n",
    "        while head2 is not None and head2.data != item:\n",
    "            head2 = head2.next\n",
    "        # 如果 common 是公共部分, 那么指针不可能走到 None\n",
    "        if head1 is None or  head2 is None:\n",
    "            return False\n",
    "    return True\n"
   ]
  },
  {
   "attachments": {},
   "cell_type": "markdown",
   "metadata": {},
   "source": [
    "## 实现"
   ]
  },
  {
   "cell_type": "code",
   "execution_count": 216,
   "metadata": {},
   "outputs": [],
   "source": [
    "def linked_list_common(head1, head2):\n",
    "    # 因为有序, 所以谁小谁移动。 相同打印并一起移动\n",
    "    common = []\n",
    "    while head1 is not None and head2 is not None:\n",
    "        if head1.data < head2.data:\n",
    "            head1 = head1.next\n",
    "        elif head1.data > head2.data:\n",
    "            head2 = head2.next\n",
    "        else:\n",
    "            common.append(head1.data)\n",
    "            head1 = head1.next\n",
    "            head2 = head2.next\n",
    "    return common"
   ]
  },
  {
   "attachments": {},
   "cell_type": "markdown",
   "metadata": {},
   "source": [
    "## 测试"
   ]
  },
  {
   "cell_type": "code",
   "execution_count": 217,
   "metadata": {},
   "outputs": [
    {
     "name": "stdout",
     "output_type": "stream",
     "text": [
      "( 4.33s)打印链表公共部分: ✔️\n"
     ]
    }
   ],
   "source": [
    "test_time = 50_000\n",
    "max_size = 100\n",
    "max_value = 200\n",
    "succeed = True\n",
    "\n",
    "st = t()\n",
    "for _ in range(test_time):\n",
    "    h1 = generate_random_linked_list(max_size, max_value, ordered=True)\n",
    "    h2 = generate_random_linked_list(max_size, max_value, ordered=True)\n",
    "    \n",
    "    common = linked_list_common(h1, h2)\n",
    "    \n",
    "    if False == validate_linked_list_common(h1, h2, common):\n",
    "        succeed = False\n",
    "        break\n",
    "print(f'({t()-st:5.2f}s)打印链表公共部分:', '✔️' if succeed else '❌')\n"
   ]
  },
  {
   "attachments": {},
   "cell_type": "markdown",
   "metadata": {},
   "source": [
    "# TEST - 判断回文链表"
   ]
  },
  {
   "attachments": {},
   "cell_type": "markdown",
   "metadata": {},
   "source": [
    "## 工具"
   ]
  },
  {
   "cell_type": "code",
   "execution_count": 218,
   "metadata": {},
   "outputs": [],
   "source": [
    "def generate_random_palindrome_linked_list(max_size=60, max_value=30):\n",
    "    arr = []\n",
    "    size = rd(0, max_size)\n",
    "    if size == 0:\n",
    "        return arr2linked_list(arr)\n",
    "    \n",
    "    if 1 == rd(0, 1): # 50% 概率生成回文链表\n",
    "        half_size = int(size/2)\n",
    "        # 生成前半段链表\n",
    "        half_arr = [rd(-max_value, max_value) for _ in range(half_size)]\n",
    "        arr = [item for item in half_arr]\n",
    "        # 随机回文链表长度奇偶性\n",
    "        if 1 == rd(0, 1):\n",
    "            arr.append(rd(-max_value, max_value))\n",
    "        # 补充后半段链表\n",
    "        for item in reversed(half_arr):\n",
    "            arr.append(item)\n",
    "    else: # 50% 生成不回文链表\n",
    "        arr = [rd(-max_value, max_value) for _ in range(size)]\n",
    "\n",
    "    return arr2linked_list(arr)\n"
   ]
  },
  {
   "attachments": {},
   "cell_type": "markdown",
   "metadata": {},
   "source": [
    "## 验证"
   ]
  },
  {
   "cell_type": "code",
   "execution_count": 219,
   "metadata": {},
   "outputs": [],
   "source": [
    "def validate_linked_list_palindrome(head, flag):\n",
    "    # 空链认为不回文\n",
    "    if head is None:\n",
    "        return False == flag\n",
    "    arr = linked_list2arr(head)\n",
    "    l = len(arr)\n",
    "    for i in range(int(l/2)):\n",
    "        if (arr[i] != arr[l-i-1]):\n",
    "            return False == flag\n",
    "        \n",
    "    return True == flag\n"
   ]
  },
  {
   "attachments": {},
   "cell_type": "markdown",
   "metadata": {},
   "source": [
    "## 实现"
   ]
  },
  {
   "cell_type": "code",
   "execution_count": 220,
   "metadata": {},
   "outputs": [],
   "source": [
    "def is_palindrome_linked_list1(head):\n",
    "    if head is None:\n",
    "        return False\n",
    "    if head.next is None:\n",
    "        return True\n",
    "    # 第一次遍历, 将所有节点值进栈。\n",
    "    # 第二次遍历, 一一比较节点和出栈的节点值\n",
    "    point = head\n",
    "    stack = []\n",
    "    while point is not None:\n",
    "        stack.append(point.data)\n",
    "        point = point.next\n",
    "    point = head\n",
    "    while point is not None:\n",
    "        if point.data != stack.pop():\n",
    "            return False\n",
    "        point = point.next\n",
    "    return True\n",
    "\n",
    "\n",
    "def is_palindrome_linked_list2(head):\n",
    "    if head is None:\n",
    "        return False\n",
    "    if head.next is None:\n",
    "        return True\n",
    "    # 利用快慢指针, 走到中点就开始出栈比较\n",
    "    slow = head\n",
    "    quick = head.next\n",
    "    mid_r = None  # 偶:偏右; 奇:中点右边\n",
    "    half_stack = []  # 只会填充左侧。 偶:填一半; 奇:不包含中点\n",
    "    while True:\n",
    "        half_stack.append(slow.data)\n",
    "        if quick.next is None:  # 偶\n",
    "            mid_r = slow.next\n",
    "            break\n",
    "        if quick.next.next is None:  # 奇\n",
    "            mid_r = slow.next.next\n",
    "            break\n",
    "        slow = slow.next\n",
    "        quick = quick.next.next\n",
    "    while mid_r is not None:\n",
    "        if (mid_r.data != half_stack.pop()):\n",
    "            return False\n",
    "        mid_r = mid_r.next\n",
    "    return True\n",
    "\n",
    "\n",
    "def is_palindrome_linked_list3(head):\n",
    "    if head is None:\n",
    "        return False\n",
    "    if head.next is None:\n",
    "        return True\n",
    "    # 不借助栈, 过了中点后将链表反转\n",
    "    # 然后从链表两侧往回一一比较, 往回走时再次反转链表\n",
    "    slow = head\n",
    "    quick = head.next\n",
    "    mid_r = None\n",
    "    while True:\n",
    "        if quick.next is None:\n",
    "            mid_r = slow.next\n",
    "            break\n",
    "        if quick.next.next is None:\n",
    "            mid_r = slow.next.next\n",
    "            break\n",
    "        slow = slow.next\n",
    "        quick = quick.next.next\n",
    "    # 从 mid_r 节点开始进行反转\n",
    "    pr, p, pn = None, mid_r, mid_r.next\n",
    "    while True:\n",
    "        p.next = pr\n",
    "        if pn is None:\n",
    "            break\n",
    "        pr = p\n",
    "        p = pn\n",
    "        pn = p.next\n",
    "    # 此时的 p 是右链表头节点, mid_r 是尾节点\n",
    "    # 现在再次反转右链表, 在反转的过程中与左链表一一比较\n",
    "    left = head\n",
    "    pr, p, pn = None, p, p.next\n",
    "    is_palindrome = True\n",
    "    while True:\n",
    "        if left.data != p.data:\n",
    "            is_palindrome = False\n",
    "        p.next = pr\n",
    "        if pn is None:\n",
    "            break\n",
    "        pr = p\n",
    "        p = pn\n",
    "        pn = p.next\n",
    "        left = left.next\n",
    "    return is_palindrome\n"
   ]
  },
  {
   "attachments": {},
   "cell_type": "markdown",
   "metadata": {},
   "source": [
    "## 测试"
   ]
  },
  {
   "cell_type": "code",
   "execution_count": 221,
   "metadata": {},
   "outputs": [
    {
     "name": "stdout",
     "output_type": "stream",
     "text": [
      "( 4.89s)判断是否回文-方法1,2,3 ✔️\n"
     ]
    }
   ],
   "source": [
    "test_time = 100_000\n",
    "max_size = 100\n",
    "max_value = 200\n",
    "succeed = True\n",
    "\n",
    "st = t()\n",
    "for _ in range(test_time):\n",
    "    h1 = generate_random_palindrome_linked_list(max_size, max_value)\n",
    "    \n",
    "    flag = is_palindrome_linked_list1(h1)\n",
    "    flag2 = is_palindrome_linked_list2(h1)\n",
    "    flag3 = is_palindrome_linked_list3(h1)\n",
    "    \n",
    "    if False == validate_linked_list_palindrome(h1, flag) or flag != flag2 or flag2 != flag3:\n",
    "        succeed = False\n",
    "        break\n",
    "print(f'({t()-st:5.2f}s)判断是否回文-方法1,2,3', '✔️' if succeed else '❌')\n"
   ]
  },
  {
   "attachments": {},
   "cell_type": "markdown",
   "metadata": {},
   "source": [
    "# TEST 对链表执行 partition"
   ]
  },
  {
   "attachments": {},
   "cell_type": "markdown",
   "metadata": {},
   "source": [
    "## 验证"
   ]
  },
  {
   "cell_type": "code",
   "execution_count": 222,
   "metadata": {},
   "outputs": [],
   "source": [
    "def validate_partition2(head, pivot):\n",
    "    arr = linked_list2arr(head)\n",
    "    less_index = -1\n",
    "    more_index = len(arr)\n",
    "    for a in arr:\n",
    "        if a < pivot:\n",
    "            less_index += 1\n",
    "        else:\n",
    "            break\n",
    "    for a in reversed(arr):\n",
    "        if a > pivot:\n",
    "            more_index -= 1\n",
    "        else:\n",
    "            break\n",
    "\n",
    "    # (-1, less_index] [less_index+1, more_index-1], [more_index, len)\n",
    "    less = arr[:(less_index+1)]\n",
    "    more = arr[(more_index):]\n",
    "    equal = arr[(less_index+1):more_index]\n",
    "    if len(less) > 0 and max(less) >= pivot:\n",
    "        return False\n",
    "    if len(more) > 0 and pivot >= min(more):\n",
    "        return False\n",
    "\n",
    "    for a in equal:\n",
    "        if a != pivot:\n",
    "            return False\n",
    "    return True\n",
    "\n",
    "\n",
    "def validate_partition(head, pivot):\n",
    "    lock_less = False\n",
    "    lock_equal = True\n",
    "    lock_more = True\n",
    "    \"\"\" \n",
    "        三个门相连。 房间的顺序是 less --> equal --> more\n",
    "        less 门默认开着, 另外两门默认关\n",
    "        equal 的钥匙由 less 房间控制\n",
    "        more 的钥匙由 equal 和 less 房间控制\n",
    "        less 门一旦上锁, 则只能待在 equal 和 more 房间里\n",
    "        equal 门一旦上锁 则结束\n",
    "\n",
    "    \"\"\"\n",
    "    while head is not None:\n",
    "        if not lock_less:\n",
    "            if head.data < pivot:\n",
    "                head = head.next\n",
    "                continue\n",
    "            elif head.data == pivot:\n",
    "                lock_less = True\n",
    "                lock_equal = False\n",
    "            elif head.data > pivot:\n",
    "                lock_less = True\n",
    "                lock_more = False\n",
    "        # 锁上了 less 门, 还想进 less 门则错误\n",
    "        if head.data < pivot:\n",
    "            return False\n",
    "\n",
    "        # 到这里, 说明 head.data >= pivot\n",
    "        if not lock_equal:\n",
    "            if head.data > pivot:\n",
    "                lock_equal = True\n",
    "                lock_more = False\n",
    "            # 到这里, 说明 head.data == pivot\n",
    "            head = head.next\n",
    "            continue\n",
    "        if head.data == pivot:\n",
    "            return False\n",
    "        # 到这里, 说明 head.data > pivot\n",
    "        if lock_more:\n",
    "            return False\n",
    "        head = head.next\n",
    "\n",
    "    return True\n"
   ]
  },
  {
   "attachments": {},
   "cell_type": "markdown",
   "metadata": {},
   "source": [
    "### 验证\"验证\""
   ]
  },
  {
   "cell_type": "code",
   "execution_count": 223,
   "metadata": {},
   "outputs": [
    {
     "name": "stdout",
     "output_type": "stream",
     "text": [
      "( 4.30s)validate_partition: ✔️\n"
     ]
    }
   ],
   "source": [
    "test_time = 100_000\n",
    "max_size = 100\n",
    "max_value = 200\n",
    "succeed = True\n",
    "\n",
    "st = t()\n",
    "for _ in range(test_time):\n",
    "    h1 = generate_random_linked_list(max_size, max_value)\n",
    "    pivot = rd(-max_value, max_value)\n",
    "    a = validate_partition2(h1, pivot)\n",
    "    b = validate_partition(h1, pivot)\n",
    "    if  a != b:\n",
    "        print(a, b, pivot, linked_list2arr(h1))\n",
    "        succeed = False\n",
    "        break\n",
    "print(f'({t()-st:5.2f}s)validate_partition:', '✔️' if succeed else '❌')\n"
   ]
  },
  {
   "attachments": {},
   "cell_type": "markdown",
   "metadata": {},
   "source": [
    "## 实现"
   ]
  },
  {
   "cell_type": "code",
   "execution_count": 224,
   "metadata": {},
   "outputs": [],
   "source": [
    "def linked_list_partition2(head, pivot):\n",
    "    # 稳定\n",
    "    if head is None or head.next is None:\n",
    "        return head\n",
    "\n",
    "    # 创建三条链表, 分别存放大于等于小于\n",
    "    lH, lT = None, None\n",
    "    eH, eT = None, None\n",
    "    mH, mT = None, None\n",
    "    p = head\n",
    "    while p is not None:\n",
    "        if p.data < pivot:\n",
    "            if lH is None:\n",
    "                lH = lT = p\n",
    "            else:\n",
    "                lT.next = p\n",
    "                lT = p\n",
    "        elif p.data == pivot:\n",
    "            if eH is None:\n",
    "                eH = eT = p\n",
    "            else:\n",
    "                eT.next = p\n",
    "                eT = p\n",
    "        else:\n",
    "            if mH is None:\n",
    "                mH = mT = p\n",
    "            else:\n",
    "                mT.next = p\n",
    "                mT = p\n",
    "        p = p.next\n",
    "\n",
    "    # 将三条链表连在一起。 只需要对 tail.next 进行操作\n",
    "    if lT is not None:  # lT 要么连 eH, 要么连 mH (自动包含了 None 的情况)\n",
    "        lT.next = eH if eH is not None else mH\n",
    "    if eT is not None:  # eT 只会连 mH (自动包含了 None 的情况)\n",
    "        eT.next = mH\n",
    "    if mT is not None:  # mT 只会连 None\n",
    "        mT.next = None\n",
    "\n",
    "    # 只需返回三个头中的一个, 优先级是 lH > eH > mH\n",
    "    return lH if lH is not None else (eH if eH is not None else mH)\n",
    "\n",
    "\n",
    "def linked_list_partition1(head, pivot):\n",
    "    # 不稳定\n",
    "    arr = linked_list2arr(head)\n",
    "    arr_partition(arr, pivot)\n",
    "    return arr2linked_list(arr)\n",
    "\n",
    "\n",
    "def swap(arr, i, j):\n",
    "    arr[i], arr[j] = arr[j], arr[i]\n",
    "\n",
    "\n",
    "def arr_partition(arr, pivot):\n",
    "    # 三项划分\n",
    "    #    > pivot, 交换, 移动\n",
    "    #   == pivot, 移动\n",
    "    #    < pivot, 交换, 不移动\n",
    "    less = -1\n",
    "    more = len(arr)\n",
    "\n",
    "    i = 0\n",
    "    while i < more:\n",
    "        if arr[i] < pivot:\n",
    "            less += 1\n",
    "            swap(arr, less, i)\n",
    "            i += 1\n",
    "        elif arr[i] > pivot:\n",
    "            more -= 1\n",
    "            swap(arr, more, i)\n",
    "        else:\n",
    "            i += 1\n"
   ]
  },
  {
   "attachments": {},
   "cell_type": "markdown",
   "metadata": {},
   "source": [
    "## 测试"
   ]
  },
  {
   "cell_type": "code",
   "execution_count": 225,
   "metadata": {},
   "outputs": [
    {
     "name": "stdout",
     "output_type": "stream",
     "text": [
      "( 6.29s)链表 partition 划分, 方法1 ✔️\n",
      "( 4.35s)链表 partition 划分, 方法2 ✔️\n"
     ]
    }
   ],
   "source": [
    "test_time = 100_000\n",
    "max_size = 100\n",
    "max_value = 200\n",
    "succeed = True\n",
    "\n",
    "st = t()\n",
    "for _ in range(test_time):\n",
    "    h1 = generate_random_linked_list(max_size, max_value)\n",
    "    pivot = rd(-max_value, max_value)\n",
    "    h1 = linked_list_partition1(h1, pivot)\n",
    "    if False == validate_partition(h1, pivot):\n",
    "        succeed = False\n",
    "        break\n",
    "print(f'({t()-st:5.2f}s)链表 partition 划分, 方法1', '✔️' if succeed else '❌')\n",
    "\n",
    "\n",
    "st = t()\n",
    "for _ in range(test_time):\n",
    "    h1 = generate_random_linked_list(max_size, max_value)\n",
    "    pivot = rd(-max_value, max_value)\n",
    "    h1 = linked_list_partition2(h1, pivot)\n",
    "    if False == validate_partition(h1, pivot):\n",
    "        succeed = False\n",
    "        break\n",
    "print(f'({t()-st:5.2f}s)链表 partition 划分, 方法2', '✔️' if succeed else '❌')"
   ]
  },
  {
   "attachments": {},
   "cell_type": "markdown",
   "metadata": {},
   "source": [
    "# TEST 复制含有随机指针节点的链表"
   ]
  },
  {
   "attachments": {},
   "cell_type": "markdown",
   "metadata": {},
   "source": [
    "## 工具"
   ]
  },
  {
   "cell_type": "code",
   "execution_count": 226,
   "metadata": {},
   "outputs": [],
   "source": [
    "def generate_random_node_linked_list(max_size=60, max_value=30):\n",
    "    h = generate_random_linked_list(max_size, max_value)\n",
    "    nodes = []\n",
    "    p = h\n",
    "    while p is not None: \n",
    "        nodes.append(p)\n",
    "        p = p.next\n",
    "    p = h\n",
    "    l = len(nodes)\n",
    "    while p is not None:\n",
    "        if rd(0, 9) > 2:\n",
    "            p.rand = nodes[rd(0,l-1)]\n",
    "        p = p.next\n",
    "    return h"
   ]
  },
  {
   "attachments": {},
   "cell_type": "markdown",
   "metadata": {},
   "source": [
    "## 验证"
   ]
  },
  {
   "cell_type": "code",
   "execution_count": 227,
   "metadata": {},
   "outputs": [],
   "source": [
    "def validate_random_node_copy(head1, head2):\n",
    "    p1, p2 = head1, head2\n",
    "    while p1 is not None:\n",
    "        # p1, p2 长度不等\n",
    "        if p2 is None:\n",
    "            return False\n",
    "        # p1, p2 不等\n",
    "        if p1.data != p2.data:\n",
    "            return False\n",
    "        # rand 不等\n",
    "        if ((p1.rand is None and p2.rand is not None)\n",
    "                or (p2.rand is None and p1.rand is not None)\n",
    "                or (p1.rand is not None and p2.rand is not None\n",
    "                    and p1.rand.data != p2.rand.data)):\n",
    "            return False\n",
    "        p1 = p1.next\n",
    "        p2 = p2.next\n",
    "\n",
    "    if p2 is not None:  # p1, p2 长度不等\n",
    "        return False\n",
    "\n",
    "    return True\n"
   ]
  },
  {
   "attachments": {},
   "cell_type": "markdown",
   "metadata": {},
   "source": [
    "## 实现"
   ]
  },
  {
   "cell_type": "code",
   "execution_count": 228,
   "metadata": {},
   "outputs": [],
   "source": [
    "def copy_random_node_linked_list1(head):\n",
    "    # 利用 Map, 旧节点作为 key, 其拷贝值作为 value\n",
    "    # 再次遍历链表, 将 rand 值作为 key 找到其拷贝值, 将其赋值给新节点的 rand\n",
    "    node_map = {None: None}\n",
    "    p = head\n",
    "    while p is not None:\n",
    "        node_map[p] = Node(p.data)\n",
    "        p = p.next\n",
    "    p = head\n",
    "    while p is not None:\n",
    "        node_map[p].next = node_map[p.next]\n",
    "        node_map[p].rand = node_map[p.rand]\n",
    "        p = p.next\n",
    "    copy_head = node_map[head]\n",
    "    return copy_head\n",
    "\n",
    "\n",
    "def copy_random_node_linked_list2(head):\n",
    "    if head is None:\n",
    "        return None\n",
    "    # 1. 创建克隆节点并将它们插入到源节点后\n",
    "    p = head\n",
    "    while p is not None:\n",
    "        p_copy = Node(p.data)\n",
    "        p_copy.next = p.next\n",
    "        p.next = p_copy\n",
    "        p = p_copy.next\n",
    "    # 2. 找到克隆节点的 rand 所对应的克隆 rand 节点\n",
    "    p = head\n",
    "    while p is not None:\n",
    "        p_copy = p.next\n",
    "        pn = p.next.next\n",
    "        if p.rand is not None:\n",
    "            p_copy.rand = p.rand.next\n",
    "        p = pn\n",
    "    # 3. 将克隆节点抽离出来\n",
    "    p = head\n",
    "    copy_head = p.next\n",
    "    while p is not None:\n",
    "        p_copy = p.next\n",
    "        pn = p.next.next\n",
    "        p_copy.next = pn.next if pn is not None else None\n",
    "        p.next = pn\n",
    "        p = pn\n",
    "    return copy_head\n"
   ]
  },
  {
   "attachments": {},
   "cell_type": "markdown",
   "metadata": {},
   "source": [
    "## 测试"
   ]
  },
  {
   "cell_type": "code",
   "execution_count": 229,
   "metadata": {},
   "outputs": [
    {
     "name": "stdout",
     "output_type": "stream",
     "text": [
      "(14.90s)复制含有随机指针节点的链表, 方法1, 2 ✔️\n"
     ]
    }
   ],
   "source": [
    "test_time = 100_000\n",
    "max_size = 100\n",
    "max_value = 200\n",
    "succeed = True\n",
    "\n",
    "st = t()\n",
    "for _ in range(test_time):\n",
    "    h1 = generate_random_node_linked_list(max_size, max_value)\n",
    "    copy_h1 = copy_random_node_linked_list1(h1)\n",
    "    copy_h2 = copy_random_node_linked_list2(copy_h1)\n",
    "    flag1 = validate_random_node_copy(h1, copy_h1)\n",
    "    flag2 = validate_random_node_copy(h1, copy_h2)\n",
    "\n",
    "    if False == flag1 or False == flag2:\n",
    "        succeed = False\n",
    "        break\n",
    "print(f'({t()-st:5.2f}s)复制含有随机指针节点的链表, 方法1, 2', '✔️' if succeed else '❌')"
   ]
  },
  {
   "attachments": {},
   "cell_type": "markdown",
   "metadata": {},
   "source": [
    "# TEST 获取环链表的入环节点"
   ]
  },
  {
   "attachments": {},
   "cell_type": "markdown",
   "metadata": {},
   "source": [
    "## 工具"
   ]
  },
  {
   "cell_type": "code",
   "execution_count": 230,
   "metadata": {},
   "outputs": [],
   "source": [
    "from random import randint as r\n",
    "def v(max_value):\n",
    "    return r(-max_value, max_value)\n",
    "\n",
    "# 返回链表, 环点\n",
    "def generate_cycle_linked_list(max_size=30, max_value=60):\n",
    "    if r(0,9) == 1: # 不成环\n",
    "        return generate_random_linked_list(max_size, max_value), None\n",
    "    # 成环\n",
    "    # 先正常生成一串链表\n",
    "    head = generate_random_linked_list(max_size, max_value)\n",
    "    if head is None: \n",
    "        return None, None\n",
    "    \n",
    "    # 获取链表的长度\n",
    "    l, tail = 1, head\n",
    "    while tail.next is not None:\n",
    "        l += 1\n",
    "        tail = tail.next\n",
    "    # 随机指定某个节点为环点\n",
    "    random_cycle = r(0, l-1) # 注意这里是 l -1 , 因为是从 0 开始的\n",
    "    random_cycle_node = head\n",
    "    while random_cycle != 0:\n",
    "        random_cycle -= 1\n",
    "        random_cycle_node = random_cycle_node.next\n",
    "    # 尾巴指向环点\n",
    "    tail.next = random_cycle_node\n",
    "    return head, random_cycle_node\n"
   ]
  },
  {
   "attachments": {},
   "cell_type": "markdown",
   "metadata": {},
   "source": [
    "## 实现"
   ]
  },
  {
   "cell_type": "code",
   "execution_count": 231,
   "metadata": {},
   "outputs": [],
   "source": [
    "def is_cycle_linked_list1(head):\n",
    "    node_set = set()\n",
    "    p = head\n",
    "    while p is not None:\n",
    "        if p in node_set:\n",
    "            return p\n",
    "        node_set.add(p)\n",
    "        p = p.next\n",
    "    return None\n",
    "\n",
    "def is_cycle_linked_list2(head):\n",
    "    if head is None or head.next is None or head.next.next is None:\n",
    "        return None # 不成环\n",
    "    slow = head.next\n",
    "    quick = head.next.next\n",
    "    while quick is not slow: # 如果成环, 快慢指针一定相遇\n",
    "        if quick.next is None or quick.next.next is None: # 不成环\n",
    "            return None\n",
    "        quick = quick.next.next\n",
    "        slow = slow.next\n",
    "    # 快慢指针相遇后, 快指针重新头节点开始, 每次一步\n",
    "    quick = head\n",
    "    # 下次相遇时的节点就是环点\n",
    "    while quick is not slow:\n",
    "        quick = quick.next\n",
    "        slow = slow.next\n",
    "    return quick\n"
   ]
  },
  {
   "attachments": {},
   "cell_type": "markdown",
   "metadata": {},
   "source": [
    "## 测试"
   ]
  },
  {
   "cell_type": "code",
   "execution_count": 232,
   "metadata": {},
   "outputs": [
    {
     "name": "stdout",
     "output_type": "stream",
     "text": [
      "( 2.66s)判断有无环, 方法1,2 ✔️\n"
     ]
    }
   ],
   "source": [
    "test_time, max_size, max_value, succeed = 10_000, 500, 200, True\n",
    "\n",
    "st = t()\n",
    "for _ in range(test_time):\n",
    "    h1, random_cycle_node = generate_cycle_linked_list(max_size, max_value)\n",
    "    test_cycle_node1 = is_cycle_linked_list1(h1)\n",
    "    test_cycle_node2 = is_cycle_linked_list2(h1)\n",
    "\n",
    "    if test_cycle_node1 is not test_cycle_node2 or test_cycle_node1 is not random_cycle_node:\n",
    "        succeed = False\n",
    "        break\n",
    "print(f'({t()-st:5.2f}s)判断有无环, 方法1,2', '✔️' if succeed else '❌')"
   ]
  },
  {
   "attachments": {},
   "cell_type": "markdown",
   "metadata": {},
   "source": [
    "# TEST 判断(有环/无环)链表相交并获取交点"
   ]
  },
  {
   "attachments": {},
   "cell_type": "markdown",
   "metadata": {},
   "source": [
    "## 工具"
   ]
  },
  {
   "cell_type": "code",
   "execution_count": 233,
   "metadata": {},
   "outputs": [],
   "source": [
    "from random import randint as r\n",
    "\n",
    "\n",
    "def v(max_value):\n",
    "    return r(-max_value, max_value)\n",
    "\n",
    "\n",
    "def get_no_cycle_len(head):\n",
    "    l = 0\n",
    "    while head is not None:\n",
    "        l += 1\n",
    "        head = head.next\n",
    "    return l\n",
    "\n",
    "\n",
    "def get_cycle_len(head, cycle):\n",
    "    if is_cycle_linked_list2(head) is None:\n",
    "        raise Exception(\"不是成环链表\")\n",
    "    # 计算环点前的长度\n",
    "    l = 0\n",
    "    while head is not cycle:\n",
    "        l += 1\n",
    "        head = head.next\n",
    "    # 计算环圈长度\n",
    "    l += 1  # 加上环点本身\n",
    "    head = head.next\n",
    "    while head is not cycle:\n",
    "        l += 1\n",
    "        head = head.next\n",
    "    return l\n",
    "\n",
    "\n",
    "def must_cycle_linked_list(max_size=30, max_value=60):\n",
    "    # 成环。 允许单节点成环\n",
    "    # 先生成一串不成环链表\n",
    "    arr = [v(max_value) for _ in range(r(1, max_size))]\n",
    "    head = arr2linked_list(arr)\n",
    "\n",
    "    # 获取链表的长度和尾节点\n",
    "    l, tail = 1, head\n",
    "    while tail.next is not None:\n",
    "        l += 1\n",
    "        tail = tail.next\n",
    "    # 随机指定入环点\n",
    "    # 这里从 0 开始, 所以 l-1。 同时后面 while 判断也是 0。 如果改为从 1 开始, 则是 (1,l), while != 1\n",
    "    random_cycle_index = r(0, l-1)\n",
    "    random_cycle_node = head\n",
    "    while random_cycle_index != 0:\n",
    "        random_cycle_index -= 1\n",
    "        random_cycle_node = random_cycle_node.next\n",
    "    # 尾巴指向环点完成\"环化\"\n",
    "    tail.next = random_cycle_node\n",
    "    return head, random_cycle_node\n",
    "\n",
    "\n",
    "def generate_intersect_no_cycle_linked_list(max_size, max_value):\n",
    "    # 先生成一条链表\n",
    "    h1 = generate_random_linked_list(max_size, max_value)\n",
    "    if h1 is None:\n",
    "        return None, None, None\n",
    "    h1_len, p = get_no_cycle_len(h1), h1\n",
    "    # 指定交叉点\n",
    "    h2_size = rand_ = r(0, h1_len)\n",
    "    while rand_ != 0:\n",
    "        p = p.next\n",
    "        rand_ -= 1\n",
    "    cycle_node = p\n",
    "    # 再生产一条链表, 将它尾节点连接到交叉点处\n",
    "    p = h2 = generate_random_linked_list(h2_size, max_value)\n",
    "    if p is None:\n",
    "        return h1, cycle_node, cycle_node\n",
    "    while p.next is not None:\n",
    "        p = p.next\n",
    "    p.next = cycle_node\n",
    "    return h1, h2, cycle_node\n",
    "\n",
    "\n",
    "def generate_intersect_cycle_linked_list(max_size, max_value):\n",
    "    # 先生成一条成环链表\n",
    "    h1, cycle = must_cycle_linked_list(max_size, max_value)\n",
    "    h1_len = get_cycle_len(h1, cycle)\n",
    "    # 随机交叉点, 可能在入环前, 可能在入环后\n",
    "    x_len = r(0, h1_len-1)\n",
    "    x_node = h1\n",
    "    while x_len != 0:\n",
    "        x_len -= 1\n",
    "        x_node = x_node.next\n",
    "    # 在交叉点前接上一条链表\n",
    "    tail = h2 = generate_random_linked_list(r(0, max_size), max_value)\n",
    "    if tail is None:\n",
    "        return h1, x_node, x_node\n",
    "    while tail.next is not None:\n",
    "        tail = tail.next\n",
    "    tail.next = x_node\n",
    "    return h1, h2, x_node\n",
    "\n",
    "\n",
    "def generate_random_intersect_linked_list(max_size, max_value):\n",
    "    if r(0, 2) == 1:\n",
    "        # 生成两条不相交链表, 链表成环随机\n",
    "        h1, _ = generate_cycle_linked_list(max_size, max_value)\n",
    "        h2, _ = generate_cycle_linked_list(max_size, max_value)\n",
    "        return h1, h2, None\n",
    "    elif r(0, 2) == 1:\n",
    "        # 生成两条相交链表, 两个链表都不成环\n",
    "        return generate_intersect_no_cycle_linked_list(max_size, max_value)\n",
    "    else:\n",
    "        # 生成两条相交链表, 两个链表都成环\n",
    "        return generate_intersect_cycle_linked_list(max_size, max_value)\n",
    "\n",
    "    return None, None, None\n"
   ]
  },
  {
   "attachments": {},
   "cell_type": "markdown",
   "metadata": {},
   "source": [
    "## 实现"
   ]
  },
  {
   "cell_type": "code",
   "execution_count": 234,
   "metadata": {},
   "outputs": [],
   "source": [
    "def get_intersect_linked_list(h1, h2):\n",
    "    if h1 is None or h2 is None:\n",
    "        return None\n",
    "    x_node1 = is_cycle_linked_list2(h1)\n",
    "    x_node2 = is_cycle_linked_list2(h2)\n",
    "    if x_node1 is None and x_node2 is None:  # 都不成环\n",
    "        return no_cycle_intersect(h1, h2)\n",
    "    if x_node1 is not None and x_node2 is not None:  # 都成环\n",
    "        return cycle_intersect(h1, x_node1, h2, x_node2)\n",
    "    # 一条成环一条不成环, 一定不相交\n",
    "    return None\n",
    "\n",
    "\n",
    "def no_cycle_intersect(h1, h2):\n",
    "    if h1 is None or h2 is None:\n",
    "        return None\n",
    "    # 因为只需要长度差值, 不需要具体长度, 所以只需一个变量\n",
    "    l_diff = 0\n",
    "    tail1, tail2 = h1, h2\n",
    "    while tail1.next is not None:\n",
    "        l_diff += 1\n",
    "        tail1 = tail1.next\n",
    "    while tail2.next is not None:\n",
    "        l_diff -= 1\n",
    "        tail2 = tail2.next\n",
    "    if tail1 is not tail2:\n",
    "        return None\n",
    "\n",
    "    p_long, p_short = h1, h2\n",
    "    if l_diff < 0:\n",
    "        p_long, p_short = h2, h1\n",
    "    # 让长的链表先走 l_diff 个距离。\n",
    "    for _ in range(abs(l_diff)):\n",
    "        p_long = p_long.next\n",
    "    # 然后两个链表一起移动, 相遇时的点就是交点\n",
    "    while p_long is not p_short:\n",
    "        p_long = p_long.next\n",
    "        p_short = p_short.next\n",
    "    return p_long\n",
    "\n",
    "\n",
    "def cycle_intersect(h1, x_node1, h2, x_node2):\n",
    "    if x_node1 is x_node2:  # 成环点相同, 说明是相交后成环, 故只需在成环前的链表上找交点\n",
    "        tail1, tail2 = h1, h2\n",
    "        l_diff = 0\n",
    "        while tail1.next is not x_node1:\n",
    "            l_diff += 1\n",
    "            tail1 = tail1.next\n",
    "        while tail2.next is not x_node2:\n",
    "            l_diff -= 1\n",
    "            tail2 = tail2.next\n",
    "        p_long, p_short = h1, h2\n",
    "        if l_diff < 0:\n",
    "            p_long, p_short = h2, h1\n",
    "        for _ in range(abs(l_diff)):\n",
    "            p_long = p_long.next\n",
    "        while p_long is not p_short:\n",
    "            p_long = p_long.next\n",
    "            p_short = p_short.next\n",
    "        return p_long\n",
    "\n",
    "    # 成环点不同, 如果相交, 则交点是成环点; 如果不相交, 则交点不在环圈上。\n",
    "    p = x_node1.next\n",
    "    while p is not x_node1:\n",
    "        if p is x_node2:\n",
    "            return p\n",
    "        p = p.next\n",
    "    # 绕一圈找不到, 说明不相交\n",
    "    return None\n"
   ]
  },
  {
   "attachments": {},
   "cell_type": "markdown",
   "metadata": {},
   "source": [
    "## 测试"
   ]
  },
  {
   "cell_type": "code",
   "execution_count": 235,
   "metadata": {},
   "outputs": [
    {
     "name": "stdout",
     "output_type": "stream",
     "text": [
      "( 4.16s)判断链表相交并获取交点 ✔️\n"
     ]
    }
   ],
   "source": [
    "test_time, max_size, max_value, succeed = 10_000, 500, 200, True\n",
    "\n",
    "st = t()\n",
    "for _ in range(test_time):\n",
    "    h1, h2, x_node = generate_random_intersect_linked_list(max_size, max_value)\n",
    "    test_x_node = get_intersect_linked_list(h1, h2)\n",
    "    if x_node is not test_x_node:\n",
    "        succeed = False\n",
    "        break\n",
    "print(f'({t()-st:5.2f}s)判断链表相交并获取交点', '✔️' if succeed else '❌')\n"
   ]
  }
 ],
 "metadata": {
  "kernelspec": {
   "display_name": "Python 3",
   "language": "python",
   "name": "python3"
  },
  "language_info": {
   "codemirror_mode": {
    "name": "ipython",
    "version": 3
   },
   "file_extension": ".py",
   "mimetype": "text/x-python",
   "name": "python",
   "nbconvert_exporter": "python",
   "pygments_lexer": "ipython3",
   "version": "3.11.0"
  },
  "orig_nbformat": 4
 },
 "nbformat": 4,
 "nbformat_minor": 2
}
