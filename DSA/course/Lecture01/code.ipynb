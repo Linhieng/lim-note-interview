{
 "cells": [
  {
   "cell_type": "code",
   "execution_count": 41,
   "metadata": {},
   "outputs": [],
   "source": [
    "import random\n",
    "\n",
    "\n",
    "def generateRandomArray(maxSize, maxValue):\n",
    "    arr = [random.randint(-maxValue, maxValue) for _ in range(maxSize)]\n",
    "    return arr\n",
    "\n",
    "\n",
    "def copyArray(arr):\n",
    "    newArr = [*arr]\n",
    "    return newArr\n",
    "\n",
    "\n",
    "def isEqual(arr1, arr2):\n",
    "    for i, a1 in enumerate(arr1):\n",
    "        if a1 != arr2[i]:\n",
    "            return False\n",
    "    return True\n",
    "\n",
    "\n",
    "def comparator(arr):\n",
    "    arr.sort()\n",
    "\n",
    "\n",
    "def swap(arr, i, j):\n",
    "    if i == j:\n",
    "        return\n",
    "    arr[i] = arr[i] ^ arr[j]\n",
    "    arr[j] = arr[i] ^ arr[j]\n",
    "    arr[i] = arr[i] ^ arr[j]\n"
   ]
  },
  {
   "cell_type": "code",
   "execution_count": 57,
   "metadata": {},
   "outputs": [],
   "source": [
    "def selectSort(arr):\n",
    "    \"\"\" \n",
    "    遍历:\n",
    "        0 ~ N-1\n",
    "        1 ~ N-1\n",
    "        ...\n",
    "        i ~ N-1\n",
    "\n",
    "    每次遍历时:\n",
    "        找到最小值, 然后和 arr[i] 交换\n",
    "    \"\"\"\n",
    "    l = len(arr)\n",
    "    for i in range(l): # 0 ~ N-1\n",
    "        min_value = arr[i]\n",
    "        min_index = i\n",
    "        for j in range(i+1, l): # i+1 ~ N-1\n",
    "            if min_value > arr[j]:\n",
    "                min_value = arr[j]\n",
    "                min_index = j\n",
    "        swap(arr, i, min_index)\n"
   ]
  },
  {
   "cell_type": "code",
   "execution_count": null,
   "metadata": {},
   "outputs": [],
   "source": [
    "def bubbleSort(arr):\n",
    "    \"\"\" \n",
    "    遍历:\n",
    "        0 ~ N-1\n",
    "        0 ~ N-2\n",
    "        ...\n",
    "        0 ~ 1\n",
    "\n",
    "    每次遍历:\n",
    "        依次比较相邻的两个值, 如果左值大于右值, 则交换位置\n",
    "        遍历完成后, 能确保最大值在右侧\n",
    "    \"\"\"\n",
    "    l = len(arr)\n",
    "    for i in range(l-1, 0, -1):  # N-1, ..., 1\n",
    "        for j in range(i):  # 1, 2, ..., N-2\n",
    "            if arr[j] > arr[j+1]:\n",
    "                swap(arr, j, j+1)\n"
   ]
  },
  {
   "cell_type": "code",
   "execution_count": null,
   "metadata": {},
   "outputs": [],
   "source": [
    "def insertionSort(arr):\n",
    "    \"\"\" \n",
    "    遍历:\n",
    "        1 ~ N-1\n",
    "        2 ~ N-1\n",
    "        ...\n",
    "        i ~ N-1\n",
    "    \n",
    "    每次遍历:\n",
    "        将第 i 个值插入到前面 0~i-1 中,\n",
    "        即将第 i 个值与前面的值依次比较,\n",
    "        若小于前面的值, 则交换两个值\n",
    "        若大于前面的值, 或者遇到边界, 则停止\n",
    "    \"\"\"\n",
    "    l = len(arr)\n",
    "    for i in range(1, l): # 1, ..., N-1\n",
    "        j = i\n",
    "        while j > 0 and arr[j-1] > arr[j]:\n",
    "            swap(arr, j-1, j)\n",
    "            j -= 1\n"
   ]
  },
  {
   "cell_type": "code",
   "execution_count": 48,
   "metadata": {},
   "outputs": [],
   "source": [
    "testTime = 500000\n",
    "maxSize = 100\n",
    "maxValue = 100\n",
    "succeed = True"
   ]
  },
  {
   "cell_type": "code",
   "execution_count": 60,
   "metadata": {},
   "outputs": [
    {
     "name": "stdout",
     "output_type": "stream",
     "text": [
      "选择排序: ✔️\n"
     ]
    }
   ],
   "source": [
    "for i in range(0, testTime):\n",
    "    arr1 = generateRandomArray(maxSize, maxValue)\n",
    "    arr2 = copyArray(arr1)\n",
    "    selectSort(arr1)\n",
    "    comparator(arr2)\n",
    "    if isEqual(arr1, arr2) == False:\n",
    "        succeed = False\n",
    "        break\n",
    "\n",
    "print('选择排序:', '✔️' if succeed else '❌')\n"
   ]
  },
  {
   "cell_type": "code",
   "execution_count": 45,
   "metadata": {},
   "outputs": [
    {
     "name": "stdout",
     "output_type": "stream",
     "text": [
      "冒泡排序: ✔️\n"
     ]
    }
   ],
   "source": [
    "for i in range(0, testTime):\n",
    "    arr1 = generateRandomArray(maxSize, maxValue)\n",
    "    arr2 = copyArray(arr1)\n",
    "    bubbleSort(arr1)\n",
    "    comparator(arr2)\n",
    "    if isEqual(arr1, arr2) == False:\n",
    "        succeed = False\n",
    "        break\n",
    "\n",
    "print('冒泡排序:', '✔️' if succeed else '❌')\n"
   ]
  },
  {
   "cell_type": "code",
   "execution_count": 59,
   "metadata": {},
   "outputs": [
    {
     "name": "stdout",
     "output_type": "stream",
     "text": [
      "插入排序: ✔️\n"
     ]
    }
   ],
   "source": [
    "for i in range(0, testTime):\n",
    "    arr1 = generateRandomArray(maxSize, maxValue)\n",
    "    arr2 = copyArray(arr1)\n",
    "    insertionSort(arr1)\n",
    "    comparator(arr2)\n",
    "    if isEqual(arr1, arr2) == False:\n",
    "        succeed = False\n",
    "        break\n",
    "\n",
    "print('插入排序:', '✔️' if succeed else '❌')\n"
   ]
  },
  {
   "cell_type": "code",
   "execution_count": 61,
   "metadata": {},
   "outputs": [
    {
     "name": "stdout",
     "output_type": "stream",
     "text": [
      "✔️\n"
     ]
    }
   ],
   "source": [
    "for i in range(0, testTime):\n",
    "    arr1 = generateRandomArray(maxSize, maxValue)\n",
    "    arr2 = copyArray(arr1)\n",
    "    arr1.sort()\n",
    "    comparator(arr2)\n",
    "    if isEqual(arr1, arr2) == False:\n",
    "        succeed = False\n",
    "        break\n",
    "\n",
    "print('✔️' if succeed else '❌')\n"
   ]
  }
 ],
 "metadata": {
  "kernelspec": {
   "display_name": "Python 3",
   "language": "python",
   "name": "python3"
  },
  "language_info": {
   "codemirror_mode": {
    "name": "ipython",
    "version": 3
   },
   "file_extension": ".py",
   "mimetype": "text/x-python",
   "name": "python",
   "nbconvert_exporter": "python",
   "pygments_lexer": "ipython3",
   "version": "3.11.0"
  },
  "orig_nbformat": 4
 },
 "nbformat": 4,
 "nbformat_minor": 2
}
