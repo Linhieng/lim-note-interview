{
 "cells": [
  {
   "attachments": {},
   "cell_type": "markdown",
   "metadata": {},
   "source": [
    "## TEST 代码通用函数"
   ]
  },
  {
   "cell_type": "code",
   "execution_count": 1,
   "metadata": {},
   "outputs": [],
   "source": [
    "import random\n",
    "import heapq\n",
    "\n",
    "\n",
    "def generateRandomArray(maxSize, maxValue):\n",
    "    arr = [random.randint(-maxValue, maxValue) for _ in range(maxSize)]\n",
    "    return arr\n",
    "\n",
    "\n",
    "def copyArray(arr):\n",
    "    newArr = [*arr]\n",
    "    return newArr\n",
    "\n",
    "\n",
    "def isEqual(arr1, arr2):\n",
    "    for i, a1 in enumerate(arr1):\n",
    "        if a1 != arr2[i]:\n",
    "            return False\n",
    "    return True\n",
    "\n",
    "\n",
    "def swap(arr, i, j):\n",
    "    arr[i], arr[j] = arr[j], arr[i]\n",
    "\n",
    "\n",
    "def isMaxHeap(heap, heap_size, i=0):\n",
    "    # 定义：若当前节点大于等于最大子节点, 则该节点满足 二层大根堆\n",
    "    #      或者当前节点没有子节点, 也称为该节点满足 二层大根堆\n",
    "\n",
    "    if 2*i+1 >= heap_size:\n",
    "        return True         # 如果没有子节点了, 说明到底了\n",
    "\n",
    "    # 如果还没到底, 则要求当前节点和其两个子节点都满足大根堆\n",
    "    # 此处能保证一定有左子节点, 但不保证有右子节点\n",
    "    child_left = heap[2*i+1]\n",
    "    child_right = heap[2*i+2] if 2*i+2 < heap_size else child_left\n",
    "\n",
    "    if heap[i] >= child_left and heap[i] >= child_right:\n",
    "        return isMaxHeap(heap, heap_size, 2*i+1) and isMaxHeap(heap, heap_size, 2*i+2)\n",
    "\n",
    "    else:\n",
    "        return False\n",
    "\n",
    "\n",
    "def generateRandomHeap(maxSize, maxValue):\n",
    "    arr = [random.randint(-maxValue, maxValue) for _ in range(maxSize)]\n",
    "    heap = []\n",
    "    # heapq 只能构建小根堆, 想要构建大概对, 可以在添加元素时取反, 并将生成的堆取反。\n",
    "    for item in arr:\n",
    "        heapq.heappush(heap, -item)\n",
    "    heap = [-i for i in heap]\n",
    "    heap_size = len(heap)\n",
    "    return heap, heap_size\n"
   ]
  },
  {
   "attachments": {},
   "cell_type": "markdown",
   "metadata": {},
   "source": [
    "## 01 TEST heap insert"
   ]
  },
  {
   "cell_type": "code",
   "execution_count": 2,
   "metadata": {},
   "outputs": [],
   "source": [
    "def test_heapInsert(arr):\n",
    "    heap_size = 0\n",
    "    heap = []\n",
    "    for a in arr:\n",
    "        heap_size = heapInsert(heap, heap_size, a)\n",
    "    return heap, heap_size\n",
    "\n",
    "\n",
    "def heapInsert(heap, heap_size, new_item):\n",
    "    # 添加到末尾\n",
    "    heap.append(new_item)\n",
    "    heap_size += 1\n",
    "    i = heap_size - 1\n",
    "\n",
    "    # 维持大根堆\n",
    "    parent = int((i-1)/2)\n",
    "    while i > 0 and heap[i] > heap[parent]:\n",
    "        swap(heap, i, parent)\n",
    "        i = parent\n",
    "        parent = int((i-1)/2)\n",
    "\n",
    "    return heap_size"
   ]
  },
  {
   "cell_type": "code",
   "execution_count": 3,
   "metadata": {},
   "outputs": [
    {
     "name": "stdout",
     "output_type": "stream",
     "text": [
      "heap insert: ✔️\n"
     ]
    }
   ],
   "source": [
    "testTime = 50_000\n",
    "maxSize = 100\n",
    "maxValue = 200\n",
    "succeed = True\n",
    "\n",
    "for i in range(0, testTime):\n",
    "    arr1 = generateRandomArray(maxSize, maxValue)\n",
    "\n",
    "    heap, heap_size = test_heapInsert(arr1)\n",
    "    \n",
    "    if isMaxHeap(heap, heap_size) == False:\n",
    "        succeed = False\n",
    "        break\n",
    "\n",
    "print('heap insert:', '✔️' if succeed else '❌')"
   ]
  },
  {
   "attachments": {},
   "cell_type": "markdown",
   "metadata": {},
   "source": [
    "## 02 TEST heapify 删除堆的最大值"
   ]
  },
  {
   "cell_type": "code",
   "execution_count": 4,
   "metadata": {},
   "outputs": [],
   "source": [
    "def heapPoll(heap, heap_size):\n",
    "    # 删除最大值\n",
    "    maxItem = heap[0]\n",
    "    heap[0] = heap[heap_size-1]\n",
    "    heap_size -= 1\n",
    "    # 维持大根堆\n",
    "    heapify(heap, heap_size, 0)\n",
    "    return heap_size\n",
    "\n",
    "def heapify(heap, heap_size, i):\n",
    "    child_left = 2*i+1\n",
    "    child_right = 2*i+2\n",
    "\n",
    "    while child_left < heap_size:\n",
    "        # 获取最大的子节点\n",
    "        largest = child_left\n",
    "        if child_right < heap_size and heap[child_left] < heap[child_right]:\n",
    "            largest = child_right\n",
    "        \n",
    "        if heap[i] > heap[largest]:\n",
    "            break\n",
    "        \n",
    "        swap(heap, i, largest)\n",
    "        i = largest\n",
    "        child_left = 2*i+1\n",
    "        child_right = 2*i+2\n",
    "\n",
    "\n",
    "    return heap_size"
   ]
  },
  {
   "cell_type": "code",
   "execution_count": 5,
   "metadata": {},
   "outputs": [
    {
     "name": "stdout",
     "output_type": "stream",
     "text": [
      "删除堆的最大值: ✔️\n"
     ]
    }
   ],
   "source": [
    "testTime = 50_000\n",
    "maxSize = 100\n",
    "maxValue = 200\n",
    "succeed = True\n",
    "\n",
    "for i in range(0, testTime):\n",
    "    heap, heap_size = generateRandomHeap(maxSize, maxValue)\n",
    "\n",
    "    heap_size = heapPoll(heap, heap_size)\n",
    "    \n",
    "    if isMaxHeap(heap, heap_size) == False:\n",
    "        succeed = False\n",
    "        break\n",
    "\n",
    "print('删除堆的最大值:', '✔️' if succeed else '❌')"
   ]
  },
  {
   "attachments": {},
   "cell_type": "markdown",
   "metadata": {},
   "source": [
    "## 03 TEST heapipy 数组转换为大根堆"
   ]
  },
  {
   "cell_type": "code",
   "execution_count": 6,
   "metadata": {},
   "outputs": [],
   "source": [
    "def arr2heap_by_heapify(arr):\n",
    "    heap_size = len(arr)\n",
    "    for i in range(int(heap_size/2), -1, -1):\n",
    "        heapify(arr, heap_size, i)\n",
    "\n",
    "def heapify(heap, heap_size, i):\n",
    "    child_left = 2*i+1\n",
    "    child_right = 2*i+2\n",
    "\n",
    "    while child_left < heap_size: # 没有子节点\n",
    "        # 获取最大的子节点\n",
    "        largest = child_left\n",
    "        if child_right < heap_size and heap[child_left] < heap[child_right]:\n",
    "            largest = child_right\n",
    "\n",
    "        if heap[i] > heap[largest]: # 不大于最大子节点\n",
    "            break\n",
    "\n",
    "        swap(heap, i, largest)\n",
    "        i = largest\n",
    "        child_left = 2*i+1\n",
    "        child_right = 2*i+2\n",
    "\n",
    "    return heap_size\n"
   ]
  },
  {
   "cell_type": "code",
   "execution_count": 7,
   "metadata": {},
   "outputs": [
    {
     "name": "stdout",
     "output_type": "stream",
     "text": [
      "heapipy 数组转换为大根堆 ✔️\n"
     ]
    }
   ],
   "source": [
    "testTime = 50_000\n",
    "maxSize = 100\n",
    "maxValue = 200\n",
    "succeed = True\n",
    "\n",
    "for i in range(0, testTime):\n",
    "    arr = generateRandomArray(maxSize, maxValue)\n",
    "    heap_size = len(arr)\n",
    "    \n",
    "    arr2heap_by_heapify(arr)\n",
    "    \n",
    "    if isMaxHeap(arr, heap_size) == False:\n",
    "        succeed = False\n",
    "        break\n",
    "\n",
    "print('heapipy 数组转换为大根堆', '✔️' if succeed else '❌')"
   ]
  },
  {
   "attachments": {},
   "cell_type": "markdown",
   "metadata": {},
   "source": [
    "## 03 TEST heapInsert 数组转换为大根堆 "
   ]
  },
  {
   "cell_type": "code",
   "execution_count": 8,
   "metadata": {},
   "outputs": [],
   "source": [
    "def arr2heap_by_heapInsert(arr):\n",
    "    heap_size = 0\n",
    "    for a in arr:\n",
    "        heap_size = heapInsert02(arr, heap_size, a)\n",
    "\n",
    "\n",
    "def heapInsert02(heap, heap_size, new_item):\n",
    "    heap[heap_size] = new_item\n",
    "    heap_size += 1\n",
    "    i = heap_size - 1\n",
    "\n",
    "    # 维持大根堆\n",
    "    parent = int((i-1)/2)\n",
    "    while i > 0 and heap[i] > heap[parent]:\n",
    "        swap(heap, i, parent)\n",
    "        i = parent\n",
    "        parent = int((i-1)/2)\n",
    "\n",
    "    return heap_size\n"
   ]
  },
  {
   "cell_type": "code",
   "execution_count": 9,
   "metadata": {},
   "outputs": [
    {
     "name": "stdout",
     "output_type": "stream",
     "text": [
      "heapInsert 数组转换为大根堆: ✔️\n"
     ]
    }
   ],
   "source": [
    "testTime = 50_000\n",
    "maxSize = 100\n",
    "maxValue = 200\n",
    "succeed = True\n",
    "\n",
    "for i in range(0, testTime):\n",
    "    arr = generateRandomArray(maxSize, maxValue)\n",
    "    heap_size = len(arr)\n",
    "    \n",
    "    arr2heap_by_heapInsert(arr)\n",
    "    \n",
    "    if isMaxHeap(arr, heap_size) == False:\n",
    "        succeed = False\n",
    "        break\n",
    "\n",
    "print('heapInsert 数组转换为大根堆:', '✔️' if succeed else '❌')"
   ]
  },
  {
   "attachments": {},
   "cell_type": "markdown",
   "metadata": {},
   "source": [
    "## 04 TEST 堆排序 - heapify 大根堆 "
   ]
  },
  {
   "cell_type": "code",
   "execution_count": 10,
   "metadata": {},
   "outputs": [],
   "source": [
    "# 采用大根堆的方式排序\n",
    "def heapSort(arr):\n",
    "    # 将数组转换为大根堆\n",
    "    arr2heap_by_heapify(arr)\n",
    "    heap_size = len(arr)\n",
    "\n",
    "    # 从最后一个节点开始遍历\n",
    "    for i in range(heap_size-1, -1, -1):\n",
    "        # 替换前后两个节点,\n",
    "        swap(arr, 0, i)\n",
    "        # 然后剔除最后一个节点\n",
    "        heap_size -= 1\n",
    "        # 重新维持大根堆, 因为是头节点变了, 所以执行 heapify\n",
    "        heapify(arr, heap_size, 0)\n",
    "\n",
    "\n",
    "def arr2heap_by_heapify(arr):\n",
    "    heap_size = len(arr)\n",
    "    for i in range(int(heap_size/2), -1, -1):\n",
    "        heapify(arr, heap_size, i)\n",
    "\n",
    "\n",
    "def heapify(heap, heap_size, i):\n",
    "    child_left = 2*i+1\n",
    "    child_right = 2*i+2\n",
    "\n",
    "    while child_left < heap_size:  # 没有子节点\n",
    "        # 获取最大的子节点\n",
    "        largest = child_left\n",
    "        if child_right < heap_size and heap[child_left] < heap[child_right]:\n",
    "            largest = child_right\n",
    "\n",
    "        if heap[i] > heap[largest]:  # 不大于最大子节点\n",
    "            break\n",
    "\n",
    "        swap(heap, i, largest)\n",
    "        i = largest\n",
    "        child_left = 2*i+1\n",
    "        child_right = 2*i+2\n",
    "\n",
    "    return heap_size\n"
   ]
  },
  {
   "cell_type": "code",
   "execution_count": 11,
   "metadata": {},
   "outputs": [
    {
     "name": "stdout",
     "output_type": "stream",
     "text": [
      "堆排序 ✔️\n"
     ]
    }
   ],
   "source": [
    "testTime = 50_000\n",
    "maxSize = 100\n",
    "maxValue = 200\n",
    "succeed = True\n",
    "\n",
    "for i in range(0, testTime):\n",
    "    arr1 = generateRandomArray(maxSize, maxValue)\n",
    "    arr2 = copyArray(arr1)\n",
    "    \n",
    "    heapSort(arr1)\n",
    "    arr2.sort()\n",
    "    \n",
    "    if isEqual(arr1, arr2) == False:\n",
    "        succeed = False\n",
    "        break\n",
    "\n",
    "print('堆排序', '✔️' if succeed else '❌')"
   ]
  },
  {
   "attachments": {},
   "cell_type": "markdown",
   "metadata": {},
   "source": [
    "## 05 TEST 堆扩容"
   ]
  },
  {
   "cell_type": "code",
   "execution_count": 12,
   "metadata": {},
   "outputs": [],
   "source": [
    "def test_heap_expand(arr):\n",
    "    heap, heap_size = heapInsert_by_expand_area(arr[0])\n",
    "    for i in range(1, len(arr)):\n",
    "        heap, heap_size = heapInsert_by_expand_area(arr[i], heap, heap_size)\n",
    "    return heap, heap_size\n",
    "\n",
    "\n",
    "def heapInsert_by_expand_area(item, heapArr=[], heap_size=0):\n",
    "\n",
    "    if heap_size + 1 > len(heapArr): # 是否还有位置放入新的元素\n",
    "        heapArr = applyArea(heapArr)\n",
    "\n",
    "    heapArr[heap_size] = item\n",
    "    heap_size += 1\n",
    "\n",
    "    i = heap_size-1\n",
    "    parent = int((i-1)/2)\n",
    "    while parent >= 0 and i != 0:\n",
    "\n",
    "        if heapArr[i] < heapArr[parent]:\n",
    "            break\n",
    "\n",
    "        swap(heapArr, i, parent)\n",
    "        i = parent\n",
    "        parent = int((i-1)/2)\n",
    "\n",
    "    return heapArr, heap_size\n",
    "\n",
    "\n",
    "def applyArea(oldArray):\n",
    "    newArray = [None] * max(1, len(oldArray) * 2)\n",
    "    for i in range(len(oldArray)):\n",
    "        newArray[i] = oldArray[i]\n",
    "    return newArray\n"
   ]
  },
  {
   "cell_type": "code",
   "execution_count": 13,
   "metadata": {},
   "outputs": [
    {
     "name": "stdout",
     "output_type": "stream",
     "text": [
      "堆扩容: ✔️\n"
     ]
    }
   ],
   "source": [
    "testTime = 5_000\n",
    "maxSize = 1000\n",
    "maxValue = 200\n",
    "succeed = True\n",
    "\n",
    "for i in range(0, testTime):\n",
    "    arr1 = generateRandomArray(maxSize, maxValue)\n",
    "\n",
    "    heap, heap_size = test_heap_expand(arr1)\n",
    "    \n",
    "    if isMaxHeap(heap, heap_size) == False:\n",
    "        succeed = False\n",
    "        break\n",
    "\n",
    "print('堆扩容:', '✔️' if succeed else '❌')"
   ]
  }
 ],
 "metadata": {
  "kernelspec": {
   "display_name": "Python 3",
   "language": "python",
   "name": "python3"
  },
  "language_info": {
   "codemirror_mode": {
    "name": "ipython",
    "version": 3
   },
   "file_extension": ".py",
   "mimetype": "text/x-python",
   "name": "python",
   "nbconvert_exporter": "python",
   "pygments_lexer": "ipython3",
   "version": "3.11.0"
  },
  "orig_nbformat": 4
 },
 "nbformat": 4,
 "nbformat_minor": 2
}
