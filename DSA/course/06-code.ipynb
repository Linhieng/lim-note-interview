{
 "cells": [
  {
   "attachments": {},
   "cell_type": "markdown",
   "metadata": {},
   "source": [
    "# 创建自己的图结构"
   ]
  },
  {
   "cell_type": "code",
   "execution_count": 101,
   "metadata": {},
   "outputs": [],
   "source": [
    "from typing import List, Mapping, Any, Set\n",
    "\n",
    "\n",
    "class Graph:\n",
    "    def __init__(self):\n",
    "        # key 是该节点的唯一标识。 key 等于待转换的图结构中节点的表示方式, 比如其他图中节点的表示方式是 1,2,3, 或者 'A', 'B', 'C', 那么 key 就是对应的值\n",
    "        # value 是具体的节点。 value 就是我们利用待转换的图结构中的节点, 所创建出来的属于我们自己结构的节点。\n",
    "        self.nodes: Mapping[Any, Node] = {}\n",
    "        self.edges: Set[Edge] = set()\n",
    "\n",
    "\n",
    "class Node:\n",
    "    def __init__(self, val):\n",
    "        self.val = val\n",
    "        self.ind = 0\n",
    "        self.outd = 0\n",
    "        self.nexts: List[Node] = []\n",
    "        self.edges: List[Edge] = []\n",
    "\n",
    "\n",
    "class Edge:\n",
    "    def __init__(self, fr: Node, to: Node, weight=0):\n",
    "        self.fr = fr\n",
    "        self.to = to\n",
    "        self.weight = weight\n"
   ]
  },
  {
   "cell_type": "code",
   "execution_count": 102,
   "metadata": {},
   "outputs": [],
   "source": [
    "\"\"\" 支持的结构:\n",
    "matrix = [\n",
    "    [权值, fr节点, to节点], # 单向边: \n",
    "]\n",
    "\"\"\"\n",
    "def generate_graph2(matrix: List[List[int]]):\n",
    "    graph = Graph()\n",
    "    for item in matrix: # 每一个 item 都是一条边\n",
    "        weight, fr, to = item # \n",
    "        # 判断边的两个节点是否已存在, 不存在则新增\n",
    "        if fr not in graph.nodes:\n",
    "            graph.nodes[fr] = Node(fr)\n",
    "        if to not in graph.nodes:\n",
    "            graph.nodes[to] = Node(to)\n",
    "        # 不管节点存不存在, 新的边肯定是要添加的, 节点的属性也是要更新的\n",
    "        fr_node = graph.nodes.get(fr)\n",
    "        to_node = graph.nodes.get(to)\n",
    "        new_edge = Edge(fr_node, to_node, weight)\n",
    "        graph.edges.add(new_edge) # 新的边\n",
    "        fr_node.edges.append(new_edge) # fr 增加一个邻接边\n",
    "        fr_node.nexts.append(to_node) # fr 增加一个邻接点\n",
    "        fr_node.outd += 1 # fr 的出度 + 1\n",
    "        to_node.ind += 1  # to 的入度 + 1\n",
    "    return graph"
   ]
  },
  {
   "cell_type": "code",
   "execution_count": 103,
   "metadata": {},
   "outputs": [],
   "source": [
    "\"\"\" 支持的结构:\n",
    "matrix = [\n",
    "    [节点, 节点], # 双向边\n",
    "]\n",
    "\"\"\"\n",
    "def generate_graph(matrix):\n",
    "    graph = Graph()\n",
    "    for one_edge in matrix:\n",
    "        n1, n2 = one_edge # 双向边\n",
    "        # 添加新节点\n",
    "        if n1 not in graph.nodes:\n",
    "            graph.nodes[n1] = Node(n1)\n",
    "        if n2 not in graph.nodes:\n",
    "            graph.nodes[n2] = Node(n2)\n",
    "        n1_node, n2_node = graph.nodes.get(n1), graph.nodes.get(n2)\n",
    "        e1, e2 = Edge(n1_node, n2_node), Edge(n2_node, n1_node)\n",
    "        # 添加边\n",
    "        graph.edges.add(e1)\n",
    "        graph.edges.add(e2)\n",
    "        n1_node.edges.append(e1)\n",
    "        n2_node.edges.append(e2)\n",
    "        # 更新节点属性\n",
    "        n1_node.nexts.append(n2_node)\n",
    "        n2_node.nexts.append(n1_node)\n",
    "        n1_node.outd += 1\n",
    "        n1_node.ind += 1\n",
    "        n2_node.outd += 1\n",
    "        n2_node.ind += 1\n",
    "    return graph"
   ]
  },
  {
   "attachments": {},
   "cell_type": "markdown",
   "metadata": {},
   "source": [
    "# TEST - 广度优先遍历 BFS"
   ]
  },
  {
   "cell_type": "code",
   "execution_count": 104,
   "metadata": {},
   "outputs": [],
   "source": [
    "from queue import Queue\n",
    "\n",
    "\n",
    "# 广度有限遍历, 先处理好当前节点的所有邻接点, 再去处理邻接点的邻接点。 已经处理过的节点不要再处理。\n",
    "# 利用 queue 保存待处理的节点, 利用 set 保存已经处理过的节点\n",
    "def bfs(node):\n",
    "    if node is None:\n",
    "        return\n",
    "    queue = Queue()\n",
    "    selected_node = set()\n",
    "    queue.put(node)\n",
    "    selected_node.add(node)\n",
    "    while not queue.empty():\n",
    "        n = queue.get()\n",
    "        print(n.val, end=' ')  # 出队列时处理\n",
    "        # 处理完后, 先处理该节点的所有邻接点, 所以将他们先全部添加到队列中\n",
    "        for wait_node in n.nexts:\n",
    "            # 处理过的节点不要再处理\n",
    "            if wait_node not in selected_node:\n",
    "                selected_node.add(wait_node)\n",
    "                queue.put(wait_node)\n",
    "    print('')\n"
   ]
  },
  {
   "cell_type": "code",
   "execution_count": 105,
   "metadata": {},
   "outputs": [
    {
     "name": "stdout",
     "output_type": "stream",
     "text": [
      "E C A B D F \n"
     ]
    }
   ],
   "source": [
    "matrix = [\n",
    "    ['A', 'B'],\n",
    "    ['A', 'C'],\n",
    "    ['A', 'D'],\n",
    "    ['B', 'C'],\n",
    "    ['D', 'C'],\n",
    "    ['E', 'C'],\n",
    "    ['D', 'F'],\n",
    "]\n",
    "graph = generate_graph(matrix)\n",
    "bfs(graph.nodes.get('E'))"
   ]
  },
  {
   "attachments": {},
   "cell_type": "markdown",
   "metadata": {},
   "source": [
    "# TEST - 深度优先遍历 DFS"
   ]
  },
  {
   "cell_type": "code",
   "execution_count": 106,
   "metadata": {},
   "outputs": [],
   "source": [
    "# 深度优先, 一直逮着一个往下处理, 没得处理了才回退(出栈)\n",
    "def dfs(node):\n",
    "    stack = []\n",
    "    selected_node = set()\n",
    "    stack.append(node)\n",
    "    print(node.val, end=' ')  # 处理时刻\n",
    "    selected_node.add(node)  # 处理后标记起来\n",
    "\n",
    "    while 0 != len(stack):  # stack 为空说明都被处理过了\n",
    "        n = stack.pop()  # 将处理过的拿走。\n",
    "        # 逮着 n 继续往下处理\n",
    "        for next_node in n.nexts:\n",
    "            if next_node not in selected_node:  # 逮着一个没处理过的\n",
    "                stack.append(n)  # 此时还无法确定 n 的 nexts 都处理过了, 所以重新将 n 压栈\n",
    "                stack.append(next_node)  # 拿到 stack 等待处理\n",
    "                print(next_node.val, end=' ')  # 处理时刻\n",
    "                selected_node.add(next_node)  # 处理后标记\n",
    "                break  # 逮着一个就马上处理, 这才是 \"深度优先\"\n",
    "    print('')"
   ]
  },
  {
   "cell_type": "code",
   "execution_count": 107,
   "metadata": {},
   "outputs": [
    {
     "name": "stdout",
     "output_type": "stream",
     "text": [
      "A B D E C \n"
     ]
    }
   ],
   "source": [
    "matrix = [\n",
    "    ['A', 'B'],\n",
    "    ['A', 'C'],\n",
    "    ['B', 'D'],\n",
    "    ['B', 'E'],\n",
    "]\n",
    "graph = generate_graph(matrix)\n",
    "dfs(graph.nodes.get('A'))"
   ]
  },
  {
   "attachments": {},
   "cell_type": "markdown",
   "metadata": {},
   "source": [
    "# [拓扑排序](https://www.nowcoder.com/practice/88f7e156ca7d43a1a535f619cd3f495c)"
   ]
  },
  {
   "cell_type": "code",
   "execution_count": 108,
   "metadata": {},
   "outputs": [],
   "source": [
    "import sys\n",
    "\n",
    "\n",
    "def get_input():\n",
    "    node_num, _ = sys.stdin.readline().split()\n",
    "    node_num = int(node_num)\n",
    "\n",
    "    # 下标就是节点, 值就是该节点的入度。\n",
    "    nodes_ind = [0] * node_num\n",
    "    # 下标就是节点, 值是该节点的邻接点集合。\n",
    "    nodes_nexts = [[] for _ in range(node_num)]\n",
    "\n",
    "    for line in sys.stdin:\n",
    "        fr, to = line.split()\n",
    "        fr, to = int(fr)-1, int(to)-1  # 输入的节点是从 1 开始\n",
    "        nodes_ind[to] += 1\n",
    "        nodes_nexts[fr].append(to)\n",
    "\n",
    "    return nodes_ind, nodes_nexts\n",
    "\n",
    "\n",
    "def topology(nodes_ind, nodes_nexts):\n",
    "\n",
    "    zero_nodes = []  # 存储入度为 0 的节点\n",
    "    result = []  # 存储拓扑排序后的节点\n",
    "\n",
    "    # 初始化 zero_nodes\n",
    "    for node, ind in enumerate(nodes_ind):\n",
    "        if ind == 0:\n",
    "            zero_nodes.append(node)\n",
    "\n",
    "    if len(zero_nodes) == 0:\n",
    "        return []\n",
    "\n",
    "    while len(zero_nodes) != 0:\n",
    "        node = zero_nodes.pop()\n",
    "        result.append(node)\n",
    "        for next_node in nodes_nexts[node]:\n",
    "            nodes_ind[next_node] -= 1   # 消除该节点的入度影响\n",
    "            if nodes_ind[next_node] == 0:   # 每次消除都应该会有新的节点入度为 0\n",
    "                zero_nodes.append(next_node)\n",
    "\n",
    "    return result if len(result) == len(nodes_ind) else []\n",
    "\n",
    "\n",
    "def main():# if __name__ == \"__main__\":\n",
    "\n",
    "    nodes_ind, nodes_nexts = get_input()\n",
    "    result = topology(nodes_ind, nodes_nexts)\n",
    "\n",
    "    print(\n",
    "        ' '.join(str(node+1) for node in result)\n",
    "        if 0 != len(result) else \n",
    "        '-1'\n",
    "    )\n"
   ]
  },
  {
   "attachments": {},
   "cell_type": "markdown",
   "metadata": {},
   "source": [
    "# TEST - 拓扑排序"
   ]
  },
  {
   "cell_type": "code",
   "execution_count": 109,
   "metadata": {},
   "outputs": [],
   "source": [
    "class Graph:\n",
    "    def __init__(self):\n",
    "        self.nodes = {}\n",
    "class Node:\n",
    "    def __init__(self, val):\n",
    "        self.val = val\n",
    "        self.ind = 0 # 入度\n",
    "        self.nexts = [] # 邻接点 集合"
   ]
  },
  {
   "cell_type": "code",
   "execution_count": 110,
   "metadata": {},
   "outputs": [],
   "source": [
    "def generate_graph(matrix):\n",
    "    graph = Graph()\n",
    "    for edge in matrix:\n",
    "        fr, to = edge\n",
    "        if fr not in graph.nodes:\n",
    "            graph.nodes[fr] = Node(fr)\n",
    "        if to not in graph.nodes:\n",
    "            graph.nodes[to] = Node(to)\n",
    "        fr_node, to_node = graph.nodes.get(fr), graph.nodes.get(to)\n",
    "        fr_node.nexts.append(to_node)\n",
    "        to_node.ind += 1\n",
    "    return graph"
   ]
  },
  {
   "cell_type": "code",
   "execution_count": 111,
   "metadata": {},
   "outputs": [],
   "source": [
    "def topology(graph):\n",
    "    ind_map = {} # 存储各节点的入度\n",
    "    zero_nodes = [] # 存储入度为 0 的节点\n",
    "    result = [] # 存储排序后的节点值\n",
    "    # 初始化 ind_map 和 zero_nodes\n",
    "    for node in graph.nodes.values():\n",
    "        ind_map[node] = node.ind\n",
    "        if node.ind == 0:\n",
    "            zero_nodes.append(node)\n",
    "    if len(zero_nodes) == 0:\n",
    "        return []\n",
    "    while len(zero_nodes) != 0:\n",
    "        node = zero_nodes.pop()\n",
    "        result.append(node)\n",
    "        for next_node in node.nexts:\n",
    "            ind_map[next_node] -= 1  # 更新邻接点的入度\n",
    "            if ind_map[next_node] == 0: \n",
    "                zero_nodes.append(next_node) # 更新 zero_nodes\n",
    "    \n",
    "    return result if len(result) == len(ind_map) else []"
   ]
  },
  {
   "cell_type": "code",
   "execution_count": 113,
   "metadata": {},
   "outputs": [
    {
     "name": "stdout",
     "output_type": "stream",
     "text": [
      "C F D E B A "
     ]
    }
   ],
   "source": [
    "matrix = [\n",
    "    ['F', 'E'],\n",
    "    ['F', 'D'],\n",
    "    ['E', 'B'],\n",
    "    ['D', 'B'],\n",
    "    ['C', 'A'],\n",
    "    ['C', 'B'],\n",
    "    ['B', 'A'],\n",
    "]\n",
    "graph =generate_graph(matrix)\n",
    "for node in topology(graph):\n",
    "    print(node.val, end=' ')"
   ]
  },
  {
   "attachments": {},
   "cell_type": "markdown",
   "metadata": {},
   "source": [
    "# [最小生成树 MST]()"
   ]
  },
  {
   "cell_type": "code",
   "execution_count": null,
   "metadata": {},
   "outputs": [],
   "source": [
    "\"\"\" \n",
    "kruskal 算法, 核心在于 edge 的 fr, to 和 w 权值。 而节点只需要有个 val 就行。\n",
    "算法步骤就是, 先将所有变存储在有序表中, 然后每次取出最小边, 判断该边是否导致成环。\n",
    "判断成环的方法就是, 查看该边的两个端点是否是同一个集合, 如果不是, 则加入该边, 同时将两个端点的集合设置为同一个。\n",
    "\n",
    "由于题意只需要最低成本, 所以 \"加入该边\" 就是 \"加上该边的权值(成本)\" \n",
    "而每户人家都是用数字表示, 所以可以利用数组下标作为每户的标识, 数组的值就是对应的集合。\n",
    "初始时每户人家集合都不同, 所以可以直接将值设置为下标值。\n",
    "当合并集合时, 就将两个元素的值修改为同一个**地址**即可。\n",
    "    不过, 即使这样只不过是将哈希表的常数时间优化为数组的常数时间罢了, 时间复杂度还是很高的\n",
    "\n",
    "各路的权值是不变的, 所以存储边不一定得用有序表, 只要保证有序即可。\n",
    "\"\"\"\n",
    "class UnionFind:\n",
    "    def __init__(self, house_num):\n",
    "        # connected_house 的下标就是每户人家, 值为该户人家所在集合中的所有户人家, 初始时, 每个集合内只会自己, 并且不同户的集合不同(创建出的数组地址不同)\n",
    "        self.connected_house = [[house] for house in range(house_num+1)] # 因为每户编号从 1 开始, 所以要加 1\n",
    "\n",
    "    def is_same_set(self, house1, house2):\n",
    "        return self.connected_house[house1] == self.connected_house[house2]\n",
    "\n",
    "    def union(self, house1, house2):\n",
    "        # 将两个集合合并时要注意, 不是简单的合并两户人家, 而是要确保两户人家所在集合中的每户人家都属于同一个集合\n",
    "        \n",
    "        house1_set = self.connected_house[house1]\n",
    "        for house in self.connected_house[house2]:\n",
    "            house1_set.append(house) # 先将 house2 所在集合的所有户人家添加到 house1 集合中\n",
    "            self.connected_house[house] = house1_set # 同时将这些人家的集合重定位到 house1 集合中, 这样以后比较时才会认为这些集合内的人家是同一个集合。\n",
    "\n",
    "\n",
    "\n",
    "def kruskal(house_num, road_cost):\n",
    "    union_find = UnionFind(house_num) # 并查集\n",
    "    tco = 0 # 总成本\n",
    "    # 对 road_cost 排序, 按成本从高到低排序, 因为我们会先取出最后一个。 \n",
    "    ordered_road_cost = sorted(road_cost, key=lambda x: 0-x[2]) # road_cost 中每个元素为 [house1, house2, 修路成本]\n",
    "    while 0 != len(ordered_road_cost):\n",
    "        house1, house2, cost = ordered_road_cost.pop() # 每次取出最小的\n",
    "        if not union_find.is_same_set(house1, house2): # 判断路两端的两户人家是否连通\n",
    "            tco += cost # 不连通, 则修建这条路\n",
    "            union_find.union(house1, house2) # 同时将这两户人家所在的两个集合连通。\n",
    "    return tco"
   ]
  },
  {
   "attachments": {},
   "cell_type": "markdown",
   "metadata": {},
   "source": [
    "# TEST - 最小生成树 MST"
   ]
  },
  {
   "attachments": {},
   "cell_type": "markdown",
   "metadata": {},
   "source": [
    "## Kruskal"
   ]
  },
  {
   "cell_type": "code",
   "execution_count": 180,
   "metadata": {},
   "outputs": [],
   "source": [
    "class Graph:\n",
    "    def __init__(self):\n",
    "        self.nodes = {}\n",
    "        self.edges = set()\n",
    "class Node:\n",
    "    def __init__(self, val):\n",
    "        self.val = val \n",
    "class Edge:\n",
    "    def __init__(self, fr, to, w):\n",
    "        self.fr = fr \n",
    "        self.to = to \n",
    "        self.w = w # 权值 \n",
    "    def __lt__(self, other):\n",
    "        return self.w < other.w"
   ]
  },
  {
   "cell_type": "code",
   "execution_count": 181,
   "metadata": {},
   "outputs": [],
   "source": [
    "# [n1, n2, w] 双向边\n",
    "def generate_graph(matrix):\n",
    "    graph = Graph()\n",
    "    for edge in matrix:\n",
    "        n1, n2, w = edge \n",
    "        if n1 not in graph.nodes:\n",
    "            graph.nodes[n1] = Node(n1)\n",
    "        if n2 not in graph.nodes:\n",
    "            graph.nodes[n2] = Node(n2)\n",
    "        # 获取节点\n",
    "        n1_node, n2_node = graph.nodes.get(n1), graph.nodes.get(n2)\n",
    "        # 创建边, 两条!\n",
    "        e1, e2 = Edge(n1_node, n2_node, w), Edge(n2_node, n1_node, w)\n",
    "        # 添加边, 两个节点都要!\n",
    "        graph.edges.add(e1); graph.edges.add(e2)\n",
    "    return graph\n"
   ]
  },
  {
   "cell_type": "code",
   "execution_count": 182,
   "metadata": {},
   "outputs": [],
   "source": [
    "class SimpleUnionFind:\n",
    "    def __init__(self, nodes):\n",
    "        # key 是某个集合中的一个代表性节点, 随意\n",
    "        # value 是节点集合, 表示这些节点都是同一个集合\n",
    "        self.set_map = {}\n",
    "        # 为每一个节点都创建一个集合, 此时每个节点都不连通\n",
    "        for node in nodes:\n",
    "            _set = set()\n",
    "            _set.add(node)\n",
    "            self.set_map[node] = _set\n",
    "\n",
    "    def is_same_set(self, fr, to):\n",
    "        fr_set = self.set_map.get(fr)\n",
    "        to_set = self.set_map.get(to)\n",
    "        return fr_set == to_set\n",
    "\n",
    "    def union(self, fr, to):\n",
    "        fr_set = self.set_map.get(fr)\n",
    "        to_set = self.set_map.get(to)\n",
    "        for to_node in to_set:\n",
    "            fr_set.add(to_node)\n",
    "            # 以后访问 to_set 中的每一个节点 to_node 时, 都是发现 to_node 和 fr_set 中的节点相同, 即属于同一个集合\n",
    "            self.set_map[to_node] = fr_set\n"
   ]
  },
  {
   "cell_type": "code",
   "execution_count": 183,
   "metadata": {},
   "outputs": [],
   "source": [
    "from queue import PriorityQueue\n",
    "\n",
    "def kruskal(graph):\n",
    "    # 为图中每一个节点都生成属于自己的集合\n",
    "    union_find = SimpleUnionFind(graph.nodes.values())\n",
    "    # 优先级队列, 按权值从小到大顺序存储图的边\n",
    "    priority_queue = PriorityQueue()\n",
    "    for edge in graph.edges:\n",
    "        priority_queue.put(edge)\n",
    "    mst_edges = set() # 生成树\n",
    "    while not priority_queue.empty():\n",
    "        # 每次取出最小边\n",
    "        edge = priority_queue.get()\n",
    "        # 判断该边是否会导致生成树成环\n",
    "        if not union_find.is_same_set(edge.fr, edge.to):\n",
    "            # 不成环, 可以添加该边。\n",
    "            mst_edges.add(edge)\n",
    "            # 加入该边后, 要将两段节点合并为一个集合\n",
    "            union_find.union(edge.fr, edge.to)\n",
    "    return mst_edges "
   ]
  },
  {
   "cell_type": "code",
   "execution_count": 184,
   "metadata": {},
   "outputs": [
    {
     "name": "stdout",
     "output_type": "stream",
     "text": [
      "16\n"
     ]
    }
   ],
   "source": [
    "road_cost = [[5,3,8],[1,3,6],[2,5,4],[2,3,5],[4,5,6],[3,4,3],[2,4,8],[1,2,2],[1,4,5],[5,6,2]]\n",
    "graph = generate_graph(road_cost)\n",
    "tco = 0\n",
    "for edge in kruskal(graph):\n",
    "    tco += edge.w \n",
    "print(tco)"
   ]
  },
  {
   "attachments": {},
   "cell_type": "markdown",
   "metadata": {},
   "source": [
    "## Prim "
   ]
  },
  {
   "cell_type": "code",
   "execution_count": 174,
   "metadata": {},
   "outputs": [],
   "source": [
    "class Graph:\n",
    "    def __init__(self):\n",
    "        self.nodes = {}\n",
    "class Node:\n",
    "    def __init__(self, val):\n",
    "        self.val = val # 值还是保存着, 虽然没什么用。\n",
    "        self.edges = []\n",
    "class Edge:\n",
    "    def __init__(self, to, w): # Prim 算法不在乎这条边的 from 点, 只在乎 to 点\n",
    "        self.to = to \n",
    "        self.w = w # 权值 \n",
    "    def __lt__(self, other):\n",
    "        return self.w < other.w"
   ]
  },
  {
   "cell_type": "code",
   "execution_count": 175,
   "metadata": {},
   "outputs": [],
   "source": [
    "# [n1, n2, w] 双向边\n",
    "def generate_graph(matrix):\n",
    "    graph = Graph()\n",
    "    for edge in matrix:\n",
    "        n1, n2, w = edge \n",
    "        if n1 not in graph.nodes:\n",
    "            graph.nodes[n1] = Node(n1)\n",
    "        if n2 not in graph.nodes:\n",
    "            graph.nodes[n2] = Node(n2)\n",
    "        # 获取节点\n",
    "        n1_node, n2_node = graph.nodes.get(n1), graph.nodes.get(n2)\n",
    "        # 创建边, 两条!\n",
    "        e1, e2 = Edge(n1_node, w), Edge(n2_node, w)\n",
    "        # 添加边, n1 要有指向 n2 的边, n2 要有指向 n1 的边\n",
    "        n1_node.edges.append(e2); n2_node.edges.append(e1)\n",
    "    return graph\n"
   ]
  },
  {
   "cell_type": "code",
   "execution_count": 178,
   "metadata": {},
   "outputs": [],
   "source": [
    "from queue import PriorityQueue\n",
    "\n",
    "def prim(graph):\n",
    "    pq = PriorityQueue() # 存储被解锁(可供选择)的边, 可以按从小到大次序取出\n",
    "    mst_nodes_set = set() # 存储 MST 节点\n",
    "    mst_edges_set = set() # 存储 MST 边\n",
    "\n",
    "    for node in graph.nodes.values(): # 这个 for 循环是处理 graph 中存在多片不连通的区域的情况\n",
    "        if node not in mst_nodes_set:\n",
    "\n",
    "            mst_nodes_set.add(node) # 随机添加一个点\n",
    "            for edge in node.edges:\n",
    "                pq.put(edge)  # 添加一个点后, 将会解锁一些边\n",
    "            \n",
    "            # 以该边为起始, 依次将所有可连通的节点依次添加进 MST\n",
    "            while not pq.empty():\n",
    "                edge = pq.get() # 每次取出一条权值最小的边\n",
    "                to_node = edge.to\n",
    "                if to_node not in mst_nodes_set: # 要求该边的 to 端不是 mst 内部的节点\n",
    "                    mst_nodes_set.add(to_node)\n",
    "                    mst_edges_set.add(edge)\n",
    "                    # 新增一个点, 解锁一些边。 虽然可能会加入一些已经被选取的边, 但不影响结果。 只是常数时间稍微慢了点\n",
    "                    for new_edge in to_node.edges:\n",
    "                        pq.put(new_edge)\n",
    "    return mst_edges_set"
   ]
  },
  {
   "cell_type": "code",
   "execution_count": 179,
   "metadata": {},
   "outputs": [
    {
     "name": "stdout",
     "output_type": "stream",
     "text": [
      "16\n"
     ]
    }
   ],
   "source": [
    "road_cost = [[5,3,8],[1,3,6],[2,5,4],[2,3,5],[4,5,6],[3,4,3],[2,4,8],[1,2,2],[1,4,5],[5,6,2]]\n",
    "graph = generate_graph(road_cost)\n",
    "tco = 0\n",
    "for edge in prim(graph):\n",
    "    tco += edge.w \n",
    "print(tco)"
   ]
  },
  {
   "attachments": {},
   "cell_type": "markdown",
   "metadata": {},
   "source": [
    "# [Dijkstra 算法最短路径](https://www.nowcoder.com/practice/7c1740c3d4ba4b3486df4847ee6e8fc7)"
   ]
  },
  {
   "cell_type": "code",
   "execution_count": null,
   "metadata": {},
   "outputs": [],
   "source": [
    "import sys\n",
    "import heapq\n",
    "input = sys.stdin.readline\n",
    "\n",
    "\n",
    "def run(start=1):\n",
    "\n",
    "    find, m = map(int, input().split())\n",
    "    node_nexts = [[] for _ in range(5001)] # 存储每个节点的邻接点 nexts 和到邻接点的距离 \n",
    "    for _ in range(m):  # 输出的条数有大于 m 的情况\n",
    "        n1, n2, w = map(int, input().split())\n",
    "        node_nexts[n1].append((n2, w))\n",
    "        node_nexts[n2].append((n1, w))\n",
    "\n",
    "    \"\"\" dijkstra \"\"\"\n",
    "    dist_table = [None] * 5001 # 节点数最多是 5000, 并且节点编号是递增的\n",
    "    dist_table[start] = 0\n",
    "    wait_table = [[0, 1]]  # [邻接点距离, 邻接点], 因为要排序, 所以将距离放在首位。\n",
    "    while len(wait_table) != 0:\n",
    "        to_dist, to = heapq.heappop(wait_table)\n",
    "\n",
    "        if to == find:\n",
    "            print(to_dist)\n",
    "            return\n",
    "\n",
    "        for next_node, next_dist in node_nexts[to]:\n",
    "            old_dist = dist_table[next_node]\n",
    "            new_dist = to_dist + next_dist\n",
    "            if old_dist is None or new_dist < old_dist:\n",
    "                dist_table[next_node] = new_dist\n",
    "                heapq.heappush(wait_table, [new_dist, next_node])\n",
    "    print(-1)\n"
   ]
  },
  {
   "attachments": {},
   "cell_type": "markdown",
   "metadata": {},
   "source": [
    "# TEST - Dijkstra 算法 - 最短路径"
   ]
  },
  {
   "cell_type": "code",
   "execution_count": 195,
   "metadata": {},
   "outputs": [],
   "source": [
    "class Graph:\n",
    "    def __init__(self):\n",
    "        self.nodes = {}\n",
    "        self.edges = set()\n",
    "class Node:\n",
    "    def __init__(self, val):\n",
    "        self.val = val \n",
    "        self.edges = []\n",
    "class Edge:\n",
    "    def __init__(self, to, w):\n",
    "        self.to = to\n",
    "        self.w = w"
   ]
  },
  {
   "cell_type": "code",
   "execution_count": 201,
   "metadata": {},
   "outputs": [],
   "source": [
    "def generate_graph(matrix):\n",
    "    graph = Graph()\n",
    "    for n1, n2, w in matrix: # 无向边\n",
    "        if n1 not in graph.nodes:\n",
    "            graph.nodes[n1] = Node(n1)\n",
    "        if n2 not in graph.nodes:\n",
    "            graph.nodes[n2] = Node(n2)\n",
    "        n1_node, n2_node = graph.nodes.get(n1), graph.nodes.get(n2)\n",
    "        e1, e2 = Edge(n1_node, w), Edge(n2_node, w)\n",
    "        graph.edges.add(e1); graph.edges.add(e2)\n",
    "        n1_node.edges.append(e2); n2_node.edges.append(e1)\n",
    "    return graph"
   ]
  },
  {
   "cell_type": "code",
   "execution_count": 204,
   "metadata": {},
   "outputs": [],
   "source": [
    "def dijkstra(start):\n",
    "    distance_map = {}  # 存储 start 节点到其他所有节点的最短距离, 没有该节点则表示距离是无穷大\n",
    "    distance_map[start] = 0  # 到自己的距离是 0\n",
    "    lock_node_set = set()  # 因为距离没有负值, 所以已确定的最短距离是不会再改变的\n",
    "\n",
    "    shorted_node = get_shorted_but_unlock_node(distance_map, lock_node_set)\n",
    "\n",
    "    while shorted_node is not None:  # 当 distance_map 中的每个节点都被锁定时, shorted_node 将会是 None\n",
    "        # 每次选出的最短距离节点, 都代表该节点的距离不会再变短了, 所以可以锁定。\n",
    "        # 但在锁定前, 要利用这个最短距离, 计算出下一个最短距离, 即更新其他节点的最短距离\n",
    "        distance = distance_map[shorted_node]\n",
    "\n",
    "        for edge in shorted_node.edges:\n",
    "            old_distance = distance_map.get(edge.to)\n",
    "            new_distance = distance + edge.w  # 利用 shorted_node 为跳板所计算出的新距离\n",
    "            # 如果边的 to 端节点不在 distance_map 中, 表示 to 节点的距离是无穷, 所以无需与旧值比较, 直接更新\n",
    "            if old_distance is None or new_distance < old_distance:\n",
    "                distance_map[edge.to] = new_distance\n",
    "        # 利用完这个最短距离节点后, 就将其锁定, 然后获取下一个最短距离节点\n",
    "        lock_node_set.add(shorted_node)\n",
    "        shorted_node = get_shorted_but_unlock_node(distance_map, lock_node_set)\n",
    "    return distance_map\n",
    "\n",
    "\n",
    "def get_shorted_but_unlock_node(distance_map, lock_node_set):\n",
    "    shorted_node = None\n",
    "    for node in distance_map:\n",
    "        if (node not in lock_node_set) and (shorted_node is None or distance_map[node] < distance_map[shorted_node]):\n",
    "            shorted_node = node\n",
    "    return shorted_node\n"
   ]
  },
  {
   "cell_type": "code",
   "execution_count": 215,
   "metadata": {},
   "outputs": [
    {
     "name": "stdout",
     "output_type": "stream",
     "text": [
      "8\n"
     ]
    }
   ],
   "source": [
    "matrix = [\n",
    "['1','2',3],\n",
    "['2','4',7],\n",
    "['3','4',5],\n",
    "['3','1',3],\n",
    "]\n",
    "graph =generate_graph(matrix)\n",
    "distance_map = dijkstra(graph.nodes.get('1'))\n",
    "print(distance_map.get(graph.nodes.get('4')))"
   ]
  },
  {
   "cell_type": "code",
   "execution_count": 212,
   "metadata": {},
   "outputs": [
    {
     "name": "stdout",
     "output_type": "stream",
     "text": [
      "A 0\n",
      "B 3\n",
      "C 5\n",
      "D 9\n",
      "E 19\n"
     ]
    }
   ],
   "source": [
    "matrix = [\n",
    "    ['A', 'B', 3],\n",
    "    ['A', 'C', 15],\n",
    "    ['A', 'D', 9],\n",
    "    ['B', 'C', 2],\n",
    "    ['D', 'C', 7],\n",
    "    ['D', 'E', 16],\n",
    "    ['C', 'E', 14],\n",
    "    ['B', 'E', 200],\n",
    "]\n",
    "graph = generate_graph(matrix)\n",
    "distance_map = dijkstra(graph.nodes.get('A'))\n",
    "for to in distance_map:\n",
    "    print(to.val, distance_map.get(to))"
   ]
  }
 ],
 "metadata": {
  "kernelspec": {
   "display_name": "Python 3",
   "language": "python",
   "name": "python3"
  },
  "language_info": {
   "codemirror_mode": {
    "name": "ipython",
    "version": 3
   },
   "file_extension": ".py",
   "mimetype": "text/x-python",
   "name": "python",
   "nbconvert_exporter": "python",
   "pygments_lexer": "ipython3",
   "version": "3.11.0"
  },
  "orig_nbformat": 4
 },
 "nbformat": 4,
 "nbformat_minor": 2
}
