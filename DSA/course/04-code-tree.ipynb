{
 "cells": [
  {
   "cell_type": "code",
   "execution_count": 1,
   "metadata": {},
   "outputs": [],
   "source": [
    "from queue import Queue\n",
    "from random import randint as r\n",
    "from time import time as t\n",
    "\n",
    "\n",
    "class TreeNode:\n",
    "    def __init__(self, x):\n",
    "        self.val = x\n",
    "        self.left = None\n",
    "        self.right = None\n"
   ]
  },
  {
   "cell_type": "code",
   "execution_count": 2,
   "metadata": {},
   "outputs": [],
   "source": [
    "def v(max_value):\n",
    "    return r(-max_value, max_value)\n",
    "\n",
    "\n",
    "def generate_full_binary_tree(deep=3, max_value=10):\n",
    "    if deep < 1:\n",
    "        return None\n",
    "    p = root = TreeNode(v(max_value))\n",
    "    # 先在纸上画出你想要的创建过程, 然后尝试将它 coding, coding 出来后再整理出核心内容\n",
    "    # 利用栈结构创建满二叉树。\n",
    "    # 核心: 每一个节点都会放入栈中判断, 只有当节点满足以下要求时才允许将该节点弹出。\n",
    "    #       对于叶节点, 可以直接弹出。 判断是否是叶子节点的方式是当前节点的深度是否满足\n",
    "    #       对于非叶节点, 要求其左右两个子节点都不为空。\n",
    "    # 栈的长度就是二叉树的深度\n",
    "    stack = []\n",
    "    stack.append(p)\n",
    "    while len(stack) != 0:\n",
    "        p = stack[-1]\n",
    "        if len(stack) >= deep:\n",
    "            # 达到深度, 说明是叶节点, 可以出栈\n",
    "            stack.pop()\n",
    "        elif p.left is None:\n",
    "            # 没有左子节点, 则创建左子节点\n",
    "            p.left = TreeNode(v(max_value))\n",
    "            stack.append(p.left)\n",
    "        elif p.right is None:\n",
    "            # 没有右子节点, 则创建右子节点\n",
    "            p.right = TreeNode(v(max_value))\n",
    "            stack.append(p.right)\n",
    "        else:\n",
    "            # 不是叶节点, 同时有两个子节点, 可以出栈\n",
    "            stack.pop()\n",
    "    return root\n",
    "\n",
    "\n",
    "def generate_random_binary_tree(deep=3, max_value=10):\n",
    "    if deep < 1:\n",
    "        return None\n",
    "    p = root = TreeNode(v(max_value))\n",
    "    stack = []\n",
    "    stack.append(p)\n",
    "    while len(stack) != 0:\n",
    "        p = stack[-1]\n",
    "        if r(0, 9) == 1 and len(stack) >= deep:\n",
    "            # 达到深度, 说明是叶节点, 可以出栈\n",
    "            stack.pop()\n",
    "        elif r(0, 1) == 1 and p.left is None:\n",
    "            # 没有左子节点, 则创建左子节点\n",
    "            p.left = TreeNode(v(max_value))\n",
    "            stack.append(p.left)\n",
    "        elif r(0, 1) == 1 and p.right is None:\n",
    "            # 没有右子节点, 则创建右子节点\n",
    "            p.right = TreeNode(v(max_value))\n",
    "            stack.append(p.right)\n",
    "        else:\n",
    "            # 不是叶节点, 同时有两个子节点, 可以出栈。 或者\"中奖\"了, 也可以出栈\n",
    "            stack.pop()\n",
    "    return root\n",
    "\n",
    "\n",
    "def generate_binary_tree(max_deep=10, max_value=20):\n",
    "    deep = r(0, max_deep)\n",
    "    if deep == 0:\n",
    "        return None\n",
    "    if deep == 1:\n",
    "        return TreeNode(v(max_value))\n",
    "\n",
    "    if r(0, 5) < 1:\n",
    "        # 生成满二叉树\n",
    "        return generate_full_binary_tree(deep, max_value)\n",
    "    else:\n",
    "        # 随机生成二叉树\n",
    "        return generate_random_binary_tree(deep, max_value)\n"
   ]
  },
  {
   "attachments": {},
   "cell_type": "markdown",
   "metadata": {},
   "source": [
    "# TEST - 二叉树(非)递归序"
   ]
  },
  {
   "attachments": {},
   "cell_type": "markdown",
   "metadata": {},
   "source": [
    "## 实现"
   ]
  },
  {
   "cell_type": "code",
   "execution_count": 3,
   "metadata": {},
   "outputs": [],
   "source": [
    "def recursion_binary_tree(root, order, print_arr):\n",
    "    if root is None:\n",
    "        return\n",
    "    print_arr.append(root.val) if order == 'pre' else None\n",
    "\n",
    "    recursion_binary_tree(root.left, order, print_arr) # 判不判断 root.left 是否为 None 都可以\n",
    "    print_arr.append(root.val) if order == 'in' else None\n",
    "\n",
    "    recursion_binary_tree(root.right, order, print_arr)\n",
    "    print_arr.append(root.val) if order == 'pos' else None\n",
    "\n",
    "\n",
    "def non_recursion_binary_tree(root, order, print_arr):\n",
    "    if root is None:\n",
    "        return\n",
    "    if order == 'pre':\n",
    "        pre_order_binary_tree(root, print_arr)\n",
    "    elif order == 'in':\n",
    "        in_order_binary_tree(root, print_arr)\n",
    "    else:\n",
    "        pos_order_binary_tree(root, print_arr)\n",
    "\n",
    "\n",
    "def pre_order_binary_tree(root, print_arr):\n",
    "    stack = [root]\n",
    "    while len(stack) != 0:\n",
    "        head = stack.pop() # 头节点的使命(打印, 找到子节点)在一个循环中就能完成, 所以不需要继续保存头节点\n",
    "        print_arr.append(head.val) \n",
    "        # 我们是在出栈时打印, 所以先打印的东西要后压栈, 后打印的东西要先压栈\n",
    "        stack.append(head.right) if head.right is not None else None\n",
    "        stack.append(head.left) if head.left is not None else None\n",
    "\n",
    "\n",
    "def in_order_binary_tree(root, print_arr):\n",
    "    stack = []\n",
    "    p = root\n",
    "    # 栈空时, 表示根节点的左部都完成了, 此时 p 为根节点的右子节点。 所以还不可以出栈\n",
    "    while len(stack) != 0 or p is not None: \n",
    "        if p is not None:\n",
    "            # 不断将左边界压栈\n",
    "            stack.append(p)\n",
    "            p = p.left\n",
    "        else:\n",
    "            # 左边界压完了, \"头\" 的使命也就结束了, 于是 \"头\" 出栈\n",
    "            p = stack.pop()\n",
    "            print_arr.append(p.val)\n",
    "            # 同时 \"头\" 给出右子节点的位置\n",
    "            p = p.right\n",
    "\n",
    "\n",
    "def pos_order_binary_tree(root, print_arr):\n",
    "    stack = [root]\n",
    "    collect = [] # 收集要要打印的元素\n",
    "    while len(stack) != 0:\n",
    "        head = stack.pop()\n",
    "        collect.append(head) # 将打印换成入栈\n",
    "        # 压栈顺序变为先左后右\n",
    "        stack.append(head.left) if head.left is not None else None\n",
    "        stack.append(head.right) if head.right is not None else None\n",
    "    # 前面和先序遍历一样, 然后将内容从栈中\n",
    "    while len(collect) != 0:\n",
    "        print_arr.append(collect.pop().val)\n"
   ]
  },
  {
   "attachments": {},
   "cell_type": "markdown",
   "metadata": {},
   "source": [
    "## 测试"
   ]
  },
  {
   "cell_type": "code",
   "execution_count": 4,
   "metadata": {},
   "outputs": [
    {
     "name": "stdout",
     "output_type": "stream",
     "text": [
      "( 3.68s)(非)递归遍历 ✔️\n"
     ]
    }
   ],
   "source": [
    "test_time, max_size, max_value, succeed = 10_000, 10, 200, True\n",
    "\n",
    "st = t()\n",
    "for _ in range(test_time):\n",
    "    root = generate_binary_tree(max_size, max_value)\n",
    "    pre1, pre2 = [], []\n",
    "    recursion_binary_tree(root, 'pre', pre1)\n",
    "    non_recursion_binary_tree(root, 'pre', pre2)\n",
    "    pos1, pos2 = [], []\n",
    "    recursion_binary_tree(root, 'pos', pos1)\n",
    "    non_recursion_binary_tree(root, 'pos', pos2)\n",
    "    in1, in2 = [], []\n",
    "    recursion_binary_tree(root, 'in', in1)\n",
    "    non_recursion_binary_tree(root, 'in', in2)\n",
    "\n",
    "    if pre1 != pre2 or pos1 != pos2 or in1 != in2 :\n",
    "        succeed = False\n",
    "        break\n",
    "print(f'({t()-st:5.2f}s)(非)递归遍历', '✔️' if succeed else '❌')\n"
   ]
  },
  {
   "attachments": {},
   "cell_type": "markdown",
   "metadata": {},
   "source": [
    "# 二叉树宽度遍历"
   ]
  },
  {
   "cell_type": "code",
   "execution_count": 5,
   "metadata": {},
   "outputs": [
    {
     "name": "stdout",
     "output_type": "stream",
     "text": [
      "10 9 8 7 6 5 4 3 2 1 "
     ]
    }
   ],
   "source": [
    "def t4f1():\n",
    "    return True if r(1, 5) != 5 else False\n",
    "\n",
    "\n",
    "def traversal_generate_binary_tree(size=10):\n",
    "    root = TreeNode(size)\n",
    "    size -= 1\n",
    "    queue = Queue()\n",
    "    queue.put(root)\n",
    "    while size > 0:\n",
    "        # 依次从队列中取出节点, 然后为其随机生成两个子节点, 同时将子节点填入队列中\n",
    "        cur = queue.get()\n",
    "        if t4f1():\n",
    "            cur.left = TreeNode(size)\n",
    "            size -= 1\n",
    "            queue.put(cur.left)\n",
    "        if t4f1():\n",
    "            cur.right = TreeNode(size)\n",
    "            size -= 1\n",
    "            queue.put(cur.right)\n",
    "    return root\n",
    "\n",
    "\n",
    "def binary_tree_traversal(root):\n",
    "    if root is None:\n",
    "        return\n",
    "    queue = Queue()\n",
    "    queue.put(root)\n",
    "    while not queue.empty():\n",
    "        cur = queue.get()\n",
    "        print(cur.val, end=' ')\n",
    "        if cur.left is not None:\n",
    "            queue.put(cur.left)\n",
    "        if cur.right is not None:\n",
    "            queue.put(cur.right)\n",
    "\n",
    "binary_tree_traversal(traversal_generate_binary_tree())"
   ]
  },
  {
   "attachments": {},
   "cell_type": "markdown",
   "metadata": {},
   "source": [
    "# TEST - 二叉树最大宽度"
   ]
  },
  {
   "attachments": {},
   "cell_type": "markdown",
   "metadata": {},
   "source": [
    "## 实现"
   ]
  },
  {
   "cell_type": "code",
   "execution_count": 6,
   "metadata": {},
   "outputs": [],
   "source": [
    "def binary_tree_max_width1(root):\n",
    "    max_w = 0 # 最大宽度\n",
    "    if root is None:\n",
    "        return max_w\n",
    "    queue = Queue()\n",
    "    queue.put(root)\n",
    "\n",
    "    level_map = {} # 存储每个节点所在的层数\n",
    "    level_map[root] = 1 # root 的层数是第一层\n",
    "    store_level = 1 # 记录弹出元素前位于第几层\n",
    "    store_w = 0 # 统计当前层宽度。 弹出元素时加 1\n",
    "    while not queue.empty():\n",
    "        cur = queue.get()\n",
    "        if store_level == level_map[cur]:\n",
    "            # 还在同一层, 宽度(节点数)加1\n",
    "            store_w += 1\n",
    "        else:\n",
    "            # 弹出元素层级和记录的层级不同, 说明当前循环已经进去下一层\n",
    "            store_level += 1\n",
    "            max_w = max(store_w, max_w)\n",
    "            store_w = 1 # 新一层的第一个元素已经弹出\n",
    "\n",
    "        # 前面代码能成立的条件是, 通过 map 同理了每个节点的层数\n",
    "        if cur.left is not None:\n",
    "            # 在将新节点加到队列中时, 存储该节点的对应层数; 该节点的层数等于其父节点的层数+1\n",
    "            level_map[cur.left] = level_map[cur] + 1\n",
    "            queue.put(cur.left)\n",
    "        if cur.right is not None:\n",
    "            level_map[cur.right] = level_map[cur] + 1\n",
    "            queue.put(cur.right)\n",
    "    # 遍历完最后一层后, 再\"结算\"一下。\n",
    "    max_w = max(store_w, max_w)\n",
    "    return max_w\n",
    "\n",
    "\n",
    "def binary_tree_max_width2(root):\n",
    "    max_w = 0\n",
    "    if root is None:\n",
    "        return max_w\n",
    "\n",
    "    queue = Queue()  # 利用队列实现层级遍历\n",
    "    queue.put(root)  # 队列初始值为根节点。 后续通过判断队列是否为空来退出循环\n",
    "    cur_end = root  # 当前层的最后节点\n",
    "    next_end = None  # 下一层的最后节点\n",
    "    cur_w = 0 # 当前层节点数量\n",
    "\n",
    "    while not queue.empty(): # 队列为空, 则遍历完毕\n",
    "        # 每次都弹出一个元素\n",
    "        cur = queue.get()\n",
    "        cur_w += 1\n",
    "        # 弹出一个元素的同时, 按从左到右的次序依次将子节点放入队列中\n",
    "        if cur.left is not None:\n",
    "            next_end = cur.left # 下一层的最后节点在加入子节点的过程中产出, 谁留到最后谁就是下层最后节点\n",
    "            queue.put(cur.left)\n",
    "        if cur.right is not None:\n",
    "            next_end = cur.right\n",
    "            queue.put(cur.right)\n",
    "        # 判断弹出的元素是否是当前层最后节点\n",
    "        if cur is cur_end:\n",
    "            # 如果是, 则整理当前层信息\n",
    "            max_w = max(max_w, cur_w)\n",
    "            # 同时准备下一层信息\n",
    "            cur_w = 0\n",
    "            cur_end = next_end\n",
    "            next_end = None\n",
    "\n",
    "    return max_w"
   ]
  },
  {
   "attachments": {},
   "cell_type": "markdown",
   "metadata": {},
   "source": [
    "## 测试"
   ]
  },
  {
   "cell_type": "code",
   "execution_count": 7,
   "metadata": {},
   "outputs": [
    {
     "name": "stdout",
     "output_type": "stream",
     "text": [
      "( 6.47s)最大宽度 ✔️\n"
     ]
    }
   ],
   "source": [
    "test_time, max_size, max_value, succeed = 10_000, 10, 200, True\n",
    "\n",
    "st = t()\n",
    "for _ in range(test_time):\n",
    "    root = generate_binary_tree(max_size, max_value)\n",
    "\n",
    "    if binary_tree_max_width1(root) != binary_tree_max_width2(root):\n",
    "        succeed = False\n",
    "        break\n",
    "print(f'({t()-st:5.2f}s)最大宽度', '✔️' if succeed else '❌')\n"
   ]
  },
  {
   "attachments": {},
   "cell_type": "markdown",
   "metadata": {},
   "source": [
    "# 刷题"
   ]
  },
  {
   "attachments": {},
   "cell_type": "markdown",
   "metadata": {},
   "source": [
    "## [返回二叉树层序遍历的结果](https://www.nowcoder.com/practice/04a5560e43e24e9db4595865dc9c63a3)"
   ]
  },
  {
   "cell_type": "code",
   "execution_count": 8,
   "metadata": {},
   "outputs": [],
   "source": [
    "\n",
    "def level_order(root):\n",
    "    if root is None:\n",
    "        return []\n",
    "\n",
    "    queue = Queue()\n",
    "    queue.put(root)\n",
    "\n",
    "    curEnd = root # 当前层的最后节点\n",
    "    nextEnd = None  # 下一层的最后节点\n",
    "    curNodes = [] # 当前层所有节点\n",
    "    res = []\n",
    "    \n",
    "    while not queue.empty():\n",
    "        # 弹出元素\n",
    "        cur = queue.get()\n",
    "        curNodes.append(cur.val)\n",
    "\n",
    "        if cur.left is not None:\n",
    "            # 每次加入新元素时, 更新 nextEnd\n",
    "            nextEnd = cur.left\n",
    "            queue.put(cur.left)\n",
    "\n",
    "        if cur.right is not None:\n",
    "            nextEnd = cur.right\n",
    "            queue.put(cur.right)\n",
    "\n",
    "        # 判断弹出的元素是否是当前层的最后节点\n",
    "        if cur is curEnd:\n",
    "            # 当前层遍历结束\n",
    "            curEnd = nextEnd\n",
    "            nextEnd = None\n",
    "            res.append(curNodes)\n",
    "            curNodes = []\n",
    "\n",
    "\n",
    "    return res"
   ]
  },
  {
   "cell_type": "code",
   "execution_count": 9,
   "metadata": {},
   "outputs": [],
   "source": [
    "\n",
    "def level_order2(root):\n",
    "    res = []\n",
    "    if root is None:\n",
    "        return res\n",
    "    res.append([])\n",
    "    queue = Queue()\n",
    "    queue.put(root)\n",
    "    level_map = {} # 保存各节点层数信息\n",
    "    level_map[root] = 1\n",
    "    cur_level = 1 # 初始层级是 1\n",
    "    \n",
    "    while not queue.empty():\n",
    "        cur = queue.get()\n",
    "\n",
    "        if level_map[cur] != cur_level: # 已进入下一层\n",
    "            cur_level += 1 # 更新层数\n",
    "            res.append([cur.val]) # 存储新层级的节点\n",
    "        else: # 还在当前层\n",
    "            res[len(res)-1].append(cur.val)\n",
    "\n",
    "        if cur.left is not None:\n",
    "            level_map[cur.left] = level_map[cur] +1\n",
    "            queue.put(cur.left)\n",
    "        if cur.right is not None:\n",
    "            level_map[cur.right] = level_map[cur] +1\n",
    "            queue.put(cur.right)\n",
    "\n",
    "    return res"
   ]
  },
  {
   "cell_type": "code",
   "execution_count": 10,
   "metadata": {},
   "outputs": [
    {
     "data": {
      "text/plain": [
       "[[1], [2, 3], [4, 5, 6, 7]]"
      ]
     },
     "execution_count": 10,
     "metadata": {},
     "output_type": "execute_result"
    }
   ],
   "source": [
    "root = TreeNode(1)\n",
    "root.left = TreeNode(2)\n",
    "root.right = TreeNode(3)\n",
    "root.left.left = TreeNode(4)\n",
    "root.left.right = TreeNode(5)\n",
    "root.right.left = TreeNode(6)\n",
    "root.right.right = TreeNode(7)\n",
    "\n",
    "level_order2(root)"
   ]
  }
 ],
 "metadata": {
  "kernelspec": {
   "display_name": "Python 3",
   "language": "python",
   "name": "python3"
  },
  "language_info": {
   "codemirror_mode": {
    "name": "ipython",
    "version": 3
   },
   "file_extension": ".py",
   "mimetype": "text/x-python",
   "name": "python",
   "nbconvert_exporter": "python",
   "pygments_lexer": "ipython3",
   "version": "3.11.0"
  },
  "orig_nbformat": 4
 },
 "nbformat": 4,
 "nbformat_minor": 2
}
